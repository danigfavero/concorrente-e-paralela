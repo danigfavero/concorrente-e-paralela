{
 "cells": [
  {
   "cell_type": "markdown",
   "metadata": {},
   "source": [
    "# MiniEP3 - Aproximação de Integrais usando Médias e Amostragem Uniforme, com a biblioteca *pthreads*\n",
    "\n",
    "## Entrega do miniEP3\n",
    "\n",
    "Preencha o nome dos 5 membros do seu grupo na tabela abaixo:\n",
    "\n",
    "| Nome | NUSP |\n",
    "|------|------|\n",
    "| Carolina Marques | 10737101 |\n",
    "| Daniela Favero | 10277443 |\n",
    "| Miguel Ostrowski | 10723610 |\n",
    "| Raphael Ribeiro | 10281601 |\n",
    "\n",
    "**Apenas um dos membros** deverá entregar um **arquivo .tar**, até o dia **29 de Abril**, com:\n",
    "\n",
    "1. **Este arquivo** `.ipynb`, com as soluções do miniEP3 **feitas pelo grupo**\n",
    "    \n",
    "    - Os gráficos e análises devem poder ser produzidos\n",
    "    \n",
    "    \n",
    "2. O **código C escrito** (arquivo `monte_carlo.c`)\n",
    "\n",
    "    - Deve compilar e executar **sem erros**\n",
    "    \n",
    "    \n",
    "    \n",
    "3. Os arquivos `Makefile`, e `Project.toml`\n",
    "4. Um **arquivo .csv** com os resultados das medições feitas neste miniEP\n",
    "\n",
    "    - Entregue os dados de cada repetição, sem processamento (não calcule a média e CI)\n",
    "\n",
    "## Configuração do Ambiente\n",
    "\n",
    "Como no miniEP1&2, a primeira tarefa é instalar e configurar o ambiente.\n",
    "\n",
    "### Compilador C\n",
    "\n",
    "Neste miniEP também vamos usar a linguagem C e a biblioteca *pthreads*. Vocês vão precisar de acesso a um sistema Linux com o compilador GCC e a biblioteca *pthreads*. Caso não consiga instalar o GCC ou tenha dificuldades para acessar um sistema Linux, entre em contato pelo fórum do *Edisciplinas*.\n",
    "\n",
    "### Julia, Jupyter, IJulia\n",
    "\n",
    "Pule essa etapa se já configurou o ambiente Julia no miniEP1&2.\n",
    "Para fazer o miniEP, vocês vão precisar:\n",
    "\n",
    "- [Instalar o Jupyter Notebook](https://jupyter.readthedocs.io/en/latest/install.html)\n",
    "- Instalar Julia 1.3:\n",
    "    - [Baixando o binário](https://julialang.org/downloads/)\n",
    "    - **ou** [usando seu gerenciador de pacotes](https://julialang.org/downloads/platform/)\n",
    "- Instalar o pacote *IJulia*:\n",
    "    - Inicie o interpretador Julia\n",
    "    - Digite `] add IJulia` e pressione `<ENTER>`\n",
    "    \n",
    "Depois disso, vocês vão conseguir iniciar o arquivo `.ipynb` do miniEP.\n",
    "\n",
    "### Pacotes Julia para o miniEP\n",
    "\n",
    "Os pacotes necessários para o miniEP estão listados no arquivo `Project.toml`, mas vocês podem instalar e atualizar os pacotes rodando a célula abaixo:"
   ]
  },
  {
   "cell_type": "code",
   "execution_count": 2,
   "metadata": {},
   "outputs": [
    {
     "name": "stdout",
     "output_type": "stream",
     "text": [
      "\u001b[32m\u001b[1m  Updating\u001b[22m\u001b[39m registry at `~/.julia/registries/General`\n",
      "\u001b[32m\u001b[1m  Updating\u001b[22m\u001b[39m git-repo `https://github.com/JuliaRegistries/General.git`\n",
      "\u001b[2K\u001b[?25h[1mFetching:\u001b[22m\u001b[39m [========================================>]  100.0 %.0 %\u001b[32m\u001b[1m Resolving\u001b[22m\u001b[39m package versions...\n",
      "\u001b[32m\u001b[1m  Updating\u001b[22m\u001b[39m `~/Documents/clang/miniEP3/Project.toml`\n",
      "\u001b[90m [no changes]\u001b[39m\n",
      "\u001b[32m\u001b[1m  Updating\u001b[22m\u001b[39m `~/Documents/clang/miniEP3/Manifest.toml`\n",
      "\u001b[90m [no changes]\u001b[39m\n"
     ]
    }
   ],
   "source": [
    "] up"
   ]
  },
  {
   "cell_type": "markdown",
   "metadata": {},
   "source": [
    "Verifique o status dos pacotes, e se há algum problema, com o comando:"
   ]
  },
  {
   "cell_type": "code",
   "execution_count": 3,
   "metadata": {},
   "outputs": [
    {
     "name": "stdout",
     "output_type": "stream",
     "text": [
      "\u001b[32m\u001b[1m    Status\u001b[22m\u001b[39m `~/Documents/clang/miniEP3/Project.toml`\n",
      " \u001b[90m [336ed68f]\u001b[39m\u001b[37m CSV v0.6.1\u001b[39m\n",
      " \u001b[90m [a93c6f00]\u001b[39m\u001b[37m DataFrames v0.20.2\u001b[39m\n",
      " \u001b[90m [31c24e10]\u001b[39m\u001b[37m Distributions v0.23.2\u001b[39m\n",
      " \u001b[90m [7073ff75]\u001b[39m\u001b[37m IJulia v1.21.2\u001b[39m\n",
      " \u001b[90m [1a8c2f83]\u001b[39m\u001b[37m Query v0.12.2\u001b[39m\n",
      " \u001b[90m [f3b207a7]\u001b[39m\u001b[37m StatsPlots v0.14.5\u001b[39m\n"
     ]
    }
   ],
   "source": [
    "] st"
   ]
  },
  {
   "cell_type": "markdown",
   "metadata": {},
   "source": [
    "## Integração por Método de Monte Carlo\n",
    "\n",
    "O objetivo deste miniEP é promover o estudo de programação paralela usando a biblioteca *pthreads*. Vamos utilizar uma versão sequencial em C do código em Julia do miniEP1&2. A tarefa deste miniEP será completar a implementação em C, escrever um programa paralelo usando a biblioteca *pthreads*, e analisar o desempenho do programa escrito com diferentes números de threads.\n",
    "\n",
    "Lembrando o que vimos no miniEP1&2, a intuição por trás do método de Monte Carlo é que a integral de uma função $f$ pode ser estimada pela média do valor de $f$ num conjunto suficientemente grande de pontos obtidos a partir de uma distribuição uniforme. Mais formalmente, para um conjunto de pontos $x_1,\\dots,x_N$ uniformemente amostrados num intervalo $[a,b]$, a integral de $f$ no intervalo $[a,b]$ pode ser aproximada por:\n",
    "\n",
    "$$\n",
    "\\int_{a}^{b} f(x)dx \\approx \\mathbb{E}\\left[\\left(b - a\\right)\\dfrac{1}{N}\\sum\\limits_{i = 1}^{N}{f(x_i)}\\right] \n",
    "$$\n",
    "\n",
    "Para uma representação gráfica da intuição, e para a prova dessa aproximação, veja [esta página](https://www.scratchapixel.com/lessons/mathematics-physics-for-computer-graphics/monte-carlo-methods-in-practice/monte-carlo-integration).\n",
    "\n",
    "A Integração por Método de Monte Carlo é um problema [embaraçosamente paralelo](https://en.wikipedia.org/wiki/Embarrassingly_parallel), isto é, podemos executar todas as iterações envolvidas **em paralelo**, sem nos preocupar com conflitos de acesso à memória. Apesar disso, vamos ver neste miniEP que não basta apenas aumentar a quantidade de recursos computacionais para ganhar desempenho.\n",
    "\n",
    "### Função Alvo\n",
    "\n",
    "Vamos estimar a integral da seguinte função:\n",
    "\n",
    "$$\n",
    "f_1(x) = \\dfrac{2}{\\sqrt{1 - x ^ 2}}\n",
    "$$\n",
    "\n",
    "A integral da função $f_1$, é [dada por](https://en.wikipedia.org/wiki/List_of_definite_integrals#Definite_integrals_involving_rational_or_irrational_expressions):\n",
    "\n",
    "$$\n",
    "\\int_{0}^{1}{f_1(x)dx} = \\int_{0}^{1}{\\dfrac{2}{\\sqrt{1 - x ^ 2}}dx} = \\pi\n",
    "$$\n",
    "\n",
    "## Exercício 1: Implementação Sequencial em C\n",
    "\n",
    "Lembre-se do código em Julia:"
   ]
  },
  {
   "cell_type": "code",
   "execution_count": 4,
   "metadata": {},
   "outputs": [
    {
     "name": "stderr",
     "output_type": "stream",
     "text": [
      "┌ Info: Precompiling Distributions [31c24e10-a181-5473-b8eb-7969acd0382f]\n",
      "└ @ Base loading.jl:1273\n"
     ]
    },
    {
     "data": {
      "text/plain": [
       "monte_carlo_integrate (generic function with 2 methods)"
      ]
     },
     "execution_count": 4,
     "metadata": {},
     "output_type": "execute_result"
    }
   ],
   "source": [
    "using Distributions\n",
    "\n",
    "function monte_carlo_integrate(f, interval, samples = 100)\n",
    "    xs = rand(Uniform(interval[1], interval[2]), samples)\n",
    "    \n",
    "    # Using for loops:\n",
    "    # accumulator = 0\n",
    "    #\n",
    "    # for x in xs\n",
    "    #     accumulator += f(x)\n",
    "    # end\n",
    "    #\n",
    "    # return accumulator / samples\n",
    "    \n",
    "    # Using vectorized function application:\n",
    "    return sum(f.(xs)) / samples\n",
    "end"
   ]
  },
  {
   "cell_type": "markdown",
   "metadata": {},
   "source": [
    "O primeiro exercício consiste em completar a implementação sequencial em C, fornecida no arquivo `monte_carlo.c`. Baseiem-se na versão Julia, e usem seus editores de código preferidos para modificar e escrever código em C. Se vocês ainda não têm preferência de editor de código, procurem experimentar editores como o Emacs e o Vim. São programas antigos e com uma curva de aprendizado um pouco íngreme, mas são muito poderosos e os esforços se pagam com juros. Esta pode ser uma chance de aprender a usá-los.\n",
    "\n",
    "Vocês devem escrever a função de assinatura:\n",
    "\n",
    "```C\n",
    "long double monte_carlo_integrate(long double (*f)(long double), long double *samples, int size)\n",
    "```\n",
    "\n",
    "Na assinatura acima, o parâmetro `f` é um ponteiro para uma função que recebe um `long double` e devolve um `long double`, `samples` é um ponteiro para um vetor de `long double` onde vamos guardar os valores de `f` que queremos avaliar, e `size` é o tamanho de `samples`.\n",
    "\n",
    "A primeira parte do exercício é ler e compreender o funcionamento do código em C fornecido no enunciado. É um exercício interessante para ver como uma linguagem de alto nível, como Julia, abstrai camadas conceituais e facilita a prototipagem de código complexo ao custo de esconder detalhes de implementação.\n",
    "\n",
    "### Exercício 1a)"
   ]
  },
  {
   "cell_type": "markdown",
   "metadata": {},
   "source": [
    "Vocês podem compilar e executar o programa `monte_carlo.c` através deste notebook acessando o *modo shell* do interpretador Julia com a tecla `;`:"
   ]
  },
  {
   "cell_type": "code",
   "execution_count": 46,
   "metadata": {},
   "outputs": [
    {
     "name": "stdout",
     "output_type": "stream",
     "text": [
      "gcc monte_carlo.c -o monte_carlo -Wall -lpthread -lm -DDEBUG=1\n"
     ]
    },
    {
     "name": "stderr",
     "output_type": "stream",
     "text": [
      "monte_carlo.c: In function ‘main’:\n",
      "monte_carlo.c:120:9: warning: format not a string literal and no format arguments [-Wformat-security]\n",
      "  120 |         printf(usage_message);\n",
      "      |         ^~~~~~\n",
      "monte_carlo.c:124:9: warning: format not a string literal and no format arguments [-Wformat-security]\n",
      "  124 |         printf(usage_message);\n",
      "      |         ^~~~~~\n",
      "monte_carlo.c:128:9: warning: format not a string literal and no format arguments [-Wformat-security]\n",
      "  128 |         printf(usage_message);\n",
      "      |         ^~~~~~\n"
     ]
    }
   ],
   "source": [
    "; make debug"
   ]
  },
  {
   "cell_type": "markdown",
   "metadata": {},
   "source": [
    "Depois, podemos rodar o programa compilado com:"
   ]
  },
  {
   "cell_type": "code",
   "execution_count": 47,
   "metadata": {},
   "outputs": [
    {
     "name": "stdout",
     "output_type": "stream",
     "text": [
      "usage: ./monte_carlo SAMPLES FUNCTION_ID N_THREADS\n"
     ]
    }
   ],
   "source": [
    "; ./monte_carlo"
   ]
  },
  {
   "cell_type": "markdown",
   "metadata": {},
   "source": [
    "Seguindo as instruções de uso, temos:"
   ]
  },
  {
   "cell_type": "code",
   "execution_count": 136,
   "metadata": {},
   "outputs": [
    {
     "name": "stdout",
     "output_type": "stream",
     "text": [
      "Running on: [debug mode]\n",
      "Samples: [100000000]\n",
      "Function id: [0]\n",
      "Threads: [1]\n",
      "Array size on memory: [1.60GB]\n",
      "Running sequential version\n",
      "3.1416953850580425, [3.498455, clock], [3.498697, clock_gettime], [3.498697, gettimeofday]\n"
     ]
    }
   ],
   "source": [
    "; ./monte_carlo 100000000 0 1"
   ]
  },
  {
   "cell_type": "markdown",
   "metadata": {},
   "source": [
    "Como compilamos no modo *debug*, veremos muitas mensagens extras, que coloquei no programa pra ajudar na implementação. Para compilar no modo normal, use o comando `make` sem argumentos. Note que o programa ainda não faz nada além de alocar memória, e que isso já leva algum tempo.\n",
    "\n",
    "Note que escolhi deixar a alocação de memória e o cálculo das amostra a avaliar fora da função `monte_carlo_integrate` na versão C. A geração das amostras aleatórias foi feita com a função `rand()` e com uma função que mapeia um intervalo a outro.\n",
    "\n",
    "\n",
    "Descreva abaixo como o tempo de execução é calculado e impresso pelo programa `monte_carlo`. Por que vocês acham que eu escolhi colocar as medições de tempo onde coloquei?"
   ]
  },
  {
   "cell_type": "markdown",
   "metadata": {},
   "source": [
    "O tempo de execução da funcão é  contado usando `start = clock()` e `end = clock()` imediatamente antes e depois dela, respectivamente para saber o momento  anterior ao comeco da execução e o posterior ao fim dela. A linha `double time_taken = (double) (end - start) / (double) CLOCKS_PER_SEC` guarda o tempo total gasto na execução. A escolha da posição desses comandos foi feita para garantir que todo o tempo gasto na execução da função está sendo contado mas garantindo que o tempo gasto por outras operações não relacionadas não afete o valor final."
   ]
  },
  {
   "cell_type": "markdown",
   "metadata": {},
   "source": [
    "### Exercício 1b)\n",
    "\n",
    "Agora, a sua tarefa é implementar a função `monte_carlo_integrate`.\n",
    "\n",
    "Quando terminar, rode as células abaixo. A saída deve conter a estimativa para o valor de $\\pi$ e o tempo de execução, produzidos pelo programa `monte_carlo`. Escolha um número de amostras adequado à quantidade de memória disponível em seu computador.\n",
    "\n",
    "Lembre-se de **entregar também o arquivo .c** com suas modificações."
   ]
  },
  {
   "cell_type": "code",
   "execution_count": 131,
   "metadata": {
    "scrolled": true
   },
   "outputs": [
    {
     "name": "stdout",
     "output_type": "stream",
     "text": [
      "gcc monte_carlo.c -o monte_carlo -Wall -lpthread -lm -DDEBUG=1\n"
     ]
    },
    {
     "name": "stderr",
     "output_type": "stream",
     "text": [
      "monte_carlo.c: In function ‘main’:\n",
      "monte_carlo.c:120:9: warning: format not a string literal and no format arguments [-Wformat-security]\n",
      "  120 |         printf(usage_message);\n",
      "      |         ^~~~~~\n",
      "monte_carlo.c:124:9: warning: format not a string literal and no format arguments [-Wformat-security]\n",
      "  124 |         printf(usage_message);\n",
      "      |         ^~~~~~\n",
      "monte_carlo.c:128:9: warning: format not a string literal and no format arguments [-Wformat-security]\n",
      "  128 |         printf(usage_message);\n",
      "      |         ^~~~~~\n"
     ]
    }
   ],
   "source": [
    "; make debug"
   ]
  },
  {
   "cell_type": "code",
   "execution_count": 132,
   "metadata": {
    "scrolled": true
   },
   "outputs": [
    {
     "name": "stdout",
     "output_type": "stream",
     "text": [
      "Running on: [debug mode]\n",
      "Samples: [100000000]\n",
      "Function id: [0]\n",
      "Threads: [1]\n",
      "Array size on memory: [1.60GB]\n",
      "Running sequential version\n",
      "3.1409005932278884, [3.464856, clock], [3.488762, clock_gettime], [3.488762, gettimeofday]\n"
     ]
    }
   ],
   "source": [
    "; ./monte_carlo 100000000 0 1"
   ]
  },
  {
   "cell_type": "markdown",
   "metadata": {},
   "source": [
    "## Exercício 2: Implementação Paralela com *pthreads*\n",
    "\n",
    "Este exercício é mais complexo. Vocês devem escrever a função de assinatura:\n",
    "\n",
    "```C\n",
    "void *monte_carlo_integrate_thread(void *args)\n",
    "```\n",
    "\n",
    "Na assinatura acima, o parâmetro `args` é um ponteiro para uma estrutura de dados contendo dados para cada thread. Para implementar essa estrutura de dados, vocês devem decidir quais informações cada thread deve receber. Algumas ideias:\n",
    "\n",
    "- Um ponteiro para a função a ser avaliada\n",
    "- Um ponteiro para o vetor de amostras gerado\n",
    "- Um inteiro com o id da thread\n",
    "\n",
    "De acordo com a sua estratégia de implementação paralela, vocês vão precisar incluir informações diferentes. Algo de importante está faltando na lista acima. Como as threads poderiam armazenar seus resultados?\n",
    "\n",
    "Precisamos escolher uma dentre as várias formas de implementar esse algoritmo paralelo. Pensei em algumas possibilidades:\n",
    "\n",
    "1. Método \"Criando threads dinamicamente\":\n",
    "  - Lançar $n$ threads, cada uma com $1$ (ou $m$?) unidades de trabalho a fazer\n",
    "  - Usar variáveis de condição ou joins para sinalizar fim de trabalho\n",
    "  - Lançar novas threads conforme threads terminarem\n",
    "  - Usar join para finalizar\n",
    "2. Método \"Divisão Dinâmica do Trabalho\":\n",
    "  - Lançar $n$ threads, cada uma com $1$ (ou $m$?) unidades de trabalho a fazer\n",
    "  - Cada thread busca por trabalho disponível a fazer quando acabar o trabalho dado\n",
    "  - Usar join para finalizar\n",
    "3. Método \"Divisão Estática do Trabalho\":\n",
    "  - Lançar $n$ threads, cada uma com $1/n$ unidades de trabalho a fazer\n",
    "  - Usar join para finalizar\n",
    "  \n",
    "Usando seus conhecimentos sobre *pthreads* e sobre a execução de programas em geral, responda e explique:\n",
    "\n",
    "1. Qual desses métodos é o mais difícil de implementar? E o mais fácil?\n",
    "2. Qual método atingiria o menor tempo de execução?"
   ]
  },
  {
   "cell_type": "markdown",
   "metadata": {},
   "source": [
    "1. O mais difícil é o 1 - \"Criando threads dinamicamente\" - porque é uma tarefa complicada verificar quando cada thread acabou para criar uma nova (tarefa que será feita na main thread). O método mais fácil é o 3 - \"Divisão Estática do Trabalho\" - porque não dependemos de informações dinâmicas e nem lidamos com problemas como acesso à seções críticas, a criação das threads é estática e pré-definida.\n",
    "\n",
    "2. O método 1 - \"Criando threads dinamicamente\" - atingiria menor tempo de execução porque além de não ter o overhead do método 2 em acessar o mutex (necessário para a sincronização das threads), também não deixa threads ociosas quando elas finalizam seus trabalhos como no método 3."
   ]
  },
  {
   "cell_type": "markdown",
   "metadata": {},
   "source": [
    "Escolha um desses, ou um quarto método que preferir, para fazer a implementação paralela do miniEP3. Vocês vão precisar implementar toda a estrutura de suporte à execução das threads.\n",
    "\n",
    "Quando terminar, rode as células abaixo. A saída deve conter a estimativa para o valor de $\\pi$ e o tempo de execução, produzidos pelo programa `monte_carlo`. Escolha um número de amostras e de threads adequado à quantidade de memória e aos núcleos de processamento disponíveis em seu computador.\n",
    "\n",
    "Lembre-se de **entregar também o arquivo .c** com suas modificações."
   ]
  },
  {
   "cell_type": "code",
   "execution_count": 133,
   "metadata": {
    "scrolled": true
   },
   "outputs": [
    {
     "name": "stdout",
     "output_type": "stream",
     "text": [
      "gcc monte_carlo.c -o monte_carlo -Wall -lpthread -lm -DDEBUG=1\n"
     ]
    },
    {
     "name": "stderr",
     "output_type": "stream",
     "text": [
      "monte_carlo.c: In function ‘main’:\n",
      "monte_carlo.c:120:9: warning: format not a string literal and no format arguments [-Wformat-security]\n",
      "  120 |         printf(usage_message);\n",
      "      |         ^~~~~~\n",
      "monte_carlo.c:124:9: warning: format not a string literal and no format arguments [-Wformat-security]\n",
      "  124 |         printf(usage_message);\n",
      "      |         ^~~~~~\n",
      "monte_carlo.c:128:9: warning: format not a string literal and no format arguments [-Wformat-security]\n",
      "  128 |         printf(usage_message);\n",
      "      |         ^~~~~~\n"
     ]
    }
   ],
   "source": [
    "; make debug"
   ]
  },
  {
   "cell_type": "code",
   "execution_count": 134,
   "metadata": {
    "scrolled": true
   },
   "outputs": [
    {
     "name": "stdout",
     "output_type": "stream",
     "text": [
      "Running on: [debug mode]\n",
      "Samples: [100000000]\n",
      "Function id: [0]\n",
      "Threads: [32]\n",
      "Array size on memory: [1.60GB]\n",
      "Running parallel version\n",
      "3.1416507002528737, [4.292585, clock], [2.711370, clock_gettime], [2.711371, gettimeofday]\n"
     ]
    }
   ],
   "source": [
    "; ./monte_carlo 100000000 0 32"
   ]
  },
  {
   "cell_type": "markdown",
   "metadata": {},
   "source": [
    "## Exercício 3: Análise de Desempenho\n",
    "\n",
    "Agora, vamos medir o desempenho do programa que vocês implementaram neste trabalho. Vamos usar funções em Julia, adaptadas do miniEP1&2, e gerar gráficos do tempo de execução e da estimativa da integral para diferentes números de threads.\n",
    "\n",
    "### Funções Úteis\n",
    "\n",
    "A função abaixo recebe parâmetros `size`, com tamanho da amostra, `f`, com a id da função a estimar, e `threads`, com o número de threads do programa paralelo. A função executa o programa `monte_carlo` com os parâmetros dados e devolve um `DataFrame` com os resultados."
   ]
  },
  {
   "cell_type": "code",
   "execution_count": 96,
   "metadata": {},
   "outputs": [
    {
     "data": {
      "text/plain": [
       "measure_monte_carlo (generic function with 1 method)"
      ]
     },
     "execution_count": 96,
     "metadata": {},
     "output_type": "execute_result"
    }
   ],
   "source": [
    "using DataFrames, Query, StatsPlots\n",
    "\n",
    "function measure_monte_carlo(size, f, threads)\n",
    "    results = parse.(Float64,\n",
    "        split(chomp(read(`./monte_carlo $size $f $threads`, String)), \", \"))\n",
    "        \n",
    "    return DataFrame(size = size,\n",
    "        f = f,\n",
    "        threads = threads,\n",
    "        estimate = results[1],\n",
    "        duration = results[2])\n",
    "end"
   ]
  },
  {
   "cell_type": "markdown",
   "metadata": {},
   "source": [
    "A função `run_experiments` recebe os mesmos parâmetros `size`, `f`, e `threads`, e um parâmetro adicional `repetitions`, com o número de repetições de cada experimento com um dado número de `threads`. A função devolve um `DataFrame` com todos os experimentos."
   ]
  },
  {
   "cell_type": "code",
   "execution_count": 97,
   "metadata": {},
   "outputs": [
    {
     "data": {
      "text/plain": [
       "run_experiments (generic function with 1 method)"
      ]
     },
     "execution_count": 97,
     "metadata": {},
     "output_type": "execute_result"
    }
   ],
   "source": [
    "function run_experiments(size, f, threads, repetitions)\n",
    "    run(`make`)\n",
    "    \n",
    "    results = DataFrame(size = Int[],\n",
    "        f = Int[],\n",
    "        threads = Int[],\n",
    "        estimate = Float64[],\n",
    "        duration = Float64[])  \n",
    "    \n",
    "    for t in threads\n",
    "        for r in 1:repetitions\n",
    "            append!(results,\n",
    "                measure_monte_carlo(size, f, t))    \n",
    "        end\n",
    "    end\n",
    "    \n",
    "    return results\n",
    "end"
   ]
  },
  {
   "cell_type": "markdown",
   "metadata": {},
   "source": [
    "A função `parse_results` recebe um `DataFrame` de resultados, produzido pela função `run_experiments`, e um parâmetro `target_integral`, com o valor da integral a estimar. A função devolve um `DataFrame` com a média e o intervalo de confiança da média a 95% das estimativas e dos tempos de execução, agrupados por número de threads."
   ]
  },
  {
   "cell_type": "code",
   "execution_count": 98,
   "metadata": {},
   "outputs": [
    {
     "data": {
      "text/plain": [
       "parse_results (generic function with 1 method)"
      ]
     },
     "execution_count": 98,
     "metadata": {},
     "output_type": "execute_result"
    }
   ],
   "source": [
    "function parse_results(results, target_integral)\n",
    "    parsed_results = results |>\n",
    "                    @groupby(_.threads) |>\n",
    "                    @map({threads = key(_),\n",
    "                          mean_estimate = mean(_.estimate),\n",
    "                          ci_estimate = 1.96 * std(_.estimate),\n",
    "                          mean_duration = mean(_.duration),\n",
    "                          ci_duration = 1.96 * std(_.duration),\n",
    "                          target = target_integral}) |>\n",
    "                    DataFrame\n",
    "    \n",
    "    return parsed_results\n",
    "end"
   ]
  },
  {
   "cell_type": "markdown",
   "metadata": {},
   "source": [
    "### Exercício 3a)\n",
    "\n",
    "Realize os experimentos em sua máquina rodando a célula abaixo. Ajuste os valores para a sua máquina. **Não faça menos de 5 repetições**."
   ]
  },
  {
   "cell_type": "code",
   "execution_count": 137,
   "metadata": {},
   "outputs": [
    {
     "name": "stdout",
     "output_type": "stream",
     "text": [
      "gcc monte_carlo.c -o monte_carlo -Wall -lpthread -lm\n"
     ]
    },
    {
     "name": "stderr",
     "output_type": "stream",
     "text": [
      "monte_carlo.c: In function ‘main’:\n",
      "monte_carlo.c:120:9: warning: format not a string literal and no format arguments [-Wformat-security]\n",
      "  120 |         printf(usage_message);\n",
      "      |         ^~~~~~\n",
      "monte_carlo.c:124:9: warning: format not a string literal and no format arguments [-Wformat-security]\n",
      "  124 |         printf(usage_message);\n",
      "      |         ^~~~~~\n",
      "monte_carlo.c:128:9: warning: format not a string literal and no format arguments [-Wformat-security]\n",
      "  128 |         printf(usage_message);\n",
      "      |         ^~~~~~\n"
     ]
    },
    {
     "data": {
      "text/html": [
       "<table class=\"data-frame\"><thead><tr><th></th><th>threads</th><th>mean_estimate</th><th>ci_estimate</th><th>mean_duration</th><th>ci_duration</th><th>target</th></tr><tr><th></th><th>Int64</th><th>Float64</th><th>Float64</th><th>Float64</th><th>Float64</th><th>Irration…</th></tr></thead><tbody><p>8 rows × 6 columns</p><tr><th>1</th><td>1</td><td>Inf</td><td>NaN</td><td>0.985957</td><td>1.41893</td><td>π</td></tr><tr><th>2</th><td>2</td><td>3.14186</td><td>0.0024466</td><td>0.936505</td><td>0.210202</td><td>π</td></tr><tr><th>3</th><td>3</td><td>Inf</td><td>NaN</td><td>0.809179</td><td>0.535625</td><td>π</td></tr><tr><th>4</th><td>4</td><td>3.14157</td><td>0.0017046</td><td>0.902856</td><td>0.145722</td><td>π</td></tr><tr><th>5</th><td>5</td><td>3.14182</td><td>0.00279045</td><td>0.958874</td><td>0.102336</td><td>π</td></tr><tr><th>6</th><td>6</td><td>3.14159</td><td>0.002381</td><td>0.770349</td><td>0.178157</td><td>π</td></tr><tr><th>7</th><td>7</td><td>Inf</td><td>NaN</td><td>0.799918</td><td>0.194831</td><td>π</td></tr><tr><th>8</th><td>8</td><td>Inf</td><td>NaN</td><td>0.733236</td><td>0.0493711</td><td>π</td></tr></tbody></table>"
      ],
      "text/latex": [
       "\\begin{tabular}{r|cccccc}\n",
       "\t& threads & mean\\_estimate & ci\\_estimate & mean\\_duration & ci\\_duration & target\\\\\n",
       "\t\\hline\n",
       "\t& Int64 & Float64 & Float64 & Float64 & Float64 & Irration…\\\\\n",
       "\t\\hline\n",
       "\t1 & 1 & Inf & NaN & 0.985957 & 1.41893 & π \\\\\n",
       "\t2 & 2 & 3.14186 & 0.0024466 & 0.936505 & 0.210202 & π \\\\\n",
       "\t3 & 3 & Inf & NaN & 0.809179 & 0.535625 & π \\\\\n",
       "\t4 & 4 & 3.14157 & 0.0017046 & 0.902856 & 0.145722 & π \\\\\n",
       "\t5 & 5 & 3.14182 & 0.00279045 & 0.958874 & 0.102336 & π \\\\\n",
       "\t6 & 6 & 3.14159 & 0.002381 & 0.770349 & 0.178157 & π \\\\\n",
       "\t7 & 7 & Inf & NaN & 0.799918 & 0.194831 & π \\\\\n",
       "\t8 & 8 & Inf & NaN & 0.733236 & 0.0493711 & π \\\\\n",
       "\\end{tabular}\n"
      ],
      "text/plain": [
       "8×6 DataFrame. Omitted printing of 1 columns\n",
       "│ Row │ threads │ mean_estimate │ ci_estimate │ mean_duration │ ci_duration │\n",
       "│     │ \u001b[90mInt64\u001b[39m   │ \u001b[90mFloat64\u001b[39m       │ \u001b[90mFloat64\u001b[39m     │ \u001b[90mFloat64\u001b[39m       │ \u001b[90mFloat64\u001b[39m     │\n",
       "├─────┼─────────┼───────────────┼─────────────┼───────────────┼─────────────┤\n",
       "│ 1   │ 1       │ Inf           │ NaN         │ 0.985957      │ 1.41893     │\n",
       "│ 2   │ 2       │ 3.14186       │ 0.0024466   │ 0.936505      │ 0.210202    │\n",
       "│ 3   │ 3       │ Inf           │ NaN         │ 0.809179      │ 0.535625    │\n",
       "│ 4   │ 4       │ 3.14157       │ 0.0017046   │ 0.902856      │ 0.145722    │\n",
       "│ 5   │ 5       │ 3.14182       │ 0.00279045  │ 0.958874      │ 0.102336    │\n",
       "│ 6   │ 6       │ 3.14159       │ 0.002381    │ 0.770349      │ 0.178157    │\n",
       "│ 7   │ 7       │ Inf           │ NaN         │ 0.799918      │ 0.194831    │\n",
       "│ 8   │ 8       │ Inf           │ NaN         │ 0.733236      │ 0.0493711   │"
      ]
     },
     "execution_count": 137,
     "metadata": {},
     "output_type": "execute_result"
    }
   ],
   "source": [
    "size = 20000000\n",
    "f = 0\n",
    "threads = 1:8\n",
    "repetitions = 10\n",
    "\n",
    "results = run_experiments(size, f, threads, repetitions)\n",
    "parsed_results = parse_results(results, pi)"
   ]
  },
  {
   "cell_type": "markdown",
   "metadata": {},
   "source": [
    "Agora, escreva uma função **em Julia** chamada `save_csv_results`, que recebe um `DataFrame` e um nome de arquivo, e escreve o `DataFrame` em disco, no formato `.csv`, com o nome passado no argumento.\n",
    "\n",
    "Utilize a biblioteca [CSV](https://juliadata.github.io/CSV.jl/stable/), já instalada no ambiente deste notebook."
   ]
  },
  {
   "cell_type": "code",
   "execution_count": 138,
   "metadata": {},
   "outputs": [
    {
     "data": {
      "text/plain": [
       "\"results.csv\""
      ]
     },
     "execution_count": 138,
     "metadata": {},
     "output_type": "execute_result"
    }
   ],
   "source": [
    "using CSV\n",
    "\n",
    "function save_csv_results(data_frame, file)\n",
    "    CSV.write(file, data_frame)\n",
    "end\n",
    "\n",
    "save_csv_results(results, \"results.csv\")"
   ]
  },
  {
   "cell_type": "markdown",
   "metadata": {},
   "source": [
    "Escreva uma função **em Julia** chamada `read_csv_results`, que recebe um nome de arquivo e lê o arquivo correspondente, devolvendo um `DataFrame`."
   ]
  },
  {
   "cell_type": "code",
   "execution_count": 139,
   "metadata": {},
   "outputs": [
    {
     "data": {
      "text/html": [
       "<table class=\"data-frame\"><thead><tr><th></th><th>size</th><th>f</th><th>threads</th><th>estimate</th><th>duration</th></tr><tr><th></th><th>Int64</th><th>Int64</th><th>Int64</th><th>Float64</th><th>Float64</th></tr></thead><tbody><p>80 rows × 5 columns</p><tr><th>1</th><td>20000000</td><td>0</td><td>1</td><td>Inf</td><td>3.0408</td></tr><tr><th>2</th><td>20000000</td><td>0</td><td>1</td><td>3.14197</td><td>0.737051</td></tr><tr><th>3</th><td>20000000</td><td>0</td><td>1</td><td>3.14176</td><td>0.689987</td></tr><tr><th>4</th><td>20000000</td><td>0</td><td>1</td><td>3.14217</td><td>0.689567</td></tr><tr><th>5</th><td>20000000</td><td>0</td><td>1</td><td>3.13923</td><td>0.694007</td></tr><tr><th>6</th><td>20000000</td><td>0</td><td>1</td><td>3.13923</td><td>0.776857</td></tr><tr><th>7</th><td>20000000</td><td>0</td><td>1</td><td>3.14197</td><td>0.789873</td></tr><tr><th>8</th><td>20000000</td><td>0</td><td>1</td><td>3.14009</td><td>0.811803</td></tr><tr><th>9</th><td>20000000</td><td>0</td><td>1</td><td>3.14075</td><td>0.834592</td></tr><tr><th>10</th><td>20000000</td><td>0</td><td>1</td><td>3.14059</td><td>0.795039</td></tr><tr><th>11</th><td>20000000</td><td>0</td><td>2</td><td>3.14059</td><td>0.892707</td></tr><tr><th>12</th><td>20000000</td><td>0</td><td>2</td><td>3.14192</td><td>1.01469</td></tr><tr><th>13</th><td>20000000</td><td>0</td><td>2</td><td>3.14136</td><td>1.09785</td></tr><tr><th>14</th><td>20000000</td><td>0</td><td>2</td><td>3.14018</td><td>1.01623</td></tr><tr><th>15</th><td>20000000</td><td>0</td><td>2</td><td>3.14282</td><td>1.03757</td></tr><tr><th>16</th><td>20000000</td><td>0</td><td>2</td><td>3.1403</td><td>0.931345</td></tr><tr><th>17</th><td>20000000</td><td>0</td><td>2</td><td>3.14214</td><td>0.764653</td></tr><tr><th>18</th><td>20000000</td><td>0</td><td>2</td><td>3.14214</td><td>0.866806</td></tr><tr><th>19</th><td>20000000</td><td>0</td><td>2</td><td>3.14367</td><td>0.942457</td></tr><tr><th>20</th><td>20000000</td><td>0</td><td>2</td><td>3.14346</td><td>0.800746</td></tr><tr><th>21</th><td>20000000</td><td>0</td><td>3</td><td>3.14146</td><td>0.717496</td></tr><tr><th>22</th><td>20000000</td><td>0</td><td>3</td><td>3.14205</td><td>0.697416</td></tr><tr><th>23</th><td>20000000</td><td>0</td><td>3</td><td>3.14205</td><td>0.721444</td></tr><tr><th>24</th><td>20000000</td><td>0</td><td>3</td><td>3.14222</td><td>0.734985</td></tr><tr><th>25</th><td>20000000</td><td>0</td><td>3</td><td>3.13846</td><td>0.715728</td></tr><tr><th>26</th><td>20000000</td><td>0</td><td>3</td><td>3.14227</td><td>0.721653</td></tr><tr><th>27</th><td>20000000</td><td>0</td><td>3</td><td>3.14227</td><td>0.73215</td></tr><tr><th>28</th><td>20000000</td><td>0</td><td>3</td><td>3.14057</td><td>0.75248</td></tr><tr><th>29</th><td>20000000</td><td>0</td><td>3</td><td>Inf</td><td>1.58582</td></tr><tr><th>30</th><td>20000000</td><td>0</td><td>3</td><td>3.14179</td><td>0.712622</td></tr><tr><th>&vellip;</th><td>&vellip;</td><td>&vellip;</td><td>&vellip;</td><td>&vellip;</td><td>&vellip;</td></tr></tbody></table>"
      ],
      "text/latex": [
       "\\begin{tabular}{r|ccccc}\n",
       "\t& size & f & threads & estimate & duration\\\\\n",
       "\t\\hline\n",
       "\t& Int64 & Int64 & Int64 & Float64 & Float64\\\\\n",
       "\t\\hline\n",
       "\t1 & 20000000 & 0 & 1 & Inf & 3.0408 \\\\\n",
       "\t2 & 20000000 & 0 & 1 & 3.14197 & 0.737051 \\\\\n",
       "\t3 & 20000000 & 0 & 1 & 3.14176 & 0.689987 \\\\\n",
       "\t4 & 20000000 & 0 & 1 & 3.14217 & 0.689567 \\\\\n",
       "\t5 & 20000000 & 0 & 1 & 3.13923 & 0.694007 \\\\\n",
       "\t6 & 20000000 & 0 & 1 & 3.13923 & 0.776857 \\\\\n",
       "\t7 & 20000000 & 0 & 1 & 3.14197 & 0.789873 \\\\\n",
       "\t8 & 20000000 & 0 & 1 & 3.14009 & 0.811803 \\\\\n",
       "\t9 & 20000000 & 0 & 1 & 3.14075 & 0.834592 \\\\\n",
       "\t10 & 20000000 & 0 & 1 & 3.14059 & 0.795039 \\\\\n",
       "\t11 & 20000000 & 0 & 2 & 3.14059 & 0.892707 \\\\\n",
       "\t12 & 20000000 & 0 & 2 & 3.14192 & 1.01469 \\\\\n",
       "\t13 & 20000000 & 0 & 2 & 3.14136 & 1.09785 \\\\\n",
       "\t14 & 20000000 & 0 & 2 & 3.14018 & 1.01623 \\\\\n",
       "\t15 & 20000000 & 0 & 2 & 3.14282 & 1.03757 \\\\\n",
       "\t16 & 20000000 & 0 & 2 & 3.1403 & 0.931345 \\\\\n",
       "\t17 & 20000000 & 0 & 2 & 3.14214 & 0.764653 \\\\\n",
       "\t18 & 20000000 & 0 & 2 & 3.14214 & 0.866806 \\\\\n",
       "\t19 & 20000000 & 0 & 2 & 3.14367 & 0.942457 \\\\\n",
       "\t20 & 20000000 & 0 & 2 & 3.14346 & 0.800746 \\\\\n",
       "\t21 & 20000000 & 0 & 3 & 3.14146 & 0.717496 \\\\\n",
       "\t22 & 20000000 & 0 & 3 & 3.14205 & 0.697416 \\\\\n",
       "\t23 & 20000000 & 0 & 3 & 3.14205 & 0.721444 \\\\\n",
       "\t24 & 20000000 & 0 & 3 & 3.14222 & 0.734985 \\\\\n",
       "\t25 & 20000000 & 0 & 3 & 3.13846 & 0.715728 \\\\\n",
       "\t26 & 20000000 & 0 & 3 & 3.14227 & 0.721653 \\\\\n",
       "\t27 & 20000000 & 0 & 3 & 3.14227 & 0.73215 \\\\\n",
       "\t28 & 20000000 & 0 & 3 & 3.14057 & 0.75248 \\\\\n",
       "\t29 & 20000000 & 0 & 3 & Inf & 1.58582 \\\\\n",
       "\t30 & 20000000 & 0 & 3 & 3.14179 & 0.712622 \\\\\n",
       "\t$\\dots$ & $\\dots$ & $\\dots$ & $\\dots$ & $\\dots$ & $\\dots$ \\\\\n",
       "\\end{tabular}\n"
      ],
      "text/plain": [
       "80×5 DataFrame\n",
       "│ Row │ size     │ f     │ threads │ estimate │ duration │\n",
       "│     │ \u001b[90mInt64\u001b[39m    │ \u001b[90mInt64\u001b[39m │ \u001b[90mInt64\u001b[39m   │ \u001b[90mFloat64\u001b[39m  │ \u001b[90mFloat64\u001b[39m  │\n",
       "├─────┼──────────┼───────┼─────────┼──────────┼──────────┤\n",
       "│ 1   │ 20000000 │ 0     │ 1       │ Inf      │ 3.0408   │\n",
       "│ 2   │ 20000000 │ 0     │ 1       │ 3.14197  │ 0.737051 │\n",
       "│ 3   │ 20000000 │ 0     │ 1       │ 3.14176  │ 0.689987 │\n",
       "│ 4   │ 20000000 │ 0     │ 1       │ 3.14217  │ 0.689567 │\n",
       "│ 5   │ 20000000 │ 0     │ 1       │ 3.13923  │ 0.694007 │\n",
       "│ 6   │ 20000000 │ 0     │ 1       │ 3.13923  │ 0.776857 │\n",
       "│ 7   │ 20000000 │ 0     │ 1       │ 3.14197  │ 0.789873 │\n",
       "│ 8   │ 20000000 │ 0     │ 1       │ 3.14009  │ 0.811803 │\n",
       "│ 9   │ 20000000 │ 0     │ 1       │ 3.14075  │ 0.834592 │\n",
       "│ 10  │ 20000000 │ 0     │ 1       │ 3.14059  │ 0.795039 │\n",
       "⋮\n",
       "│ 70  │ 20000000 │ 0     │ 7       │ 3.14046  │ 0.73082  │\n",
       "│ 71  │ 20000000 │ 0     │ 8       │ 3.14046  │ 0.699961 │\n",
       "│ 72  │ 20000000 │ 0     │ 8       │ 3.14176  │ 0.728649 │\n",
       "│ 73  │ 20000000 │ 0     │ 8       │ Inf      │ 0.736212 │\n",
       "│ 74  │ 20000000 │ 0     │ 8       │ 3.14228  │ 0.689914 │\n",
       "│ 75  │ 20000000 │ 0     │ 8       │ 3.14228  │ 0.739247 │\n",
       "│ 76  │ 20000000 │ 0     │ 8       │ 3.13934  │ 0.751179 │\n",
       "│ 77  │ 20000000 │ 0     │ 8       │ 3.14237  │ 0.72362  │\n",
       "│ 78  │ 20000000 │ 0     │ 8       │ 3.14188  │ 0.753319 │\n",
       "│ 79  │ 20000000 │ 0     │ 8       │ 3.14188  │ 0.776154 │\n",
       "│ 80  │ 20000000 │ 0     │ 8       │ 3.14365  │ 0.734109 │"
      ]
     },
     "execution_count": 139,
     "metadata": {},
     "output_type": "execute_result"
    }
   ],
   "source": [
    "using CSV\n",
    "\n",
    "function read_csv_results(file)\n",
    "    return CSV.read(file)\n",
    "end\n",
    "\n",
    "results = read_csv_results(\"results.csv\")"
   ]
  },
  {
   "cell_type": "markdown",
   "metadata": {},
   "source": [
    "Salve o DataFrame `results` em disco. **Vocês devem entregar o .csv também**."
   ]
  },
  {
   "cell_type": "markdown",
   "metadata": {},
   "source": [
    "### Exercício 3b)\n",
    "\n",
    "Como vocês já se familiarizaram um pouco com funções para geração de gráficos no miniEP1&2, explique o que faz a função `plot_results` abaixo. Ela é uma generalização das funções usadas no miniEP anterior. Para ajudar, você pode modificar e usar as chamadas de função no **Exercício 3c)**."
   ]
  },
  {
   "cell_type": "markdown",
   "metadata": {},
   "source": [
    "A função faz dois tipos de gráfico: ela pode mostrar todos os resultados de um experimento, marcando pontos no plano cartesiano; e também pode mostrar o resultado dado pela média e traçar uma linha vertical delimitando o intervalo de confiança do conjunto de amostras recebido."
   ]
  },
  {
   "cell_type": "code",
   "execution_count": 140,
   "metadata": {},
   "outputs": [
    {
     "data": {
      "text/plain": [
       "plot_results (generic function with 1 method)"
      ]
     },
     "execution_count": 140,
     "metadata": {},
     "output_type": "execute_result"
    }
   ],
   "source": [
    "function plot_results(x, y, target_label, series_label; hline = [], yerror = [])      \n",
    "    if yerror != []\n",
    "        p = scatter(x,        \n",
    "            y,\n",
    "            yerror = yerror,\n",
    "            alpha = 0.6,\n",
    "            labels = series_label,\n",
    "            legend = :topleft)\n",
    "    else\n",
    "        p = scatter(x,        \n",
    "            y,\n",
    "            alpha = 0.6,\n",
    "            labels = series_label,\n",
    "            legend = :topleft)\n",
    "    end\n",
    "    \n",
    "    if hline != []\n",
    "        plot!(x,        \n",
    "            hline,\n",
    "            labels = target_label,                 \n",
    "            line = :dash,        \n",
    "            width = 2.0)\n",
    "    end\n",
    "    \n",
    "    return p\n",
    "end\n"
   ]
  },
  {
   "cell_type": "markdown",
   "metadata": {},
   "source": [
    "### Exercício 3c)\n",
    "\n",
    "1. Rode as células na seção abaixo e gere os gráficos. **Entregue o notebook com os gráficos gerados**.\n",
    "2. Descreva o comportamento do tempo de execução conforme aumentamos o número de threads, em termos da média e do intervalo de confiança. Nos próximos EPs, vamos aprender a fazer uma *regressão linear* que explique os dados observados usando *coeficientes*.\n",
    "3. Por que você acha que o tempo de execução aumenta conforme aumentamos as threads? Era isso que você esperava?\n",
    "\n",
    "Responda na célula abaixo:"
   ]
  },
  {
   "cell_type": "markdown",
   "metadata": {},
   "source": [
    "2. \n",
    "\n",
    "3. O tempo de execução aumenta porque a criação e as operações nas threads gera overhead na execução do programa, de modo que a partir de um momento não compensa mais aumentar o número de threads. Sim, embora seja algo contraintuitivo, dada a motivação de maior eficiência computacional na programação concorrente/paralela."
   ]
  },
  {
   "cell_type": "markdown",
   "metadata": {},
   "source": [
    "#### Gerando Gráficos"
   ]
  },
  {
   "cell_type": "code",
   "execution_count": 141,
   "metadata": {},
   "outputs": [
    {
     "data": {
      "image/svg+xml": [
       "<?xml version=\"1.0\" encoding=\"utf-8\"?>\n",
       "<svg xmlns=\"http://www.w3.org/2000/svg\" xmlns:xlink=\"http://www.w3.org/1999/xlink\" width=\"600\" height=\"400\" viewBox=\"0 0 2400 1600\">\n",
       "<defs>\n",
       "  <clipPath id=\"clip5400\">\n",
       "    <rect x=\"0\" y=\"0\" width=\"2400\" height=\"1600\"/>\n",
       "  </clipPath>\n",
       "</defs>\n",
       "<path clip-path=\"url(#clip5400)\" d=\"\n",
       "M0 1600 L2400 1600 L2400 0 L0 0  Z\n",
       "  \" fill=\"#ffffff\" fill-rule=\"evenodd\" fill-opacity=\"1\"/>\n",
       "<defs>\n",
       "  <clipPath id=\"clip5401\">\n",
       "    <rect x=\"480\" y=\"0\" width=\"1681\" height=\"1600\"/>\n",
       "  </clipPath>\n",
       "</defs>\n",
       "<path clip-path=\"url(#clip5400)\" d=\"\n",
       "M146.714 1486.45 L2352.76 1486.45 L2352.76 47.2441 L146.714 47.2441  Z\n",
       "  \" fill=\"#ffffff\" fill-rule=\"evenodd\" fill-opacity=\"1\"/>\n",
       "<defs>\n",
       "  <clipPath id=\"clip5402\">\n",
       "    <rect x=\"146\" y=\"47\" width=\"2207\" height=\"1440\"/>\n",
       "  </clipPath>\n",
       "</defs>\n",
       "<polyline clip-path=\"url(#clip5402)\" style=\"stroke:#000000; stroke-width:2; stroke-opacity:0.1; fill:none\" points=\"\n",
       "  506.459,1486.45 506.459,47.2441 \n",
       "  \"/>\n",
       "<polyline clip-path=\"url(#clip5402)\" style=\"stroke:#000000; stroke-width:2; stroke-opacity:0.1; fill:none\" points=\"\n",
       "  1101.08,1486.45 1101.08,47.2441 \n",
       "  \"/>\n",
       "<polyline clip-path=\"url(#clip5402)\" style=\"stroke:#000000; stroke-width:2; stroke-opacity:0.1; fill:none\" points=\"\n",
       "  1695.7,1486.45 1695.7,47.2441 \n",
       "  \"/>\n",
       "<polyline clip-path=\"url(#clip5402)\" style=\"stroke:#000000; stroke-width:2; stroke-opacity:0.1; fill:none\" points=\"\n",
       "  2290.32,1486.45 2290.32,47.2441 \n",
       "  \"/>\n",
       "<polyline clip-path=\"url(#clip5402)\" style=\"stroke:#000000; stroke-width:2; stroke-opacity:0.1; fill:none\" points=\"\n",
       "  146.714,1265.78 2352.76,1265.78 \n",
       "  \"/>\n",
       "<polyline clip-path=\"url(#clip5402)\" style=\"stroke:#000000; stroke-width:2; stroke-opacity:0.1; fill:none\" points=\"\n",
       "  146.714,977.216 2352.76,977.216 \n",
       "  \"/>\n",
       "<polyline clip-path=\"url(#clip5402)\" style=\"stroke:#000000; stroke-width:2; stroke-opacity:0.1; fill:none\" points=\"\n",
       "  146.714,688.651 2352.76,688.651 \n",
       "  \"/>\n",
       "<polyline clip-path=\"url(#clip5402)\" style=\"stroke:#000000; stroke-width:2; stroke-opacity:0.1; fill:none\" points=\"\n",
       "  146.714,400.087 2352.76,400.087 \n",
       "  \"/>\n",
       "<polyline clip-path=\"url(#clip5402)\" style=\"stroke:#000000; stroke-width:2; stroke-opacity:0.1; fill:none\" points=\"\n",
       "  146.714,111.522 2352.76,111.522 \n",
       "  \"/>\n",
       "<polyline clip-path=\"url(#clip5400)\" style=\"stroke:#000000; stroke-width:4; stroke-opacity:1; fill:none\" points=\"\n",
       "  146.714,1486.45 2352.76,1486.45 \n",
       "  \"/>\n",
       "<polyline clip-path=\"url(#clip5400)\" style=\"stroke:#000000; stroke-width:4; stroke-opacity:1; fill:none\" points=\"\n",
       "  146.714,1486.45 146.714,47.2441 \n",
       "  \"/>\n",
       "<polyline clip-path=\"url(#clip5400)\" style=\"stroke:#000000; stroke-width:4; stroke-opacity:1; fill:none\" points=\"\n",
       "  506.459,1486.45 506.459,1469.18 \n",
       "  \"/>\n",
       "<polyline clip-path=\"url(#clip5400)\" style=\"stroke:#000000; stroke-width:4; stroke-opacity:1; fill:none\" points=\"\n",
       "  1101.08,1486.45 1101.08,1469.18 \n",
       "  \"/>\n",
       "<polyline clip-path=\"url(#clip5400)\" style=\"stroke:#000000; stroke-width:4; stroke-opacity:1; fill:none\" points=\"\n",
       "  1695.7,1486.45 1695.7,1469.18 \n",
       "  \"/>\n",
       "<polyline clip-path=\"url(#clip5400)\" style=\"stroke:#000000; stroke-width:4; stroke-opacity:1; fill:none\" points=\"\n",
       "  2290.32,1486.45 2290.32,1469.18 \n",
       "  \"/>\n",
       "<polyline clip-path=\"url(#clip5400)\" style=\"stroke:#000000; stroke-width:4; stroke-opacity:1; fill:none\" points=\"\n",
       "  146.714,1265.78 173.187,1265.78 \n",
       "  \"/>\n",
       "<polyline clip-path=\"url(#clip5400)\" style=\"stroke:#000000; stroke-width:4; stroke-opacity:1; fill:none\" points=\"\n",
       "  146.714,977.216 173.187,977.216 \n",
       "  \"/>\n",
       "<polyline clip-path=\"url(#clip5400)\" style=\"stroke:#000000; stroke-width:4; stroke-opacity:1; fill:none\" points=\"\n",
       "  146.714,688.651 173.187,688.651 \n",
       "  \"/>\n",
       "<polyline clip-path=\"url(#clip5400)\" style=\"stroke:#000000; stroke-width:4; stroke-opacity:1; fill:none\" points=\"\n",
       "  146.714,400.087 173.187,400.087 \n",
       "  \"/>\n",
       "<polyline clip-path=\"url(#clip5400)\" style=\"stroke:#000000; stroke-width:4; stroke-opacity:1; fill:none\" points=\"\n",
       "  146.714,111.522 173.187,111.522 \n",
       "  \"/>\n",
       "<path clip-path=\"url(#clip5400)\" d=\"M 0 0 M501.112 1535.98 L517.432 1535.98 L517.432 1539.92 L495.487 1539.92 L495.487 1535.98 Q498.149 1533.23 502.733 1528.6 Q507.339 1523.95 508.52 1522.61 Q510.765 1520.08 511.645 1518.35 Q512.547 1516.59 512.547 1514.9 Q512.547 1512.14 510.603 1510.41 Q508.682 1508.67 505.58 1508.67 Q503.381 1508.67 500.927 1509.43 Q498.496 1510.2 495.719 1511.75 L495.719 1507.03 Q498.543 1505.89 500.996 1505.31 Q503.45 1504.73 505.487 1504.73 Q510.858 1504.73 514.052 1507.42 Q517.246 1510.11 517.246 1514.6 Q517.246 1516.73 516.436 1518.65 Q515.649 1520.54 513.543 1523.14 Q512.964 1523.81 509.862 1527.03 Q506.76 1530.22 501.112 1535.98 Z\" fill=\"#000000\" fill-rule=\"evenodd\" fill-opacity=\"1\" /><path clip-path=\"url(#clip5400)\" d=\"M 0 0 M1104.09 1509.43 L1092.28 1527.88 L1104.09 1527.88 L1104.09 1509.43 M1102.86 1505.36 L1108.74 1505.36 L1108.74 1527.88 L1113.67 1527.88 L1113.67 1531.77 L1108.74 1531.77 L1108.74 1539.92 L1104.09 1539.92 L1104.09 1531.77 L1088.49 1531.77 L1088.49 1527.26 L1102.86 1505.36 Z\" fill=\"#000000\" fill-rule=\"evenodd\" fill-opacity=\"1\" /><path clip-path=\"url(#clip5400)\" d=\"M 0 0 M1696.11 1520.78 Q1692.96 1520.78 1691.11 1522.93 Q1689.28 1525.08 1689.28 1528.83 Q1689.28 1532.56 1691.11 1534.73 Q1692.96 1536.89 1696.11 1536.89 Q1699.25 1536.89 1701.08 1534.73 Q1702.93 1532.56 1702.93 1528.83 Q1702.93 1525.08 1701.08 1522.93 Q1699.25 1520.78 1696.11 1520.78 M1705.39 1506.12 L1705.39 1510.38 Q1703.63 1509.55 1701.82 1509.11 Q1700.04 1508.67 1698.28 1508.67 Q1693.65 1508.67 1691.2 1511.8 Q1688.77 1514.92 1688.42 1521.24 Q1689.79 1519.23 1691.85 1518.16 Q1693.91 1517.07 1696.38 1517.07 Q1701.59 1517.07 1704.6 1520.24 Q1707.63 1523.39 1707.63 1528.83 Q1707.63 1534.16 1704.48 1537.37 Q1701.34 1540.59 1696.11 1540.59 Q1690.11 1540.59 1686.94 1536.01 Q1683.77 1531.4 1683.77 1522.67 Q1683.77 1514.48 1687.66 1509.62 Q1691.55 1504.73 1698.1 1504.73 Q1699.86 1504.73 1701.64 1505.08 Q1703.44 1505.43 1705.39 1506.12 Z\" fill=\"#000000\" fill-rule=\"evenodd\" fill-opacity=\"1\" /><path clip-path=\"url(#clip5400)\" d=\"M 0 0 M2290.32 1523.51 Q2286.99 1523.51 2285.07 1525.29 Q2283.17 1527.07 2283.17 1530.2 Q2283.17 1533.32 2285.07 1535.11 Q2286.99 1536.89 2290.32 1536.89 Q2293.65 1536.89 2295.58 1535.11 Q2297.5 1533.3 2297.5 1530.2 Q2297.5 1527.07 2295.58 1525.29 Q2293.68 1523.51 2290.32 1523.51 M2285.64 1521.52 Q2282.64 1520.78 2280.95 1518.72 Q2279.28 1516.66 2279.28 1513.69 Q2279.28 1509.55 2282.22 1507.14 Q2285.18 1504.73 2290.32 1504.73 Q2295.48 1504.73 2298.42 1507.14 Q2301.36 1509.55 2301.36 1513.69 Q2301.36 1516.66 2299.67 1518.72 Q2298.01 1520.78 2295.02 1521.52 Q2298.4 1522.3 2300.27 1524.6 Q2302.17 1526.89 2302.17 1530.2 Q2302.17 1535.22 2299.09 1537.91 Q2296.04 1540.59 2290.32 1540.59 Q2284.6 1540.59 2281.52 1537.91 Q2278.47 1535.22 2278.47 1530.2 Q2278.47 1526.89 2280.37 1524.6 Q2282.27 1522.3 2285.64 1521.52 M2283.93 1514.13 Q2283.93 1516.82 2285.6 1518.32 Q2287.29 1519.83 2290.32 1519.83 Q2293.33 1519.83 2295.02 1518.32 Q2296.73 1516.82 2296.73 1514.13 Q2296.73 1511.45 2295.02 1509.94 Q2293.33 1508.44 2290.32 1508.44 Q2287.29 1508.44 2285.6 1509.94 Q2283.93 1511.45 2283.93 1514.13 Z\" fill=\"#000000\" fill-rule=\"evenodd\" fill-opacity=\"1\" /><path clip-path=\"url(#clip5400)\" d=\"M 0 0 M65.8393 1279.12 L73.4782 1279.12 L73.4782 1252.76 L65.168 1254.43 L65.168 1250.17 L73.4319 1248.5 L78.1078 1248.5 L78.1078 1279.12 L85.7466 1279.12 L85.7466 1283.06 L65.8393 1283.06 L65.8393 1279.12 Z\" fill=\"#000000\" fill-rule=\"evenodd\" fill-opacity=\"1\" /><path clip-path=\"url(#clip5400)\" d=\"M 0 0 M90.8161 1277.18 L95.7003 1277.18 L95.7003 1283.06 L90.8161 1283.06 L90.8161 1277.18 Z\" fill=\"#000000\" fill-rule=\"evenodd\" fill-opacity=\"1\" /><path clip-path=\"url(#clip5400)\" d=\"M 0 0 M110.77 1251.58 Q107.159 1251.58 105.33 1255.14 Q103.524 1258.69 103.524 1265.81 Q103.524 1272.92 105.33 1276.49 Q107.159 1280.03 110.77 1280.03 Q114.404 1280.03 116.209 1276.49 Q118.038 1272.92 118.038 1265.81 Q118.038 1258.69 116.209 1255.14 Q114.404 1251.58 110.77 1251.58 M110.77 1247.88 Q116.58 1247.88 119.635 1252.48 Q122.714 1257.06 122.714 1265.81 Q122.714 1274.54 119.635 1279.15 Q116.58 1283.73 110.77 1283.73 Q104.959 1283.73 101.881 1279.15 Q98.8253 1274.54 98.8253 1265.81 Q98.8253 1257.06 101.881 1252.48 Q104.959 1247.88 110.77 1247.88 Z\" fill=\"#000000\" fill-rule=\"evenodd\" fill-opacity=\"1\" /><path clip-path=\"url(#clip5400)\" d=\"M 0 0 M66.8347 990.56 L74.4735 990.56 L74.4735 964.195 L66.1634 965.861 L66.1634 961.602 L74.4272 959.936 L79.1032 959.936 L79.1032 990.56 L86.742 990.56 L86.742 994.496 L66.8347 994.496 L66.8347 990.56 Z\" fill=\"#000000\" fill-rule=\"evenodd\" fill-opacity=\"1\" /><path clip-path=\"url(#clip5400)\" d=\"M 0 0 M91.8114 988.616 L96.6956 988.616 L96.6956 994.496 L91.8114 994.496 L91.8114 988.616 Z\" fill=\"#000000\" fill-rule=\"evenodd\" fill-opacity=\"1\" /><path clip-path=\"url(#clip5400)\" d=\"M 0 0 M101.811 959.936 L120.168 959.936 L120.168 963.871 L106.094 963.871 L106.094 972.343 Q107.112 971.996 108.131 971.834 Q109.149 971.648 110.168 971.648 Q115.955 971.648 119.334 974.82 Q122.714 977.991 122.714 983.408 Q122.714 988.986 119.242 992.088 Q115.77 995.167 109.45 995.167 Q107.274 995.167 105.006 994.797 Q102.76 994.426 100.353 993.685 L100.353 988.986 Q102.436 990.121 104.659 990.676 Q106.881 991.232 109.358 991.232 Q113.362 991.232 115.7 989.125 Q118.038 987.019 118.038 983.408 Q118.038 979.797 115.7 977.69 Q113.362 975.584 109.358 975.584 Q107.483 975.584 105.608 976 Q103.756 976.417 101.811 977.297 L101.811 959.936 Z\" fill=\"#000000\" fill-rule=\"evenodd\" fill-opacity=\"1\" /><path clip-path=\"url(#clip5400)\" d=\"M 0 0 M69.4273 701.996 L85.7466 701.996 L85.7466 705.931 L63.8023 705.931 L63.8023 701.996 Q66.4643 699.241 71.0476 694.612 Q75.6541 689.959 76.8346 688.616 Q79.08 686.093 79.9596 684.357 Q80.8624 682.598 80.8624 680.908 Q80.8624 678.153 78.918 676.417 Q76.9967 674.681 73.8948 674.681 Q71.6958 674.681 69.2421 675.445 Q66.8115 676.209 64.0338 677.76 L64.0338 673.038 Q66.8578 671.903 69.3115 671.325 Q71.7652 670.746 73.8023 670.746 Q79.1726 670.746 82.367 673.431 Q85.5614 676.116 85.5614 680.607 Q85.5614 682.737 84.7513 684.658 Q83.9642 686.556 81.8578 689.149 Q81.2791 689.82 78.1772 693.038 Q75.0754 696.232 69.4273 701.996 Z\" fill=\"#000000\" fill-rule=\"evenodd\" fill-opacity=\"1\" /><path clip-path=\"url(#clip5400)\" d=\"M 0 0 M90.8161 700.051 L95.7003 700.051 L95.7003 705.931 L90.8161 705.931 L90.8161 700.051 Z\" fill=\"#000000\" fill-rule=\"evenodd\" fill-opacity=\"1\" /><path clip-path=\"url(#clip5400)\" d=\"M 0 0 M110.77 674.45 Q107.159 674.45 105.33 678.015 Q103.524 681.556 103.524 688.686 Q103.524 695.792 105.33 699.357 Q107.159 702.899 110.77 702.899 Q114.404 702.899 116.209 699.357 Q118.038 695.792 118.038 688.686 Q118.038 681.556 116.209 678.015 Q114.404 674.45 110.77 674.45 M110.77 670.746 Q116.58 670.746 119.635 675.353 Q122.714 679.936 122.714 688.686 Q122.714 697.413 119.635 702.019 Q116.58 706.602 110.77 706.602 Q104.959 706.602 101.881 702.019 Q98.8253 697.413 98.8253 688.686 Q98.8253 679.936 101.881 675.353 Q104.959 670.746 110.77 670.746 Z\" fill=\"#000000\" fill-rule=\"evenodd\" fill-opacity=\"1\" /><path clip-path=\"url(#clip5400)\" d=\"M 0 0 M70.4226 413.431 L86.742 413.431 L86.742 417.367 L64.7977 417.367 L64.7977 413.431 Q67.4597 410.677 72.043 406.047 Q76.6495 401.394 77.83 400.052 Q80.0754 397.529 80.955 395.793 Q81.8578 394.033 81.8578 392.344 Q81.8578 389.589 79.9133 387.853 Q77.992 386.117 74.8902 386.117 Q72.6911 386.117 70.2375 386.881 Q67.8069 387.644 65.0292 389.195 L65.0292 384.473 Q67.8532 383.339 70.3069 382.76 Q72.7606 382.182 74.7976 382.182 Q80.168 382.182 83.3624 384.867 Q86.5568 387.552 86.5568 392.043 Q86.5568 394.172 85.7466 396.093 Q84.9596 397.992 82.8531 400.584 Q82.2744 401.255 79.1726 404.473 Q76.0708 407.667 70.4226 413.431 Z\" fill=\"#000000\" fill-rule=\"evenodd\" fill-opacity=\"1\" /><path clip-path=\"url(#clip5400)\" d=\"M 0 0 M91.8114 411.487 L96.6956 411.487 L96.6956 417.367 L91.8114 417.367 L91.8114 411.487 Z\" fill=\"#000000\" fill-rule=\"evenodd\" fill-opacity=\"1\" /><path clip-path=\"url(#clip5400)\" d=\"M 0 0 M101.811 382.807 L120.168 382.807 L120.168 386.742 L106.094 386.742 L106.094 395.214 Q107.112 394.867 108.131 394.705 Q109.149 394.519 110.168 394.519 Q115.955 394.519 119.334 397.691 Q122.714 400.862 122.714 406.279 Q122.714 411.857 119.242 414.959 Q115.77 418.038 109.45 418.038 Q107.274 418.038 105.006 417.667 Q102.76 417.297 100.353 416.556 L100.353 411.857 Q102.436 412.992 104.659 413.547 Q106.881 414.103 109.358 414.103 Q113.362 414.103 115.7 411.996 Q118.038 409.89 118.038 406.279 Q118.038 402.668 115.7 400.561 Q113.362 398.455 109.358 398.455 Q107.483 398.455 105.608 398.871 Q103.756 399.288 101.811 400.168 L101.811 382.807 Z\" fill=\"#000000\" fill-rule=\"evenodd\" fill-opacity=\"1\" /><path clip-path=\"url(#clip5400)\" d=\"M 0 0 M78.617 110.168 Q81.9735 110.885 83.8485 113.154 Q85.7466 115.422 85.7466 118.756 Q85.7466 123.871 82.2281 126.672 Q78.7096 129.473 72.2282 129.473 Q70.0523 129.473 67.7375 129.033 Q65.4458 128.617 62.9921 127.76 L62.9921 123.246 Q64.9366 124.381 67.2514 124.959 Q69.5662 125.538 72.0893 125.538 Q76.4874 125.538 78.7791 123.802 Q81.0939 122.066 81.0939 118.756 Q81.0939 115.7 78.9411 113.987 Q76.8115 112.251 72.9921 112.251 L68.9643 112.251 L68.9643 108.409 L73.1773 108.409 Q76.6263 108.409 78.455 107.043 Q80.2837 105.654 80.2837 103.061 Q80.2837 100.399 78.3856 98.9873 Q76.5106 97.5522 72.9921 97.5522 Q71.0708 97.5522 68.8717 97.9688 Q66.6727 98.3855 64.0338 99.2651 L64.0338 95.0985 Q66.6958 94.3577 69.0106 93.9874 Q71.3486 93.617 73.4087 93.617 Q78.7328 93.617 81.8346 96.0475 Q84.9365 98.4549 84.9365 102.575 Q84.9365 105.446 83.2929 107.436 Q81.6494 109.404 78.617 110.168 Z\" fill=\"#000000\" fill-rule=\"evenodd\" fill-opacity=\"1\" /><path clip-path=\"url(#clip5400)\" d=\"M 0 0 M90.8161 122.922 L95.7003 122.922 L95.7003 128.802 L90.8161 128.802 L90.8161 122.922 Z\" fill=\"#000000\" fill-rule=\"evenodd\" fill-opacity=\"1\" /><path clip-path=\"url(#clip5400)\" d=\"M 0 0 M110.77 97.3207 Q107.159 97.3207 105.33 100.885 Q103.524 104.427 103.524 111.557 Q103.524 118.663 105.33 122.228 Q107.159 125.77 110.77 125.77 Q114.404 125.77 116.209 122.228 Q118.038 118.663 118.038 111.557 Q118.038 104.427 116.209 100.885 Q114.404 97.3207 110.77 97.3207 M110.77 93.617 Q116.58 93.617 119.635 98.2234 Q122.714 102.807 122.714 111.557 Q122.714 120.284 119.635 124.89 Q116.58 129.473 110.77 129.473 Q104.959 129.473 101.881 124.89 Q98.8253 120.284 98.8253 111.557 Q98.8253 102.807 101.881 98.2234 Q104.959 93.617 110.77 93.617 Z\" fill=\"#000000\" fill-rule=\"evenodd\" fill-opacity=\"1\" /><circle clip-path=\"url(#clip5402)\" cx=\"209.149\" cy=\"87.9763\" r=\"14\" fill=\"#009af9\" fill-rule=\"evenodd\" fill-opacity=\"0.6\" stroke=\"#000000\" stroke-opacity=\"0.6\" stroke-width=\"3.2\"/>\n",
       "<circle clip-path=\"url(#clip5402)\" cx=\"209.149\" cy=\"1417.54\" r=\"14\" fill=\"#009af9\" fill-rule=\"evenodd\" fill-opacity=\"0.6\" stroke=\"#000000\" stroke-opacity=\"0.6\" stroke-width=\"3.2\"/>\n",
       "<circle clip-path=\"url(#clip5402)\" cx=\"209.149\" cy=\"1444.7\" r=\"14\" fill=\"#009af9\" fill-rule=\"evenodd\" fill-opacity=\"0.6\" stroke=\"#000000\" stroke-opacity=\"0.6\" stroke-width=\"3.2\"/>\n",
       "<circle clip-path=\"url(#clip5402)\" cx=\"209.149\" cy=\"1444.94\" r=\"14\" fill=\"#009af9\" fill-rule=\"evenodd\" fill-opacity=\"0.6\" stroke=\"#000000\" stroke-opacity=\"0.6\" stroke-width=\"3.2\"/>\n",
       "<circle clip-path=\"url(#clip5402)\" cx=\"209.149\" cy=\"1442.38\" r=\"14\" fill=\"#009af9\" fill-rule=\"evenodd\" fill-opacity=\"0.6\" stroke=\"#000000\" stroke-opacity=\"0.6\" stroke-width=\"3.2\"/>\n",
       "<circle clip-path=\"url(#clip5402)\" cx=\"209.149\" cy=\"1394.56\" r=\"14\" fill=\"#009af9\" fill-rule=\"evenodd\" fill-opacity=\"0.6\" stroke=\"#000000\" stroke-opacity=\"0.6\" stroke-width=\"3.2\"/>\n",
       "<circle clip-path=\"url(#clip5402)\" cx=\"209.149\" cy=\"1387.05\" r=\"14\" fill=\"#009af9\" fill-rule=\"evenodd\" fill-opacity=\"0.6\" stroke=\"#000000\" stroke-opacity=\"0.6\" stroke-width=\"3.2\"/>\n",
       "<circle clip-path=\"url(#clip5402)\" cx=\"209.149\" cy=\"1374.39\" r=\"14\" fill=\"#009af9\" fill-rule=\"evenodd\" fill-opacity=\"0.6\" stroke=\"#000000\" stroke-opacity=\"0.6\" stroke-width=\"3.2\"/>\n",
       "<circle clip-path=\"url(#clip5402)\" cx=\"209.149\" cy=\"1361.24\" r=\"14\" fill=\"#009af9\" fill-rule=\"evenodd\" fill-opacity=\"0.6\" stroke=\"#000000\" stroke-opacity=\"0.6\" stroke-width=\"3.2\"/>\n",
       "<circle clip-path=\"url(#clip5402)\" cx=\"209.149\" cy=\"1384.07\" r=\"14\" fill=\"#009af9\" fill-rule=\"evenodd\" fill-opacity=\"0.6\" stroke=\"#000000\" stroke-opacity=\"0.6\" stroke-width=\"3.2\"/>\n",
       "<circle clip-path=\"url(#clip5402)\" cx=\"506.459\" cy=\"1327.7\" r=\"14\" fill=\"#009af9\" fill-rule=\"evenodd\" fill-opacity=\"0.6\" stroke=\"#000000\" stroke-opacity=\"0.6\" stroke-width=\"3.2\"/>\n",
       "<circle clip-path=\"url(#clip5402)\" cx=\"506.459\" cy=\"1257.3\" r=\"14\" fill=\"#009af9\" fill-rule=\"evenodd\" fill-opacity=\"0.6\" stroke=\"#000000\" stroke-opacity=\"0.6\" stroke-width=\"3.2\"/>\n",
       "<circle clip-path=\"url(#clip5402)\" cx=\"506.459\" cy=\"1209.31\" r=\"14\" fill=\"#009af9\" fill-rule=\"evenodd\" fill-opacity=\"0.6\" stroke=\"#000000\" stroke-opacity=\"0.6\" stroke-width=\"3.2\"/>\n",
       "<circle clip-path=\"url(#clip5402)\" cx=\"506.459\" cy=\"1256.42\" r=\"14\" fill=\"#009af9\" fill-rule=\"evenodd\" fill-opacity=\"0.6\" stroke=\"#000000\" stroke-opacity=\"0.6\" stroke-width=\"3.2\"/>\n",
       "<circle clip-path=\"url(#clip5402)\" cx=\"506.459\" cy=\"1244.1\" r=\"14\" fill=\"#009af9\" fill-rule=\"evenodd\" fill-opacity=\"0.6\" stroke=\"#000000\" stroke-opacity=\"0.6\" stroke-width=\"3.2\"/>\n",
       "<circle clip-path=\"url(#clip5402)\" cx=\"506.459\" cy=\"1305.4\" r=\"14\" fill=\"#009af9\" fill-rule=\"evenodd\" fill-opacity=\"0.6\" stroke=\"#000000\" stroke-opacity=\"0.6\" stroke-width=\"3.2\"/>\n",
       "<circle clip-path=\"url(#clip5402)\" cx=\"506.459\" cy=\"1401.61\" r=\"14\" fill=\"#009af9\" fill-rule=\"evenodd\" fill-opacity=\"0.6\" stroke=\"#000000\" stroke-opacity=\"0.6\" stroke-width=\"3.2\"/>\n",
       "<circle clip-path=\"url(#clip5402)\" cx=\"506.459\" cy=\"1342.65\" r=\"14\" fill=\"#009af9\" fill-rule=\"evenodd\" fill-opacity=\"0.6\" stroke=\"#000000\" stroke-opacity=\"0.6\" stroke-width=\"3.2\"/>\n",
       "<circle clip-path=\"url(#clip5402)\" cx=\"506.459\" cy=\"1298.99\" r=\"14\" fill=\"#009af9\" fill-rule=\"evenodd\" fill-opacity=\"0.6\" stroke=\"#000000\" stroke-opacity=\"0.6\" stroke-width=\"3.2\"/>\n",
       "<circle clip-path=\"url(#clip5402)\" cx=\"506.459\" cy=\"1380.78\" r=\"14\" fill=\"#009af9\" fill-rule=\"evenodd\" fill-opacity=\"0.6\" stroke=\"#000000\" stroke-opacity=\"0.6\" stroke-width=\"3.2\"/>\n",
       "<circle clip-path=\"url(#clip5402)\" cx=\"803.77\" cy=\"1428.82\" r=\"14\" fill=\"#009af9\" fill-rule=\"evenodd\" fill-opacity=\"0.6\" stroke=\"#000000\" stroke-opacity=\"0.6\" stroke-width=\"3.2\"/>\n",
       "<circle clip-path=\"url(#clip5402)\" cx=\"803.77\" cy=\"1440.41\" r=\"14\" fill=\"#009af9\" fill-rule=\"evenodd\" fill-opacity=\"0.6\" stroke=\"#000000\" stroke-opacity=\"0.6\" stroke-width=\"3.2\"/>\n",
       "<circle clip-path=\"url(#clip5402)\" cx=\"803.77\" cy=\"1426.54\" r=\"14\" fill=\"#009af9\" fill-rule=\"evenodd\" fill-opacity=\"0.6\" stroke=\"#000000\" stroke-opacity=\"0.6\" stroke-width=\"3.2\"/>\n",
       "<circle clip-path=\"url(#clip5402)\" cx=\"803.77\" cy=\"1418.73\" r=\"14\" fill=\"#009af9\" fill-rule=\"evenodd\" fill-opacity=\"0.6\" stroke=\"#000000\" stroke-opacity=\"0.6\" stroke-width=\"3.2\"/>\n",
       "<circle clip-path=\"url(#clip5402)\" cx=\"803.77\" cy=\"1429.84\" r=\"14\" fill=\"#009af9\" fill-rule=\"evenodd\" fill-opacity=\"0.6\" stroke=\"#000000\" stroke-opacity=\"0.6\" stroke-width=\"3.2\"/>\n",
       "<circle clip-path=\"url(#clip5402)\" cx=\"803.77\" cy=\"1426.42\" r=\"14\" fill=\"#009af9\" fill-rule=\"evenodd\" fill-opacity=\"0.6\" stroke=\"#000000\" stroke-opacity=\"0.6\" stroke-width=\"3.2\"/>\n",
       "<circle clip-path=\"url(#clip5402)\" cx=\"803.77\" cy=\"1420.36\" r=\"14\" fill=\"#009af9\" fill-rule=\"evenodd\" fill-opacity=\"0.6\" stroke=\"#000000\" stroke-opacity=\"0.6\" stroke-width=\"3.2\"/>\n",
       "<circle clip-path=\"url(#clip5402)\" cx=\"803.77\" cy=\"1408.63\" r=\"14\" fill=\"#009af9\" fill-rule=\"evenodd\" fill-opacity=\"0.6\" stroke=\"#000000\" stroke-opacity=\"0.6\" stroke-width=\"3.2\"/>\n",
       "<circle clip-path=\"url(#clip5402)\" cx=\"803.77\" cy=\"927.689\" r=\"14\" fill=\"#009af9\" fill-rule=\"evenodd\" fill-opacity=\"0.6\" stroke=\"#000000\" stroke-opacity=\"0.6\" stroke-width=\"3.2\"/>\n",
       "<circle clip-path=\"url(#clip5402)\" cx=\"803.77\" cy=\"1431.63\" r=\"14\" fill=\"#009af9\" fill-rule=\"evenodd\" fill-opacity=\"0.6\" stroke=\"#000000\" stroke-opacity=\"0.6\" stroke-width=\"3.2\"/>\n",
       "<circle clip-path=\"url(#clip5402)\" cx=\"1101.08\" cy=\"1377.08\" r=\"14\" fill=\"#009af9\" fill-rule=\"evenodd\" fill-opacity=\"0.6\" stroke=\"#000000\" stroke-opacity=\"0.6\" stroke-width=\"3.2\"/>\n",
       "<circle clip-path=\"url(#clip5402)\" cx=\"1101.08\" cy=\"1377.37\" r=\"14\" fill=\"#009af9\" fill-rule=\"evenodd\" fill-opacity=\"0.6\" stroke=\"#000000\" stroke-opacity=\"0.6\" stroke-width=\"3.2\"/>\n",
       "<circle clip-path=\"url(#clip5402)\" cx=\"1101.08\" cy=\"1334.88\" r=\"14\" fill=\"#009af9\" fill-rule=\"evenodd\" fill-opacity=\"0.6\" stroke=\"#000000\" stroke-opacity=\"0.6\" stroke-width=\"3.2\"/>\n",
       "<circle clip-path=\"url(#clip5402)\" cx=\"1101.08\" cy=\"1323.4\" r=\"14\" fill=\"#009af9\" fill-rule=\"evenodd\" fill-opacity=\"0.6\" stroke=\"#000000\" stroke-opacity=\"0.6\" stroke-width=\"3.2\"/>\n",
       "<circle clip-path=\"url(#clip5402)\" cx=\"1101.08\" cy=\"1236.37\" r=\"14\" fill=\"#009af9\" fill-rule=\"evenodd\" fill-opacity=\"0.6\" stroke=\"#000000\" stroke-opacity=\"0.6\" stroke-width=\"3.2\"/>\n",
       "<circle clip-path=\"url(#clip5402)\" cx=\"1101.08\" cy=\"1275.22\" r=\"14\" fill=\"#009af9\" fill-rule=\"evenodd\" fill-opacity=\"0.6\" stroke=\"#000000\" stroke-opacity=\"0.6\" stroke-width=\"3.2\"/>\n",
       "<circle clip-path=\"url(#clip5402)\" cx=\"1101.08\" cy=\"1305.87\" r=\"14\" fill=\"#009af9\" fill-rule=\"evenodd\" fill-opacity=\"0.6\" stroke=\"#000000\" stroke-opacity=\"0.6\" stroke-width=\"3.2\"/>\n",
       "<circle clip-path=\"url(#clip5402)\" cx=\"1101.08\" cy=\"1314.02\" r=\"14\" fill=\"#009af9\" fill-rule=\"evenodd\" fill-opacity=\"0.6\" stroke=\"#000000\" stroke-opacity=\"0.6\" stroke-width=\"3.2\"/>\n",
       "<circle clip-path=\"url(#clip5402)\" cx=\"1101.08\" cy=\"1337.18\" r=\"14\" fill=\"#009af9\" fill-rule=\"evenodd\" fill-opacity=\"0.6\" stroke=\"#000000\" stroke-opacity=\"0.6\" stroke-width=\"3.2\"/>\n",
       "<circle clip-path=\"url(#clip5402)\" cx=\"1101.08\" cy=\"1337.06\" r=\"14\" fill=\"#009af9\" fill-rule=\"evenodd\" fill-opacity=\"0.6\" stroke=\"#000000\" stroke-opacity=\"0.6\" stroke-width=\"3.2\"/>\n",
       "<circle clip-path=\"url(#clip5402)\" cx=\"1398.39\" cy=\"1246.35\" r=\"14\" fill=\"#009af9\" fill-rule=\"evenodd\" fill-opacity=\"0.6\" stroke=\"#000000\" stroke-opacity=\"0.6\" stroke-width=\"3.2\"/>\n",
       "<circle clip-path=\"url(#clip5402)\" cx=\"1398.39\" cy=\"1263.48\" r=\"14\" fill=\"#009af9\" fill-rule=\"evenodd\" fill-opacity=\"0.6\" stroke=\"#000000\" stroke-opacity=\"0.6\" stroke-width=\"3.2\"/>\n",
       "<circle clip-path=\"url(#clip5402)\" cx=\"1398.39\" cy=\"1284.04\" r=\"14\" fill=\"#009af9\" fill-rule=\"evenodd\" fill-opacity=\"0.6\" stroke=\"#000000\" stroke-opacity=\"0.6\" stroke-width=\"3.2\"/>\n",
       "<circle clip-path=\"url(#clip5402)\" cx=\"1398.39\" cy=\"1267.58\" r=\"14\" fill=\"#009af9\" fill-rule=\"evenodd\" fill-opacity=\"0.6\" stroke=\"#000000\" stroke-opacity=\"0.6\" stroke-width=\"3.2\"/>\n",
       "<circle clip-path=\"url(#clip5402)\" cx=\"1398.39\" cy=\"1294.52\" r=\"14\" fill=\"#009af9\" fill-rule=\"evenodd\" fill-opacity=\"0.6\" stroke=\"#000000\" stroke-opacity=\"0.6\" stroke-width=\"3.2\"/>\n",
       "<circle clip-path=\"url(#clip5402)\" cx=\"1398.39\" cy=\"1275.32\" r=\"14\" fill=\"#009af9\" fill-rule=\"evenodd\" fill-opacity=\"0.6\" stroke=\"#000000\" stroke-opacity=\"0.6\" stroke-width=\"3.2\"/>\n",
       "<circle clip-path=\"url(#clip5402)\" cx=\"1398.39\" cy=\"1293.28\" r=\"14\" fill=\"#009af9\" fill-rule=\"evenodd\" fill-opacity=\"0.6\" stroke=\"#000000\" stroke-opacity=\"0.6\" stroke-width=\"3.2\"/>\n",
       "<circle clip-path=\"url(#clip5402)\" cx=\"1398.39\" cy=\"1293.89\" r=\"14\" fill=\"#009af9\" fill-rule=\"evenodd\" fill-opacity=\"0.6\" stroke=\"#000000\" stroke-opacity=\"0.6\" stroke-width=\"3.2\"/>\n",
       "<circle clip-path=\"url(#clip5402)\" cx=\"1398.39\" cy=\"1345.1\" r=\"14\" fill=\"#009af9\" fill-rule=\"evenodd\" fill-opacity=\"0.6\" stroke=\"#000000\" stroke-opacity=\"0.6\" stroke-width=\"3.2\"/>\n",
       "<circle clip-path=\"url(#clip5402)\" cx=\"1398.39\" cy=\"1331.59\" r=\"14\" fill=\"#009af9\" fill-rule=\"evenodd\" fill-opacity=\"0.6\" stroke=\"#000000\" stroke-opacity=\"0.6\" stroke-width=\"3.2\"/>\n",
       "<circle clip-path=\"url(#clip5402)\" cx=\"1695.7\" cy=\"1352.97\" r=\"14\" fill=\"#009af9\" fill-rule=\"evenodd\" fill-opacity=\"0.6\" stroke=\"#000000\" stroke-opacity=\"0.6\" stroke-width=\"3.2\"/>\n",
       "<circle clip-path=\"url(#clip5402)\" cx=\"1695.7\" cy=\"1405.95\" r=\"14\" fill=\"#009af9\" fill-rule=\"evenodd\" fill-opacity=\"0.6\" stroke=\"#000000\" stroke-opacity=\"0.6\" stroke-width=\"3.2\"/>\n",
       "<circle clip-path=\"url(#clip5402)\" cx=\"1695.7\" cy=\"1324.92\" r=\"14\" fill=\"#009af9\" fill-rule=\"evenodd\" fill-opacity=\"0.6\" stroke=\"#000000\" stroke-opacity=\"0.6\" stroke-width=\"3.2\"/>\n",
       "<circle clip-path=\"url(#clip5402)\" cx=\"1695.7\" cy=\"1301.02\" r=\"14\" fill=\"#009af9\" fill-rule=\"evenodd\" fill-opacity=\"0.6\" stroke=\"#000000\" stroke-opacity=\"0.6\" stroke-width=\"3.2\"/>\n",
       "<circle clip-path=\"url(#clip5402)\" cx=\"1695.7\" cy=\"1413.02\" r=\"14\" fill=\"#009af9\" fill-rule=\"evenodd\" fill-opacity=\"0.6\" stroke=\"#000000\" stroke-opacity=\"0.6\" stroke-width=\"3.2\"/>\n",
       "<circle clip-path=\"url(#clip5402)\" cx=\"1695.7\" cy=\"1437.71\" r=\"14\" fill=\"#009af9\" fill-rule=\"evenodd\" fill-opacity=\"0.6\" stroke=\"#000000\" stroke-opacity=\"0.6\" stroke-width=\"3.2\"/>\n",
       "<circle clip-path=\"url(#clip5402)\" cx=\"1695.7\" cy=\"1440.67\" r=\"14\" fill=\"#009af9\" fill-rule=\"evenodd\" fill-opacity=\"0.6\" stroke=\"#000000\" stroke-opacity=\"0.6\" stroke-width=\"3.2\"/>\n",
       "<circle clip-path=\"url(#clip5402)\" cx=\"1695.7\" cy=\"1440.61\" r=\"14\" fill=\"#009af9\" fill-rule=\"evenodd\" fill-opacity=\"0.6\" stroke=\"#000000\" stroke-opacity=\"0.6\" stroke-width=\"3.2\"/>\n",
       "<circle clip-path=\"url(#clip5402)\" cx=\"1695.7\" cy=\"1436.22\" r=\"14\" fill=\"#009af9\" fill-rule=\"evenodd\" fill-opacity=\"0.6\" stroke=\"#000000\" stroke-opacity=\"0.6\" stroke-width=\"3.2\"/>\n",
       "<circle clip-path=\"url(#clip5402)\" cx=\"1695.7\" cy=\"1430.1\" r=\"14\" fill=\"#009af9\" fill-rule=\"evenodd\" fill-opacity=\"0.6\" stroke=\"#000000\" stroke-opacity=\"0.6\" stroke-width=\"3.2\"/>\n",
       "<circle clip-path=\"url(#clip5402)\" cx=\"1993.01\" cy=\"1438.49\" r=\"14\" fill=\"#009af9\" fill-rule=\"evenodd\" fill-opacity=\"0.6\" stroke=\"#000000\" stroke-opacity=\"0.6\" stroke-width=\"3.2\"/>\n",
       "<circle clip-path=\"url(#clip5402)\" cx=\"1993.01\" cy=\"1445.72\" r=\"14\" fill=\"#009af9\" fill-rule=\"evenodd\" fill-opacity=\"0.6\" stroke=\"#000000\" stroke-opacity=\"0.6\" stroke-width=\"3.2\"/>\n",
       "<circle clip-path=\"url(#clip5402)\" cx=\"1993.01\" cy=\"1339.78\" r=\"14\" fill=\"#009af9\" fill-rule=\"evenodd\" fill-opacity=\"0.6\" stroke=\"#000000\" stroke-opacity=\"0.6\" stroke-width=\"3.2\"/>\n",
       "<circle clip-path=\"url(#clip5402)\" cx=\"1993.01\" cy=\"1289.93\" r=\"14\" fill=\"#009af9\" fill-rule=\"evenodd\" fill-opacity=\"0.6\" stroke=\"#000000\" stroke-opacity=\"0.6\" stroke-width=\"3.2\"/>\n",
       "<circle clip-path=\"url(#clip5402)\" cx=\"1993.01\" cy=\"1291.86\" r=\"14\" fill=\"#009af9\" fill-rule=\"evenodd\" fill-opacity=\"0.6\" stroke=\"#000000\" stroke-opacity=\"0.6\" stroke-width=\"3.2\"/>\n",
       "<circle clip-path=\"url(#clip5402)\" cx=\"1993.01\" cy=\"1362.05\" r=\"14\" fill=\"#009af9\" fill-rule=\"evenodd\" fill-opacity=\"0.6\" stroke=\"#000000\" stroke-opacity=\"0.6\" stroke-width=\"3.2\"/>\n",
       "<circle clip-path=\"url(#clip5402)\" cx=\"1993.01\" cy=\"1406.63\" r=\"14\" fill=\"#009af9\" fill-rule=\"evenodd\" fill-opacity=\"0.6\" stroke=\"#000000\" stroke-opacity=\"0.6\" stroke-width=\"3.2\"/>\n",
       "<circle clip-path=\"url(#clip5402)\" cx=\"1993.01\" cy=\"1403.29\" r=\"14\" fill=\"#009af9\" fill-rule=\"evenodd\" fill-opacity=\"0.6\" stroke=\"#000000\" stroke-opacity=\"0.6\" stroke-width=\"3.2\"/>\n",
       "<circle clip-path=\"url(#clip5402)\" cx=\"1993.01\" cy=\"1413.65\" r=\"14\" fill=\"#009af9\" fill-rule=\"evenodd\" fill-opacity=\"0.6\" stroke=\"#000000\" stroke-opacity=\"0.6\" stroke-width=\"3.2\"/>\n",
       "<circle clip-path=\"url(#clip5402)\" cx=\"1993.01\" cy=\"1421.13\" r=\"14\" fill=\"#009af9\" fill-rule=\"evenodd\" fill-opacity=\"0.6\" stroke=\"#000000\" stroke-opacity=\"0.6\" stroke-width=\"3.2\"/>\n",
       "<circle clip-path=\"url(#clip5402)\" cx=\"2290.32\" cy=\"1438.94\" r=\"14\" fill=\"#009af9\" fill-rule=\"evenodd\" fill-opacity=\"0.6\" stroke=\"#000000\" stroke-opacity=\"0.6\" stroke-width=\"3.2\"/>\n",
       "<circle clip-path=\"url(#clip5402)\" cx=\"2290.32\" cy=\"1422.38\" r=\"14\" fill=\"#009af9\" fill-rule=\"evenodd\" fill-opacity=\"0.6\" stroke=\"#000000\" stroke-opacity=\"0.6\" stroke-width=\"3.2\"/>\n",
       "<circle clip-path=\"url(#clip5402)\" cx=\"2290.32\" cy=\"1418.02\" r=\"14\" fill=\"#009af9\" fill-rule=\"evenodd\" fill-opacity=\"0.6\" stroke=\"#000000\" stroke-opacity=\"0.6\" stroke-width=\"3.2\"/>\n",
       "<circle clip-path=\"url(#clip5402)\" cx=\"2290.32\" cy=\"1444.74\" r=\"14\" fill=\"#009af9\" fill-rule=\"evenodd\" fill-opacity=\"0.6\" stroke=\"#000000\" stroke-opacity=\"0.6\" stroke-width=\"3.2\"/>\n",
       "<circle clip-path=\"url(#clip5402)\" cx=\"2290.32\" cy=\"1416.27\" r=\"14\" fill=\"#009af9\" fill-rule=\"evenodd\" fill-opacity=\"0.6\" stroke=\"#000000\" stroke-opacity=\"0.6\" stroke-width=\"3.2\"/>\n",
       "<circle clip-path=\"url(#clip5402)\" cx=\"2290.32\" cy=\"1409.38\" r=\"14\" fill=\"#009af9\" fill-rule=\"evenodd\" fill-opacity=\"0.6\" stroke=\"#000000\" stroke-opacity=\"0.6\" stroke-width=\"3.2\"/>\n",
       "<circle clip-path=\"url(#clip5402)\" cx=\"2290.32\" cy=\"1425.29\" r=\"14\" fill=\"#009af9\" fill-rule=\"evenodd\" fill-opacity=\"0.6\" stroke=\"#000000\" stroke-opacity=\"0.6\" stroke-width=\"3.2\"/>\n",
       "<circle clip-path=\"url(#clip5402)\" cx=\"2290.32\" cy=\"1408.15\" r=\"14\" fill=\"#009af9\" fill-rule=\"evenodd\" fill-opacity=\"0.6\" stroke=\"#000000\" stroke-opacity=\"0.6\" stroke-width=\"3.2\"/>\n",
       "<circle clip-path=\"url(#clip5402)\" cx=\"2290.32\" cy=\"1394.97\" r=\"14\" fill=\"#009af9\" fill-rule=\"evenodd\" fill-opacity=\"0.6\" stroke=\"#000000\" stroke-opacity=\"0.6\" stroke-width=\"3.2\"/>\n",
       "<circle clip-path=\"url(#clip5402)\" cx=\"2290.32\" cy=\"1419.23\" r=\"14\" fill=\"#009af9\" fill-rule=\"evenodd\" fill-opacity=\"0.6\" stroke=\"#000000\" stroke-opacity=\"0.6\" stroke-width=\"3.2\"/>\n",
       "<path clip-path=\"url(#clip5400)\" d=\"\n",
       "M218.714 251.724 L636.352 251.724 L636.352 130.764 L218.714 130.764  Z\n",
       "  \" fill=\"#ffffff\" fill-rule=\"evenodd\" fill-opacity=\"1\"/>\n",
       "<polyline clip-path=\"url(#clip5400)\" style=\"stroke:#000000; stroke-width:4; stroke-opacity:1; fill:none\" points=\"\n",
       "  218.714,251.724 636.352,251.724 636.352,130.764 218.714,130.764 218.714,251.724 \n",
       "  \"/>\n",
       "<circle clip-path=\"url(#clip5400)\" cx=\"326.714\" cy=\"191.244\" r=\"21\" fill=\"#009af9\" fill-rule=\"evenodd\" fill-opacity=\"0.6\" stroke=\"#000000\" stroke-opacity=\"0.6\" stroke-width=\"3.2\"/>\n",
       "<path clip-path=\"url(#clip5400)\" d=\"M 0 0 M415.39 177.807 L415.39 204.682 L421.038 204.682 Q428.191 204.682 431.501 201.441 Q434.834 198.2 434.834 191.209 Q434.834 184.265 431.501 181.047 Q428.191 177.807 421.038 177.807 L415.39 177.807 M410.714 173.964 L420.32 173.964 Q430.367 173.964 435.066 178.154 Q439.765 182.321 439.765 191.209 Q439.765 200.145 435.043 204.334 Q430.32 208.524 420.32 208.524 L410.714 208.524 L410.714 173.964 Z\" fill=\"#000000\" fill-rule=\"evenodd\" fill-opacity=\"1\" /><path clip-path=\"url(#clip5400)\" d=\"M 0 0 M443.793 198.293 L443.793 182.598 L448.052 182.598 L448.052 198.131 Q448.052 201.811 449.487 203.663 Q450.922 205.492 453.793 205.492 Q457.242 205.492 459.232 203.293 Q461.246 201.094 461.246 197.297 L461.246 182.598 L465.505 182.598 L465.505 208.524 L461.246 208.524 L461.246 204.543 Q459.695 206.904 457.635 208.061 Q455.598 209.195 452.89 209.195 Q448.422 209.195 446.107 206.418 Q443.793 203.64 443.793 198.293 M454.51 181.973 L454.51 181.973 Z\" fill=\"#000000\" fill-rule=\"evenodd\" fill-opacity=\"1\" /><path clip-path=\"url(#clip5400)\" d=\"M 0 0 M484.996 186.58 Q484.278 186.163 483.422 185.978 Q482.589 185.77 481.57 185.77 Q477.959 185.77 476.015 188.131 Q474.093 190.469 474.093 194.867 L474.093 208.524 L469.811 208.524 L469.811 182.598 L474.093 182.598 L474.093 186.626 Q475.436 184.265 477.589 183.131 Q479.741 181.973 482.82 181.973 Q483.26 181.973 483.792 182.043 Q484.325 182.089 484.973 182.205 L484.996 186.58 Z\" fill=\"#000000\" fill-rule=\"evenodd\" fill-opacity=\"1\" /><path clip-path=\"url(#clip5400)\" d=\"M 0 0 M501.246 195.492 Q496.084 195.492 494.093 196.672 Q492.102 197.853 492.102 200.7 Q492.102 202.969 493.584 204.311 Q495.089 205.631 497.658 205.631 Q501.2 205.631 503.329 203.131 Q505.482 200.607 505.482 196.441 L505.482 195.492 L501.246 195.492 M509.741 193.733 L509.741 208.524 L505.482 208.524 L505.482 204.589 Q504.024 206.95 501.848 208.084 Q499.672 209.195 496.524 209.195 Q492.542 209.195 490.181 206.973 Q487.843 204.728 487.843 200.978 Q487.843 196.603 490.76 194.381 Q493.7 192.158 499.51 192.158 L505.482 192.158 L505.482 191.742 Q505.482 188.802 503.538 187.205 Q501.616 185.584 498.121 185.584 Q495.899 185.584 493.792 186.117 Q491.686 186.649 489.741 187.714 L489.741 183.779 Q492.079 182.876 494.278 182.436 Q496.477 181.973 498.561 181.973 Q504.186 181.973 506.964 184.89 Q509.741 187.807 509.741 193.733 Z\" fill=\"#000000\" fill-rule=\"evenodd\" fill-opacity=\"1\" /><path clip-path=\"url(#clip5400)\" d=\"M 0 0 M518.422 175.237 L518.422 182.598 L527.195 182.598 L527.195 185.908 L518.422 185.908 L518.422 199.982 Q518.422 203.154 519.278 204.057 Q520.158 204.959 522.82 204.959 L527.195 204.959 L527.195 208.524 L522.82 208.524 Q517.889 208.524 516.014 206.695 Q514.139 204.844 514.139 199.982 L514.139 185.908 L511.014 185.908 L511.014 182.598 L514.139 182.598 L514.139 175.237 L518.422 175.237 Z\" fill=\"#000000\" fill-rule=\"evenodd\" fill-opacity=\"1\" /><path clip-path=\"url(#clip5400)\" d=\"M 0 0 M531.662 182.598 L535.922 182.598 L535.922 208.524 L531.662 208.524 L531.662 182.598 M531.662 172.506 L535.922 172.506 L535.922 177.899 L531.662 177.899 L531.662 172.506 Z\" fill=\"#000000\" fill-rule=\"evenodd\" fill-opacity=\"1\" /><path clip-path=\"url(#clip5400)\" d=\"M 0 0 M550.436 185.584 Q547.01 185.584 545.019 188.27 Q543.028 190.932 543.028 195.584 Q543.028 200.237 544.996 202.922 Q546.986 205.584 550.436 205.584 Q553.838 205.584 555.829 202.899 Q557.82 200.214 557.82 195.584 Q557.82 190.978 555.829 188.293 Q553.838 185.584 550.436 185.584 M550.436 181.973 Q555.991 181.973 559.162 185.584 Q562.334 189.195 562.334 195.584 Q562.334 201.95 559.162 205.584 Q555.991 209.195 550.436 209.195 Q544.857 209.195 541.686 205.584 Q538.537 201.95 538.537 195.584 Q538.537 189.195 541.686 185.584 Q544.857 181.973 550.436 181.973 Z\" fill=\"#000000\" fill-rule=\"evenodd\" fill-opacity=\"1\" /><path clip-path=\"url(#clip5400)\" d=\"M 0 0 M588.352 192.876 L588.352 208.524 L584.093 208.524 L584.093 193.015 Q584.093 189.334 582.658 187.506 Q581.222 185.677 578.352 185.677 Q574.903 185.677 572.912 187.876 Q570.922 190.075 570.922 193.871 L570.922 208.524 L566.639 208.524 L566.639 182.598 L570.922 182.598 L570.922 186.626 Q572.449 184.288 574.509 183.131 Q576.593 181.973 579.301 181.973 Q583.769 181.973 586.06 184.751 Q588.352 187.506 588.352 192.876 Z\" fill=\"#000000\" fill-rule=\"evenodd\" fill-opacity=\"1\" /></svg>\n"
      ]
     },
     "execution_count": 141,
     "metadata": {},
     "output_type": "execute_result"
    }
   ],
   "source": [
    "plot_results(results.threads,\n",
    "    results.duration,    \n",
    "    \"pi\",\n",
    "    \"Duration\")"
   ]
  },
  {
   "cell_type": "code",
   "execution_count": 142,
   "metadata": {},
   "outputs": [
    {
     "data": {
      "image/svg+xml": [
       "<?xml version=\"1.0\" encoding=\"utf-8\"?>\n",
       "<svg xmlns=\"http://www.w3.org/2000/svg\" xmlns:xlink=\"http://www.w3.org/1999/xlink\" width=\"600\" height=\"400\" viewBox=\"0 0 2400 1600\">\n",
       "<defs>\n",
       "  <clipPath id=\"clip5800\">\n",
       "    <rect x=\"0\" y=\"0\" width=\"2400\" height=\"1600\"/>\n",
       "  </clipPath>\n",
       "</defs>\n",
       "<path clip-path=\"url(#clip5800)\" d=\"\n",
       "M0 1600 L2400 1600 L2400 0 L0 0  Z\n",
       "  \" fill=\"#ffffff\" fill-rule=\"evenodd\" fill-opacity=\"1\"/>\n",
       "<defs>\n",
       "  <clipPath id=\"clip5801\">\n",
       "    <rect x=\"480\" y=\"0\" width=\"1681\" height=\"1600\"/>\n",
       "  </clipPath>\n",
       "</defs>\n",
       "<path clip-path=\"url(#clip5800)\" d=\"\n",
       "M200.487 1486.45 L2352.76 1486.45 L2352.76 47.2441 L200.487 47.2441  Z\n",
       "  \" fill=\"#ffffff\" fill-rule=\"evenodd\" fill-opacity=\"1\"/>\n",
       "<defs>\n",
       "  <clipPath id=\"clip5802\">\n",
       "    <rect x=\"200\" y=\"47\" width=\"2153\" height=\"1440\"/>\n",
       "  </clipPath>\n",
       "</defs>\n",
       "<polyline clip-path=\"url(#clip5802)\" style=\"stroke:#000000; stroke-width:2; stroke-opacity:0.1; fill:none\" points=\"\n",
       "  551.463,1486.45 551.463,47.2441 \n",
       "  \"/>\n",
       "<polyline clip-path=\"url(#clip5802)\" style=\"stroke:#000000; stroke-width:2; stroke-opacity:0.1; fill:none\" points=\"\n",
       "  1131.59,1486.45 1131.59,47.2441 \n",
       "  \"/>\n",
       "<polyline clip-path=\"url(#clip5802)\" style=\"stroke:#000000; stroke-width:2; stroke-opacity:0.1; fill:none\" points=\"\n",
       "  1711.72,1486.45 1711.72,47.2441 \n",
       "  \"/>\n",
       "<polyline clip-path=\"url(#clip5802)\" style=\"stroke:#000000; stroke-width:2; stroke-opacity:0.1; fill:none\" points=\"\n",
       "  2291.84,1486.45 2291.84,47.2441 \n",
       "  \"/>\n",
       "<polyline clip-path=\"url(#clip5802)\" style=\"stroke:#000000; stroke-width:2; stroke-opacity:0.1; fill:none\" points=\"\n",
       "  200.487,1323.8 2352.76,1323.8 \n",
       "  \"/>\n",
       "<polyline clip-path=\"url(#clip5802)\" style=\"stroke:#000000; stroke-width:2; stroke-opacity:0.1; fill:none\" points=\"\n",
       "  200.487,1098.92 2352.76,1098.92 \n",
       "  \"/>\n",
       "<polyline clip-path=\"url(#clip5802)\" style=\"stroke:#000000; stroke-width:2; stroke-opacity:0.1; fill:none\" points=\"\n",
       "  200.487,874.029 2352.76,874.029 \n",
       "  \"/>\n",
       "<polyline clip-path=\"url(#clip5802)\" style=\"stroke:#000000; stroke-width:2; stroke-opacity:0.1; fill:none\" points=\"\n",
       "  200.487,649.142 2352.76,649.142 \n",
       "  \"/>\n",
       "<polyline clip-path=\"url(#clip5802)\" style=\"stroke:#000000; stroke-width:2; stroke-opacity:0.1; fill:none\" points=\"\n",
       "  200.487,424.255 2352.76,424.255 \n",
       "  \"/>\n",
       "<polyline clip-path=\"url(#clip5802)\" style=\"stroke:#000000; stroke-width:2; stroke-opacity:0.1; fill:none\" points=\"\n",
       "  200.487,199.368 2352.76,199.368 \n",
       "  \"/>\n",
       "<polyline clip-path=\"url(#clip5800)\" style=\"stroke:#000000; stroke-width:4; stroke-opacity:1; fill:none\" points=\"\n",
       "  200.487,1486.45 2352.76,1486.45 \n",
       "  \"/>\n",
       "<polyline clip-path=\"url(#clip5800)\" style=\"stroke:#000000; stroke-width:4; stroke-opacity:1; fill:none\" points=\"\n",
       "  200.487,1486.45 200.487,47.2441 \n",
       "  \"/>\n",
       "<polyline clip-path=\"url(#clip5800)\" style=\"stroke:#000000; stroke-width:4; stroke-opacity:1; fill:none\" points=\"\n",
       "  551.463,1486.45 551.463,1469.18 \n",
       "  \"/>\n",
       "<polyline clip-path=\"url(#clip5800)\" style=\"stroke:#000000; stroke-width:4; stroke-opacity:1; fill:none\" points=\"\n",
       "  1131.59,1486.45 1131.59,1469.18 \n",
       "  \"/>\n",
       "<polyline clip-path=\"url(#clip5800)\" style=\"stroke:#000000; stroke-width:4; stroke-opacity:1; fill:none\" points=\"\n",
       "  1711.72,1486.45 1711.72,1469.18 \n",
       "  \"/>\n",
       "<polyline clip-path=\"url(#clip5800)\" style=\"stroke:#000000; stroke-width:4; stroke-opacity:1; fill:none\" points=\"\n",
       "  2291.84,1486.45 2291.84,1469.18 \n",
       "  \"/>\n",
       "<polyline clip-path=\"url(#clip5800)\" style=\"stroke:#000000; stroke-width:4; stroke-opacity:1; fill:none\" points=\"\n",
       "  200.487,1323.8 226.314,1323.8 \n",
       "  \"/>\n",
       "<polyline clip-path=\"url(#clip5800)\" style=\"stroke:#000000; stroke-width:4; stroke-opacity:1; fill:none\" points=\"\n",
       "  200.487,1098.92 226.314,1098.92 \n",
       "  \"/>\n",
       "<polyline clip-path=\"url(#clip5800)\" style=\"stroke:#000000; stroke-width:4; stroke-opacity:1; fill:none\" points=\"\n",
       "  200.487,874.029 226.314,874.029 \n",
       "  \"/>\n",
       "<polyline clip-path=\"url(#clip5800)\" style=\"stroke:#000000; stroke-width:4; stroke-opacity:1; fill:none\" points=\"\n",
       "  200.487,649.142 226.314,649.142 \n",
       "  \"/>\n",
       "<polyline clip-path=\"url(#clip5800)\" style=\"stroke:#000000; stroke-width:4; stroke-opacity:1; fill:none\" points=\"\n",
       "  200.487,424.255 226.314,424.255 \n",
       "  \"/>\n",
       "<polyline clip-path=\"url(#clip5800)\" style=\"stroke:#000000; stroke-width:4; stroke-opacity:1; fill:none\" points=\"\n",
       "  200.487,199.368 226.314,199.368 \n",
       "  \"/>\n",
       "<path clip-path=\"url(#clip5800)\" d=\"M 0 0 M546.116 1535.98 L562.436 1535.98 L562.436 1539.92 L540.491 1539.92 L540.491 1535.98 Q543.153 1533.23 547.737 1528.6 Q552.343 1523.95 553.524 1522.61 Q555.769 1520.08 556.649 1518.35 Q557.551 1516.59 557.551 1514.9 Q557.551 1512.14 555.607 1510.41 Q553.686 1508.67 550.584 1508.67 Q548.385 1508.67 545.931 1509.43 Q543.5 1510.2 540.723 1511.75 L540.723 1507.03 Q543.547 1505.89 546 1505.31 Q548.454 1504.73 550.491 1504.73 Q555.861 1504.73 559.056 1507.42 Q562.25 1510.11 562.25 1514.6 Q562.25 1516.73 561.44 1518.65 Q560.653 1520.54 558.547 1523.14 Q557.968 1523.81 554.866 1527.03 Q551.764 1530.22 546.116 1535.98 Z\" fill=\"#000000\" fill-rule=\"evenodd\" fill-opacity=\"1\" /><path clip-path=\"url(#clip5800)\" d=\"M 0 0 M1134.6 1509.43 L1122.79 1527.88 L1134.6 1527.88 L1134.6 1509.43 M1133.37 1505.36 L1139.25 1505.36 L1139.25 1527.88 L1144.18 1527.88 L1144.18 1531.77 L1139.25 1531.77 L1139.25 1539.92 L1134.6 1539.92 L1134.6 1531.77 L1119 1531.77 L1119 1527.26 L1133.37 1505.36 Z\" fill=\"#000000\" fill-rule=\"evenodd\" fill-opacity=\"1\" /><path clip-path=\"url(#clip5800)\" d=\"M 0 0 M1712.12 1520.78 Q1708.97 1520.78 1707.12 1522.93 Q1705.29 1525.08 1705.29 1528.83 Q1705.29 1532.56 1707.12 1534.73 Q1708.97 1536.89 1712.12 1536.89 Q1715.27 1536.89 1717.1 1534.73 Q1718.95 1532.56 1718.95 1528.83 Q1718.95 1525.08 1717.1 1522.93 Q1715.27 1520.78 1712.12 1520.78 M1721.4 1506.12 L1721.4 1510.38 Q1719.64 1509.55 1717.84 1509.11 Q1716.06 1508.67 1714.3 1508.67 Q1709.67 1508.67 1707.21 1511.8 Q1704.78 1514.92 1704.44 1521.24 Q1705.8 1519.23 1707.86 1518.16 Q1709.92 1517.07 1712.4 1517.07 Q1717.61 1517.07 1720.62 1520.24 Q1723.65 1523.39 1723.65 1528.83 Q1723.65 1534.16 1720.5 1537.37 Q1717.35 1540.59 1712.12 1540.59 Q1706.13 1540.59 1702.95 1536.01 Q1699.78 1531.4 1699.78 1522.67 Q1699.78 1514.48 1703.67 1509.62 Q1707.56 1504.73 1714.11 1504.73 Q1715.87 1504.73 1717.65 1505.08 Q1719.46 1505.43 1721.4 1506.12 Z\" fill=\"#000000\" fill-rule=\"evenodd\" fill-opacity=\"1\" /><path clip-path=\"url(#clip5800)\" d=\"M 0 0 M2291.84 1523.51 Q2288.51 1523.51 2286.59 1525.29 Q2284.69 1527.07 2284.69 1530.2 Q2284.69 1533.32 2286.59 1535.11 Q2288.51 1536.89 2291.84 1536.89 Q2295.18 1536.89 2297.1 1535.11 Q2299.02 1533.3 2299.02 1530.2 Q2299.02 1527.07 2297.1 1525.29 Q2295.2 1523.51 2291.84 1523.51 M2287.17 1521.52 Q2284.16 1520.78 2282.47 1518.72 Q2280.8 1516.66 2280.8 1513.69 Q2280.8 1509.55 2283.74 1507.14 Q2286.7 1504.73 2291.84 1504.73 Q2297 1504.73 2299.94 1507.14 Q2302.88 1509.55 2302.88 1513.69 Q2302.88 1516.66 2301.19 1518.72 Q2299.53 1520.78 2296.54 1521.52 Q2299.92 1522.3 2301.8 1524.6 Q2303.69 1526.89 2303.69 1530.2 Q2303.69 1535.22 2300.62 1537.91 Q2297.56 1540.59 2291.84 1540.59 Q2286.13 1540.59 2283.05 1537.91 Q2279.99 1535.22 2279.99 1530.2 Q2279.99 1526.89 2281.89 1524.6 Q2283.79 1522.3 2287.17 1521.52 M2285.45 1514.13 Q2285.45 1516.82 2287.12 1518.32 Q2288.81 1519.83 2291.84 1519.83 Q2294.85 1519.83 2296.54 1518.32 Q2298.25 1516.82 2298.25 1514.13 Q2298.25 1511.45 2296.54 1509.94 Q2294.85 1508.44 2291.84 1508.44 Q2288.81 1508.44 2287.12 1509.94 Q2285.45 1511.45 2285.45 1514.13 Z\" fill=\"#000000\" fill-rule=\"evenodd\" fill-opacity=\"1\" /><path clip-path=\"url(#clip5800)\" d=\"M 0 0 M80.4226 1322.45 Q83.7791 1323.17 85.654 1325.44 Q87.5522 1327.7 87.5522 1331.04 Q87.5522 1336.15 84.0337 1338.95 Q80.5152 1341.76 74.0337 1341.76 Q71.8578 1341.76 69.543 1341.32 Q67.2514 1340.9 64.7977 1340.04 L64.7977 1335.53 Q66.7421 1336.66 69.0569 1337.24 Q71.3717 1337.82 73.8948 1337.82 Q78.293 1337.82 80.5846 1336.08 Q82.8994 1334.35 82.8994 1331.04 Q82.8994 1327.98 80.7467 1326.27 Q78.617 1324.53 74.7976 1324.53 L70.7699 1324.53 L70.7699 1320.69 L74.9828 1320.69 Q78.4319 1320.69 80.2606 1319.32 Q82.0892 1317.94 82.0892 1315.34 Q82.0892 1312.68 80.1911 1311.27 Q78.3161 1309.83 74.7976 1309.83 Q72.8763 1309.83 70.6773 1310.25 Q68.4782 1310.67 65.8393 1311.55 L65.8393 1307.38 Q68.5014 1306.64 70.8162 1306.27 Q73.1541 1305.9 75.2143 1305.9 Q80.5383 1305.9 83.6402 1308.33 Q86.742 1310.74 86.742 1314.86 Q86.742 1317.73 85.0985 1319.72 Q83.455 1321.69 80.4226 1322.45 Z\" fill=\"#000000\" fill-rule=\"evenodd\" fill-opacity=\"1\" /><path clip-path=\"url(#clip5800)\" d=\"M 0 0 M92.6216 1335.2 L97.5058 1335.2 L97.5058 1341.08 L92.6216 1341.08 L92.6216 1335.2 Z\" fill=\"#000000\" fill-rule=\"evenodd\" fill-opacity=\"1\" /><path clip-path=\"url(#clip5800)\" d=\"M 0 0 M103.385 1337.15 L111.024 1337.15 L111.024 1310.78 L102.714 1312.45 L102.714 1308.19 L110.978 1306.52 L115.654 1306.52 L115.654 1337.15 L123.293 1337.15 L123.293 1341.08 L103.385 1341.08 L103.385 1337.15 Z\" fill=\"#000000\" fill-rule=\"evenodd\" fill-opacity=\"1\" /><path clip-path=\"url(#clip5800)\" d=\"M 0 0 M142.529 1322.45 Q145.885 1323.17 147.76 1325.44 Q149.658 1327.7 149.658 1331.04 Q149.658 1336.15 146.14 1338.95 Q142.621 1341.76 136.14 1341.76 Q133.964 1341.76 131.649 1341.32 Q129.358 1340.9 126.904 1340.04 L126.904 1335.53 Q128.848 1336.66 131.163 1337.24 Q133.478 1337.82 136.001 1337.82 Q140.399 1337.82 142.691 1336.08 Q145.006 1334.35 145.006 1331.04 Q145.006 1327.98 142.853 1326.27 Q140.723 1324.53 136.904 1324.53 L132.876 1324.53 L132.876 1320.69 L137.089 1320.69 Q140.538 1320.69 142.367 1319.32 Q144.195 1317.94 144.195 1315.34 Q144.195 1312.68 142.297 1311.27 Q140.422 1309.83 136.904 1309.83 Q134.982 1309.83 132.783 1310.25 Q130.584 1310.67 127.945 1311.55 L127.945 1307.38 Q130.608 1306.64 132.922 1306.27 Q135.26 1305.9 137.32 1305.9 Q142.644 1305.9 145.746 1308.33 Q148.848 1310.74 148.848 1314.86 Q148.848 1317.73 147.205 1319.72 Q145.561 1321.69 142.529 1322.45 Z\" fill=\"#000000\" fill-rule=\"evenodd\" fill-opacity=\"1\" /><path clip-path=\"url(#clip5800)\" d=\"M 0 0 M154.867 1340.37 L154.867 1336.11 Q156.626 1336.94 158.431 1337.38 Q160.237 1337.82 161.973 1337.82 Q166.603 1337.82 169.033 1334.72 Q171.487 1331.59 171.834 1325.25 Q170.492 1327.24 168.431 1328.31 Q166.371 1329.37 163.871 1329.37 Q158.686 1329.37 155.654 1326.25 Q152.644 1323.1 152.644 1317.66 Q152.644 1312.33 155.793 1309.12 Q158.941 1305.9 164.172 1305.9 Q170.167 1305.9 173.316 1310.51 Q176.487 1315.09 176.487 1323.84 Q176.487 1332.01 172.598 1336.89 Q168.732 1341.76 162.181 1341.76 Q160.422 1341.76 158.617 1341.41 Q156.811 1341.06 154.867 1340.37 M164.172 1325.71 Q167.32 1325.71 169.149 1323.56 Q171.001 1321.41 171.001 1317.66 Q171.001 1313.93 169.149 1311.78 Q167.32 1309.6 164.172 1309.6 Q161.024 1309.6 159.172 1311.78 Q157.343 1313.93 157.343 1317.66 Q157.343 1321.41 159.172 1323.56 Q161.024 1325.71 164.172 1325.71 Z\" fill=\"#000000\" fill-rule=\"evenodd\" fill-opacity=\"1\" /><path clip-path=\"url(#clip5800)\" d=\"M 0 0 M79.1032 1097.56 Q82.4596 1098.28 84.3346 1100.55 Q86.2327 1102.82 86.2327 1106.15 Q86.2327 1111.27 82.7142 1114.07 Q79.1957 1116.87 72.7143 1116.87 Q70.5384 1116.87 68.2236 1116.43 Q65.9319 1116.01 63.4782 1115.15 L63.4782 1110.64 Q65.4227 1111.78 67.7375 1112.35 Q70.0523 1112.93 72.5754 1112.93 Q76.9735 1112.93 79.2652 1111.2 Q81.58 1109.46 81.58 1106.15 Q81.58 1103.09 79.4272 1101.38 Q77.2976 1099.65 73.4782 1099.65 L69.4504 1099.65 L69.4504 1095.8 L73.6634 1095.8 Q77.1124 1095.8 78.9411 1094.44 Q80.7698 1093.05 80.7698 1090.46 Q80.7698 1087.79 78.8717 1086.38 Q76.9967 1084.95 73.4782 1084.95 Q71.5569 1084.95 69.3578 1085.36 Q67.1588 1085.78 64.5199 1086.66 L64.5199 1082.49 Q67.1819 1081.75 69.4967 1081.38 Q71.8347 1081.01 73.8948 1081.01 Q79.2189 1081.01 82.3207 1083.44 Q85.4226 1085.85 85.4226 1089.97 Q85.4226 1092.84 83.7791 1094.83 Q82.1355 1096.8 79.1032 1097.56 Z\" fill=\"#000000\" fill-rule=\"evenodd\" fill-opacity=\"1\" /><path clip-path=\"url(#clip5800)\" d=\"M 0 0 M91.3022 1110.32 L96.1864 1110.32 L96.1864 1116.2 L91.3022 1116.2 L91.3022 1110.32 Z\" fill=\"#000000\" fill-rule=\"evenodd\" fill-opacity=\"1\" /><path clip-path=\"url(#clip5800)\" d=\"M 0 0 M102.066 1112.26 L109.705 1112.26 L109.705 1085.9 L101.395 1087.56 L101.395 1083.3 L109.659 1081.64 L114.334 1081.64 L114.334 1112.26 L121.973 1112.26 L121.973 1116.2 L102.066 1116.2 L102.066 1112.26 Z\" fill=\"#000000\" fill-rule=\"evenodd\" fill-opacity=\"1\" /><path clip-path=\"url(#clip5800)\" d=\"M 0 0 M139.89 1085.71 L128.084 1104.16 L139.89 1104.16 L139.89 1085.71 M138.663 1081.64 L144.543 1081.64 L144.543 1104.16 L149.473 1104.16 L149.473 1108.05 L144.543 1108.05 L144.543 1116.2 L139.89 1116.2 L139.89 1108.05 L124.288 1108.05 L124.288 1103.53 L138.663 1081.64 Z\" fill=\"#000000\" fill-rule=\"evenodd\" fill-opacity=\"1\" /><path clip-path=\"url(#clip5800)\" d=\"M 0 0 M164.543 1084.72 Q160.931 1084.72 159.103 1088.28 Q157.297 1091.82 157.297 1098.95 Q157.297 1106.06 159.103 1109.62 Q160.931 1113.16 164.543 1113.16 Q168.177 1113.16 169.982 1109.62 Q171.811 1106.06 171.811 1098.95 Q171.811 1091.82 169.982 1088.28 Q168.177 1084.72 164.543 1084.72 M164.543 1081.01 Q170.353 1081.01 173.408 1085.62 Q176.487 1090.2 176.487 1098.95 Q176.487 1107.68 173.408 1112.28 Q170.353 1116.87 164.543 1116.87 Q158.732 1116.87 155.654 1112.28 Q152.598 1107.68 152.598 1098.95 Q152.598 1090.2 155.654 1085.62 Q158.732 1081.01 164.543 1081.01 Z\" fill=\"#000000\" fill-rule=\"evenodd\" fill-opacity=\"1\" /><path clip-path=\"url(#clip5800)\" d=\"M 0 0 M80.33 872.675 Q83.6865 873.393 85.5614 875.661 Q87.4596 877.93 87.4596 881.263 Q87.4596 886.379 83.9411 889.18 Q80.4226 891.981 73.9411 891.981 Q71.7652 891.981 69.4504 891.541 Q67.1588 891.124 64.7051 890.268 L64.7051 885.754 Q66.6495 886.888 68.9643 887.467 Q71.2791 888.045 73.8023 888.045 Q78.2004 888.045 80.492 886.309 Q82.8068 884.573 82.8068 881.263 Q82.8068 878.208 80.6541 876.495 Q78.5245 874.758 74.705 874.758 L70.6773 874.758 L70.6773 870.916 L74.8902 870.916 Q78.3393 870.916 80.168 869.55 Q81.9967 868.161 81.9967 865.569 Q81.9967 862.907 80.0985 861.495 Q78.2235 860.06 74.705 860.06 Q72.7837 860.06 70.5847 860.476 Q68.3856 860.893 65.7467 861.772 L65.7467 857.606 Q68.4088 856.865 70.7236 856.495 Q73.0615 856.124 75.1217 856.124 Q80.4457 856.124 83.5476 858.555 Q86.6494 860.962 86.6494 865.083 Q86.6494 867.953 85.0059 869.944 Q83.3624 871.911 80.33 872.675 Z\" fill=\"#000000\" fill-rule=\"evenodd\" fill-opacity=\"1\" /><path clip-path=\"url(#clip5800)\" d=\"M 0 0 M92.529 885.43 L97.4132 885.43 L97.4132 891.309 L92.529 891.309 L92.529 885.43 Z\" fill=\"#000000\" fill-rule=\"evenodd\" fill-opacity=\"1\" /><path clip-path=\"url(#clip5800)\" d=\"M 0 0 M103.293 887.374 L110.932 887.374 L110.932 861.009 L102.622 862.675 L102.622 858.416 L110.885 856.749 L115.561 856.749 L115.561 887.374 L123.2 887.374 L123.2 891.309 L103.293 891.309 L103.293 887.374 Z\" fill=\"#000000\" fill-rule=\"evenodd\" fill-opacity=\"1\" /><path clip-path=\"url(#clip5800)\" d=\"M 0 0 M141.117 860.823 L129.311 879.272 L141.117 879.272 L141.117 860.823 M139.89 856.749 L145.769 856.749 L145.769 879.272 L150.7 879.272 L150.7 883.161 L145.769 883.161 L145.769 891.309 L141.117 891.309 L141.117 883.161 L125.515 883.161 L125.515 878.647 L139.89 856.749 Z\" fill=\"#000000\" fill-rule=\"evenodd\" fill-opacity=\"1\" /><path clip-path=\"url(#clip5800)\" d=\"M 0 0 M156.58 887.374 L164.218 887.374 L164.218 861.009 L155.908 862.675 L155.908 858.416 L164.172 856.749 L168.848 856.749 L168.848 887.374 L176.487 887.374 L176.487 891.309 L156.58 891.309 L156.58 887.374 Z\" fill=\"#000000\" fill-rule=\"evenodd\" fill-opacity=\"1\" /><path clip-path=\"url(#clip5800)\" d=\"M 0 0 M80.7004 647.788 Q84.0568 648.506 85.9318 650.774 Q87.83 653.043 87.83 656.376 Q87.83 661.492 84.3115 664.293 Q80.793 667.093 74.3115 667.093 Q72.1356 667.093 69.8208 666.654 Q67.5291 666.237 65.0754 665.38 L65.0754 660.867 Q67.0199 662.001 69.3347 662.58 Q71.6495 663.158 74.1726 663.158 Q78.5707 663.158 80.8624 661.422 Q83.1772 659.686 83.1772 656.376 Q83.1772 653.32 81.0244 651.607 Q78.8948 649.871 75.0754 649.871 L71.0476 649.871 L71.0476 646.029 L75.2606 646.029 Q78.7096 646.029 80.5383 644.663 Q82.367 643.274 82.367 640.682 Q82.367 638.02 80.4689 636.607 Q78.5939 635.172 75.0754 635.172 Q73.1541 635.172 70.955 635.589 Q68.756 636.006 66.1171 636.885 L66.1171 632.719 Q68.7791 631.978 71.0939 631.608 Q73.4319 631.237 75.4921 631.237 Q80.8161 631.237 83.9179 633.668 Q87.0198 636.075 87.0198 640.195 Q87.0198 643.066 85.3763 645.057 Q83.7328 647.024 80.7004 647.788 Z\" fill=\"#000000\" fill-rule=\"evenodd\" fill-opacity=\"1\" /><path clip-path=\"url(#clip5800)\" d=\"M 0 0 M92.8994 660.543 L97.7836 660.543 L97.7836 666.422 L92.8994 666.422 L92.8994 660.543 Z\" fill=\"#000000\" fill-rule=\"evenodd\" fill-opacity=\"1\" /><path clip-path=\"url(#clip5800)\" d=\"M 0 0 M103.663 662.487 L111.302 662.487 L111.302 636.121 L102.992 637.788 L102.992 633.529 L111.256 631.862 L115.932 631.862 L115.932 662.487 L123.571 662.487 L123.571 666.422 L103.663 666.422 L103.663 662.487 Z\" fill=\"#000000\" fill-rule=\"evenodd\" fill-opacity=\"1\" /><path clip-path=\"url(#clip5800)\" d=\"M 0 0 M141.487 635.936 L129.682 654.385 L141.487 654.385 L141.487 635.936 M140.26 631.862 L146.14 631.862 L146.14 654.385 L151.07 654.385 L151.07 658.274 L146.14 658.274 L146.14 666.422 L141.487 666.422 L141.487 658.274 L125.885 658.274 L125.885 653.76 L140.26 631.862 Z\" fill=\"#000000\" fill-rule=\"evenodd\" fill-opacity=\"1\" /><path clip-path=\"url(#clip5800)\" d=\"M 0 0 M160.168 662.487 L176.487 662.487 L176.487 666.422 L154.543 666.422 L154.543 662.487 Q157.205 659.732 161.788 655.103 Q166.394 650.45 167.575 649.107 Q169.82 646.584 170.7 644.848 Q171.603 643.089 171.603 641.399 Q171.603 638.645 169.658 636.908 Q167.737 635.172 164.635 635.172 Q162.436 635.172 159.982 635.936 Q157.552 636.7 154.774 638.251 L154.774 633.529 Q157.598 632.395 160.052 631.816 Q162.505 631.237 164.543 631.237 Q169.913 631.237 173.107 633.922 Q176.302 636.607 176.302 641.098 Q176.302 643.228 175.492 645.149 Q174.704 647.047 172.598 649.64 Q172.019 650.311 168.917 653.529 Q165.816 656.723 160.168 662.487 Z\" fill=\"#000000\" fill-rule=\"evenodd\" fill-opacity=\"1\" /><path clip-path=\"url(#clip5800)\" d=\"M 0 0 M79.7513 422.901 Q83.1078 423.618 84.9827 425.887 Q86.8809 428.155 86.8809 431.489 Q86.8809 436.604 83.3624 439.405 Q79.8439 442.206 73.3624 442.206 Q71.1865 442.206 68.8717 441.766 Q66.5801 441.35 64.1264 440.493 L64.1264 435.979 Q66.0708 437.114 68.3856 437.692 Q70.7004 438.271 73.2236 438.271 Q77.6217 438.271 79.9133 436.535 Q82.2281 434.799 82.2281 431.489 Q82.2281 428.433 80.0754 426.72 Q77.9457 424.984 74.1263 424.984 L70.0986 424.984 L70.0986 421.142 L74.3115 421.142 Q77.7606 421.142 79.5893 419.776 Q81.418 418.387 81.418 415.794 Q81.418 413.132 79.5198 411.72 Q77.6448 410.285 74.1263 410.285 Q72.205 410.285 70.006 410.702 Q67.8069 411.118 65.168 411.998 L65.168 407.831 Q67.8301 407.091 70.1449 406.72 Q72.4828 406.35 74.543 406.35 Q79.867 406.35 82.9689 408.78 Q86.0707 411.188 86.0707 415.308 Q86.0707 418.179 84.4272 420.169 Q82.7837 422.137 79.7513 422.901 Z\" fill=\"#000000\" fill-rule=\"evenodd\" fill-opacity=\"1\" /><path clip-path=\"url(#clip5800)\" d=\"M 0 0 M91.9503 435.655 L96.8345 435.655 L96.8345 441.535 L91.9503 441.535 L91.9503 435.655 Z\" fill=\"#000000\" fill-rule=\"evenodd\" fill-opacity=\"1\" /><path clip-path=\"url(#clip5800)\" d=\"M 0 0 M102.714 437.6 L110.353 437.6 L110.353 411.234 L102.043 412.901 L102.043 408.642 L110.307 406.975 L114.983 406.975 L114.983 437.6 L122.621 437.6 L122.621 441.535 L102.714 441.535 L102.714 437.6 Z\" fill=\"#000000\" fill-rule=\"evenodd\" fill-opacity=\"1\" /><path clip-path=\"url(#clip5800)\" d=\"M 0 0 M140.538 411.049 L128.733 429.498 L140.538 429.498 L140.538 411.049 M139.311 406.975 L145.191 406.975 L145.191 429.498 L150.121 429.498 L150.121 433.387 L145.191 433.387 L145.191 441.535 L140.538 441.535 L140.538 433.387 L124.936 433.387 L124.936 428.873 L139.311 406.975 Z\" fill=\"#000000\" fill-rule=\"evenodd\" fill-opacity=\"1\" /><path clip-path=\"url(#clip5800)\" d=\"M 0 0 M169.357 422.901 Q172.714 423.618 174.589 425.887 Q176.487 428.155 176.487 431.489 Q176.487 436.604 172.968 439.405 Q169.45 442.206 162.968 442.206 Q160.793 442.206 158.478 441.766 Q156.186 441.35 153.732 440.493 L153.732 435.979 Q155.677 437.114 157.992 437.692 Q160.306 438.271 162.83 438.271 Q167.228 438.271 169.519 436.535 Q171.834 434.799 171.834 431.489 Q171.834 428.433 169.681 426.72 Q167.552 424.984 163.732 424.984 L159.705 424.984 L159.705 421.142 L163.918 421.142 Q167.367 421.142 169.195 419.776 Q171.024 418.387 171.024 415.794 Q171.024 413.132 169.126 411.72 Q167.251 410.285 163.732 410.285 Q161.811 410.285 159.612 410.702 Q157.413 411.118 154.774 411.998 L154.774 407.831 Q157.436 407.091 159.751 406.72 Q162.089 406.35 164.149 406.35 Q169.473 406.35 172.575 408.78 Q175.677 411.188 175.677 415.308 Q175.677 418.179 174.033 420.169 Q172.39 422.137 169.357 422.901 Z\" fill=\"#000000\" fill-rule=\"evenodd\" fill-opacity=\"1\" /><path clip-path=\"url(#clip5800)\" d=\"M 0 0 M78.617 198.014 Q81.9735 198.731 83.8485 201 Q85.7466 203.268 85.7466 206.601 Q85.7466 211.717 82.2281 214.518 Q78.7096 217.319 72.2282 217.319 Q70.0523 217.319 67.7375 216.879 Q65.4458 216.463 62.9921 215.606 L62.9921 211.092 Q64.9366 212.226 67.2514 212.805 Q69.5662 213.384 72.0893 213.384 Q76.4874 213.384 78.7791 211.648 Q81.0939 209.912 81.0939 206.601 Q81.0939 203.546 78.9411 201.833 Q76.8115 200.097 72.9921 200.097 L68.9643 200.097 L68.9643 196.254 L73.1773 196.254 Q76.6263 196.254 78.455 194.889 Q80.2837 193.5 80.2837 190.907 Q80.2837 188.245 78.3856 186.833 Q76.5106 185.398 72.9921 185.398 Q71.0708 185.398 68.8717 185.815 Q66.6727 186.231 64.0338 187.111 L64.0338 182.944 Q66.6958 182.203 69.0106 181.833 Q71.3486 181.463 73.4087 181.463 Q78.7328 181.463 81.8346 183.893 Q84.9365 186.301 84.9365 190.421 Q84.9365 193.291 83.2929 195.282 Q81.6494 197.25 78.617 198.014 Z\" fill=\"#000000\" fill-rule=\"evenodd\" fill-opacity=\"1\" /><path clip-path=\"url(#clip5800)\" d=\"M 0 0 M90.8161 210.768 L95.7003 210.768 L95.7003 216.648 L90.8161 216.648 L90.8161 210.768 Z\" fill=\"#000000\" fill-rule=\"evenodd\" fill-opacity=\"1\" /><path clip-path=\"url(#clip5800)\" d=\"M 0 0 M101.58 212.713 L109.219 212.713 L109.219 186.347 L100.909 188.014 L100.909 183.754 L109.172 182.088 L113.848 182.088 L113.848 212.713 L121.487 212.713 L121.487 216.648 L101.58 216.648 L101.58 212.713 Z\" fill=\"#000000\" fill-rule=\"evenodd\" fill-opacity=\"1\" /><path clip-path=\"url(#clip5800)\" d=\"M 0 0 M139.404 186.162 L127.598 204.611 L139.404 204.611 L139.404 186.162 M138.177 182.088 L144.057 182.088 L144.057 204.611 L148.987 204.611 L148.987 208.5 L144.057 208.5 L144.057 216.648 L139.404 216.648 L139.404 208.5 L123.802 208.5 L123.802 203.986 L138.177 182.088 Z\" fill=\"#000000\" fill-rule=\"evenodd\" fill-opacity=\"1\" /><path clip-path=\"url(#clip5800)\" d=\"M 0 0 M166.904 186.162 L155.098 204.611 L166.904 204.611 L166.904 186.162 M165.677 182.088 L171.556 182.088 L171.556 204.611 L176.487 204.611 L176.487 208.5 L171.556 208.5 L171.556 216.648 L166.904 216.648 L166.904 208.5 L151.302 208.5 L151.302 203.986 L165.677 182.088 Z\" fill=\"#000000\" fill-rule=\"evenodd\" fill-opacity=\"1\" /><circle clip-path=\"url(#clip5802)\" cx=\"261.4\" cy=\"656.486\" r=\"14\" fill=\"#009af9\" fill-rule=\"evenodd\" fill-opacity=\"0.6\" stroke=\"#000000\" stroke-opacity=\"0.6\" stroke-width=\"3.2\"/>\n",
       "<circle clip-path=\"url(#clip5802)\" cx=\"261.4\" cy=\"703.152\" r=\"14\" fill=\"#009af9\" fill-rule=\"evenodd\" fill-opacity=\"0.6\" stroke=\"#000000\" stroke-opacity=\"0.6\" stroke-width=\"3.2\"/>\n",
       "<circle clip-path=\"url(#clip5802)\" cx=\"261.4\" cy=\"609.87\" r=\"14\" fill=\"#009af9\" fill-rule=\"evenodd\" fill-opacity=\"0.6\" stroke=\"#000000\" stroke-opacity=\"0.6\" stroke-width=\"3.2\"/>\n",
       "<circle clip-path=\"url(#clip5802)\" cx=\"261.4\" cy=\"1272.55\" r=\"14\" fill=\"#009af9\" fill-rule=\"evenodd\" fill-opacity=\"0.6\" stroke=\"#000000\" stroke-opacity=\"0.6\" stroke-width=\"3.2\"/>\n",
       "<circle clip-path=\"url(#clip5802)\" cx=\"261.4\" cy=\"1272.55\" r=\"14\" fill=\"#009af9\" fill-rule=\"evenodd\" fill-opacity=\"0.6\" stroke=\"#000000\" stroke-opacity=\"0.6\" stroke-width=\"3.2\"/>\n",
       "<circle clip-path=\"url(#clip5802)\" cx=\"261.4\" cy=\"655.146\" r=\"14\" fill=\"#009af9\" fill-rule=\"evenodd\" fill-opacity=\"0.6\" stroke=\"#000000\" stroke-opacity=\"0.6\" stroke-width=\"3.2\"/>\n",
       "<circle clip-path=\"url(#clip5802)\" cx=\"261.4\" cy=\"1079.68\" r=\"14\" fill=\"#009af9\" fill-rule=\"evenodd\" fill-opacity=\"0.6\" stroke=\"#000000\" stroke-opacity=\"0.6\" stroke-width=\"3.2\"/>\n",
       "<circle clip-path=\"url(#clip5802)\" cx=\"261.4\" cy=\"929.462\" r=\"14\" fill=\"#009af9\" fill-rule=\"evenodd\" fill-opacity=\"0.6\" stroke=\"#000000\" stroke-opacity=\"0.6\" stroke-width=\"3.2\"/>\n",
       "<circle clip-path=\"url(#clip5802)\" cx=\"261.4\" cy=\"965.315\" r=\"14\" fill=\"#009af9\" fill-rule=\"evenodd\" fill-opacity=\"0.6\" stroke=\"#000000\" stroke-opacity=\"0.6\" stroke-width=\"3.2\"/>\n",
       "<circle clip-path=\"url(#clip5802)\" cx=\"551.463\" cy=\"965.315\" r=\"14\" fill=\"#009af9\" fill-rule=\"evenodd\" fill-opacity=\"0.6\" stroke=\"#000000\" stroke-opacity=\"0.6\" stroke-width=\"3.2\"/>\n",
       "<circle clip-path=\"url(#clip5802)\" cx=\"551.463\" cy=\"666.967\" r=\"14\" fill=\"#009af9\" fill-rule=\"evenodd\" fill-opacity=\"0.6\" stroke=\"#000000\" stroke-opacity=\"0.6\" stroke-width=\"3.2\"/>\n",
       "<circle clip-path=\"url(#clip5802)\" cx=\"551.463\" cy=\"792.349\" r=\"14\" fill=\"#009af9\" fill-rule=\"evenodd\" fill-opacity=\"0.6\" stroke=\"#000000\" stroke-opacity=\"0.6\" stroke-width=\"3.2\"/>\n",
       "<circle clip-path=\"url(#clip5802)\" cx=\"551.463\" cy=\"1059.23\" r=\"14\" fill=\"#009af9\" fill-rule=\"evenodd\" fill-opacity=\"0.6\" stroke=\"#000000\" stroke-opacity=\"0.6\" stroke-width=\"3.2\"/>\n",
       "<circle clip-path=\"url(#clip5802)\" cx=\"551.463\" cy=\"463.772\" r=\"14\" fill=\"#009af9\" fill-rule=\"evenodd\" fill-opacity=\"0.6\" stroke=\"#000000\" stroke-opacity=\"0.6\" stroke-width=\"3.2\"/>\n",
       "<circle clip-path=\"url(#clip5802)\" cx=\"551.463\" cy=\"1031.16\" r=\"14\" fill=\"#009af9\" fill-rule=\"evenodd\" fill-opacity=\"0.6\" stroke=\"#000000\" stroke-opacity=\"0.6\" stroke-width=\"3.2\"/>\n",
       "<circle clip-path=\"url(#clip5802)\" cx=\"551.463\" cy=\"618.239\" r=\"14\" fill=\"#009af9\" fill-rule=\"evenodd\" fill-opacity=\"0.6\" stroke=\"#000000\" stroke-opacity=\"0.6\" stroke-width=\"3.2\"/>\n",
       "<circle clip-path=\"url(#clip5802)\" cx=\"551.463\" cy=\"618.239\" r=\"14\" fill=\"#009af9\" fill-rule=\"evenodd\" fill-opacity=\"0.6\" stroke=\"#000000\" stroke-opacity=\"0.6\" stroke-width=\"3.2\"/>\n",
       "<circle clip-path=\"url(#clip5802)\" cx=\"551.463\" cy=\"273.874\" r=\"14\" fill=\"#009af9\" fill-rule=\"evenodd\" fill-opacity=\"0.6\" stroke=\"#000000\" stroke-opacity=\"0.6\" stroke-width=\"3.2\"/>\n",
       "<circle clip-path=\"url(#clip5802)\" cx=\"551.463\" cy=\"321.402\" r=\"14\" fill=\"#009af9\" fill-rule=\"evenodd\" fill-opacity=\"0.6\" stroke=\"#000000\" stroke-opacity=\"0.6\" stroke-width=\"3.2\"/>\n",
       "<circle clip-path=\"url(#clip5802)\" cx=\"841.527\" cy=\"770.129\" r=\"14\" fill=\"#009af9\" fill-rule=\"evenodd\" fill-opacity=\"0.6\" stroke=\"#000000\" stroke-opacity=\"0.6\" stroke-width=\"3.2\"/>\n",
       "<circle clip-path=\"url(#clip5802)\" cx=\"841.527\" cy=\"638.838\" r=\"14\" fill=\"#009af9\" fill-rule=\"evenodd\" fill-opacity=\"0.6\" stroke=\"#000000\" stroke-opacity=\"0.6\" stroke-width=\"3.2\"/>\n",
       "<circle clip-path=\"url(#clip5802)\" cx=\"841.527\" cy=\"638.838\" r=\"14\" fill=\"#009af9\" fill-rule=\"evenodd\" fill-opacity=\"0.6\" stroke=\"#000000\" stroke-opacity=\"0.6\" stroke-width=\"3.2\"/>\n",
       "<circle clip-path=\"url(#clip5802)\" cx=\"841.527\" cy=\"599.869\" r=\"14\" fill=\"#009af9\" fill-rule=\"evenodd\" fill-opacity=\"0.6\" stroke=\"#000000\" stroke-opacity=\"0.6\" stroke-width=\"3.2\"/>\n",
       "<circle clip-path=\"url(#clip5802)\" cx=\"841.527\" cy=\"1445.72\" r=\"14\" fill=\"#009af9\" fill-rule=\"evenodd\" fill-opacity=\"0.6\" stroke=\"#000000\" stroke-opacity=\"0.6\" stroke-width=\"3.2\"/>\n",
       "<circle clip-path=\"url(#clip5802)\" cx=\"841.527\" cy=\"588.318\" r=\"14\" fill=\"#009af9\" fill-rule=\"evenodd\" fill-opacity=\"0.6\" stroke=\"#000000\" stroke-opacity=\"0.6\" stroke-width=\"3.2\"/>\n",
       "<circle clip-path=\"url(#clip5802)\" cx=\"841.527\" cy=\"588.318\" r=\"14\" fill=\"#009af9\" fill-rule=\"evenodd\" fill-opacity=\"0.6\" stroke=\"#000000\" stroke-opacity=\"0.6\" stroke-width=\"3.2\"/>\n",
       "<circle clip-path=\"url(#clip5802)\" cx=\"841.527\" cy=\"971.209\" r=\"14\" fill=\"#009af9\" fill-rule=\"evenodd\" fill-opacity=\"0.6\" stroke=\"#000000\" stroke-opacity=\"0.6\" stroke-width=\"3.2\"/>\n",
       "<circle clip-path=\"url(#clip5802)\" cx=\"841.527\" cy=\"697.16\" r=\"14\" fill=\"#009af9\" fill-rule=\"evenodd\" fill-opacity=\"0.6\" stroke=\"#000000\" stroke-opacity=\"0.6\" stroke-width=\"3.2\"/>\n",
       "<circle clip-path=\"url(#clip5802)\" cx=\"1131.59\" cy=\"697.16\" r=\"14\" fill=\"#009af9\" fill-rule=\"evenodd\" fill-opacity=\"0.6\" stroke=\"#000000\" stroke-opacity=\"0.6\" stroke-width=\"3.2\"/>\n",
       "<circle clip-path=\"url(#clip5802)\" cx=\"1131.59\" cy=\"735.126\" r=\"14\" fill=\"#009af9\" fill-rule=\"evenodd\" fill-opacity=\"0.6\" stroke=\"#000000\" stroke-opacity=\"0.6\" stroke-width=\"3.2\"/>\n",
       "<circle clip-path=\"url(#clip5802)\" cx=\"1131.59\" cy=\"999.568\" r=\"14\" fill=\"#009af9\" fill-rule=\"evenodd\" fill-opacity=\"0.6\" stroke=\"#000000\" stroke-opacity=\"0.6\" stroke-width=\"3.2\"/>\n",
       "<circle clip-path=\"url(#clip5802)\" cx=\"1131.59\" cy=\"870.307\" r=\"14\" fill=\"#009af9\" fill-rule=\"evenodd\" fill-opacity=\"0.6\" stroke=\"#000000\" stroke-opacity=\"0.6\" stroke-width=\"3.2\"/>\n",
       "<circle clip-path=\"url(#clip5802)\" cx=\"1131.59\" cy=\"290.004\" r=\"14\" fill=\"#009af9\" fill-rule=\"evenodd\" fill-opacity=\"0.6\" stroke=\"#000000\" stroke-opacity=\"0.6\" stroke-width=\"3.2\"/>\n",
       "<circle clip-path=\"url(#clip5802)\" cx=\"1131.59\" cy=\"670.79\" r=\"14\" fill=\"#009af9\" fill-rule=\"evenodd\" fill-opacity=\"0.6\" stroke=\"#000000\" stroke-opacity=\"0.6\" stroke-width=\"3.2\"/>\n",
       "<circle clip-path=\"url(#clip5802)\" cx=\"1131.59\" cy=\"717.407\" r=\"14\" fill=\"#009af9\" fill-rule=\"evenodd\" fill-opacity=\"0.6\" stroke=\"#000000\" stroke-opacity=\"0.6\" stroke-width=\"3.2\"/>\n",
       "<circle clip-path=\"url(#clip5802)\" cx=\"1131.59\" cy=\"839.97\" r=\"14\" fill=\"#009af9\" fill-rule=\"evenodd\" fill-opacity=\"0.6\" stroke=\"#000000\" stroke-opacity=\"0.6\" stroke-width=\"3.2\"/>\n",
       "<circle clip-path=\"url(#clip5802)\" cx=\"1131.59\" cy=\"707.536\" r=\"14\" fill=\"#009af9\" fill-rule=\"evenodd\" fill-opacity=\"0.6\" stroke=\"#000000\" stroke-opacity=\"0.6\" stroke-width=\"3.2\"/>\n",
       "<circle clip-path=\"url(#clip5802)\" cx=\"1131.59\" cy=\"939.157\" r=\"14\" fill=\"#009af9\" fill-rule=\"evenodd\" fill-opacity=\"0.6\" stroke=\"#000000\" stroke-opacity=\"0.6\" stroke-width=\"3.2\"/>\n",
       "<circle clip-path=\"url(#clip5802)\" cx=\"1421.65\" cy=\"939.157\" r=\"14\" fill=\"#009af9\" fill-rule=\"evenodd\" fill-opacity=\"0.6\" stroke=\"#000000\" stroke-opacity=\"0.6\" stroke-width=\"3.2\"/>\n",
       "<circle clip-path=\"url(#clip5802)\" cx=\"1421.65\" cy=\"830.759\" r=\"14\" fill=\"#009af9\" fill-rule=\"evenodd\" fill-opacity=\"0.6\" stroke=\"#000000\" stroke-opacity=\"0.6\" stroke-width=\"3.2\"/>\n",
       "<circle clip-path=\"url(#clip5802)\" cx=\"1421.65\" cy=\"87.9763\" r=\"14\" fill=\"#009af9\" fill-rule=\"evenodd\" fill-opacity=\"0.6\" stroke=\"#000000\" stroke-opacity=\"0.6\" stroke-width=\"3.2\"/>\n",
       "<circle clip-path=\"url(#clip5802)\" cx=\"1421.65\" cy=\"711.969\" r=\"14\" fill=\"#009af9\" fill-rule=\"evenodd\" fill-opacity=\"0.6\" stroke=\"#000000\" stroke-opacity=\"0.6\" stroke-width=\"3.2\"/>\n",
       "<circle clip-path=\"url(#clip5802)\" cx=\"1421.65\" cy=\"172.176\" r=\"14\" fill=\"#009af9\" fill-rule=\"evenodd\" fill-opacity=\"0.6\" stroke=\"#000000\" stroke-opacity=\"0.6\" stroke-width=\"3.2\"/>\n",
       "<circle clip-path=\"url(#clip5802)\" cx=\"1421.65\" cy=\"1015.12\" r=\"14\" fill=\"#009af9\" fill-rule=\"evenodd\" fill-opacity=\"0.6\" stroke=\"#000000\" stroke-opacity=\"0.6\" stroke-width=\"3.2\"/>\n",
       "<circle clip-path=\"url(#clip5802)\" cx=\"1421.65\" cy=\"987.811\" r=\"14\" fill=\"#009af9\" fill-rule=\"evenodd\" fill-opacity=\"0.6\" stroke=\"#000000\" stroke-opacity=\"0.6\" stroke-width=\"3.2\"/>\n",
       "<circle clip-path=\"url(#clip5802)\" cx=\"1421.65\" cy=\"809.383\" r=\"14\" fill=\"#009af9\" fill-rule=\"evenodd\" fill-opacity=\"0.6\" stroke=\"#000000\" stroke-opacity=\"0.6\" stroke-width=\"3.2\"/>\n",
       "<circle clip-path=\"url(#clip5802)\" cx=\"1421.65\" cy=\"667.526\" r=\"14\" fill=\"#009af9\" fill-rule=\"evenodd\" fill-opacity=\"0.6\" stroke=\"#000000\" stroke-opacity=\"0.6\" stroke-width=\"3.2\"/>\n",
       "<circle clip-path=\"url(#clip5802)\" cx=\"1421.65\" cy=\"667.526\" r=\"14\" fill=\"#009af9\" fill-rule=\"evenodd\" fill-opacity=\"0.6\" stroke=\"#000000\" stroke-opacity=\"0.6\" stroke-width=\"3.2\"/>\n",
       "<circle clip-path=\"url(#clip5802)\" cx=\"1711.72\" cy=\"938.395\" r=\"14\" fill=\"#009af9\" fill-rule=\"evenodd\" fill-opacity=\"0.6\" stroke=\"#000000\" stroke-opacity=\"0.6\" stroke-width=\"3.2\"/>\n",
       "<circle clip-path=\"url(#clip5802)\" cx=\"1711.72\" cy=\"508.641\" r=\"14\" fill=\"#009af9\" fill-rule=\"evenodd\" fill-opacity=\"0.6\" stroke=\"#000000\" stroke-opacity=\"0.6\" stroke-width=\"3.2\"/>\n",
       "<circle clip-path=\"url(#clip5802)\" cx=\"1711.72\" cy=\"678.258\" r=\"14\" fill=\"#009af9\" fill-rule=\"evenodd\" fill-opacity=\"0.6\" stroke=\"#000000\" stroke-opacity=\"0.6\" stroke-width=\"3.2\"/>\n",
       "<circle clip-path=\"url(#clip5802)\" cx=\"1711.72\" cy=\"808.235\" r=\"14\" fill=\"#009af9\" fill-rule=\"evenodd\" fill-opacity=\"0.6\" stroke=\"#000000\" stroke-opacity=\"0.6\" stroke-width=\"3.2\"/>\n",
       "<circle clip-path=\"url(#clip5802)\" cx=\"1711.72\" cy=\"1217.8\" r=\"14\" fill=\"#009af9\" fill-rule=\"evenodd\" fill-opacity=\"0.6\" stroke=\"#000000\" stroke-opacity=\"0.6\" stroke-width=\"3.2\"/>\n",
       "<circle clip-path=\"url(#clip5802)\" cx=\"1711.72\" cy=\"665.404\" r=\"14\" fill=\"#009af9\" fill-rule=\"evenodd\" fill-opacity=\"0.6\" stroke=\"#000000\" stroke-opacity=\"0.6\" stroke-width=\"3.2\"/>\n",
       "<circle clip-path=\"url(#clip5802)\" cx=\"1711.72\" cy=\"665.404\" r=\"14\" fill=\"#009af9\" fill-rule=\"evenodd\" fill-opacity=\"0.6\" stroke=\"#000000\" stroke-opacity=\"0.6\" stroke-width=\"3.2\"/>\n",
       "<circle clip-path=\"url(#clip5802)\" cx=\"1711.72\" cy=\"1088.97\" r=\"14\" fill=\"#009af9\" fill-rule=\"evenodd\" fill-opacity=\"0.6\" stroke=\"#000000\" stroke-opacity=\"0.6\" stroke-width=\"3.2\"/>\n",
       "<circle clip-path=\"url(#clip5802)\" cx=\"1711.72\" cy=\"416.617\" r=\"14\" fill=\"#009af9\" fill-rule=\"evenodd\" fill-opacity=\"0.6\" stroke=\"#000000\" stroke-opacity=\"0.6\" stroke-width=\"3.2\"/>\n",
       "<circle clip-path=\"url(#clip5802)\" cx=\"1711.72\" cy=\"416.617\" r=\"14\" fill=\"#009af9\" fill-rule=\"evenodd\" fill-opacity=\"0.6\" stroke=\"#000000\" stroke-opacity=\"0.6\" stroke-width=\"3.2\"/>\n",
       "<circle clip-path=\"url(#clip5802)\" cx=\"2001.78\" cy=\"467.669\" r=\"14\" fill=\"#009af9\" fill-rule=\"evenodd\" fill-opacity=\"0.6\" stroke=\"#000000\" stroke-opacity=\"0.6\" stroke-width=\"3.2\"/>\n",
       "<circle clip-path=\"url(#clip5802)\" cx=\"2001.78\" cy=\"432.083\" r=\"14\" fill=\"#009af9\" fill-rule=\"evenodd\" fill-opacity=\"0.6\" stroke=\"#000000\" stroke-opacity=\"0.6\" stroke-width=\"3.2\"/>\n",
       "<circle clip-path=\"url(#clip5802)\" cx=\"2001.78\" cy=\"1085.72\" r=\"14\" fill=\"#009af9\" fill-rule=\"evenodd\" fill-opacity=\"0.6\" stroke=\"#000000\" stroke-opacity=\"0.6\" stroke-width=\"3.2\"/>\n",
       "<circle clip-path=\"url(#clip5802)\" cx=\"2001.78\" cy=\"867.319\" r=\"14\" fill=\"#009af9\" fill-rule=\"evenodd\" fill-opacity=\"0.6\" stroke=\"#000000\" stroke-opacity=\"0.6\" stroke-width=\"3.2\"/>\n",
       "<circle clip-path=\"url(#clip5802)\" cx=\"2001.78\" cy=\"784.305\" r=\"14\" fill=\"#009af9\" fill-rule=\"evenodd\" fill-opacity=\"0.6\" stroke=\"#000000\" stroke-opacity=\"0.6\" stroke-width=\"3.2\"/>\n",
       "<circle clip-path=\"url(#clip5802)\" cx=\"2001.78\" cy=\"715.775\" r=\"14\" fill=\"#009af9\" fill-rule=\"evenodd\" fill-opacity=\"0.6\" stroke=\"#000000\" stroke-opacity=\"0.6\" stroke-width=\"3.2\"/>\n",
       "<circle clip-path=\"url(#clip5802)\" cx=\"2001.78\" cy=\"584.63\" r=\"14\" fill=\"#009af9\" fill-rule=\"evenodd\" fill-opacity=\"0.6\" stroke=\"#000000\" stroke-opacity=\"0.6\" stroke-width=\"3.2\"/>\n",
       "<circle clip-path=\"url(#clip5802)\" cx=\"2001.78\" cy=\"994.983\" r=\"14\" fill=\"#009af9\" fill-rule=\"evenodd\" fill-opacity=\"0.6\" stroke=\"#000000\" stroke-opacity=\"0.6\" stroke-width=\"3.2\"/>\n",
       "<circle clip-path=\"url(#clip5802)\" cx=\"2291.84\" cy=\"994.982\" r=\"14\" fill=\"#009af9\" fill-rule=\"evenodd\" fill-opacity=\"0.6\" stroke=\"#000000\" stroke-opacity=\"0.6\" stroke-width=\"3.2\"/>\n",
       "<circle clip-path=\"url(#clip5802)\" cx=\"2291.84\" cy=\"702.575\" r=\"14\" fill=\"#009af9\" fill-rule=\"evenodd\" fill-opacity=\"0.6\" stroke=\"#000000\" stroke-opacity=\"0.6\" stroke-width=\"3.2\"/>\n",
       "<circle clip-path=\"url(#clip5802)\" cx=\"2291.84\" cy=\"585.695\" r=\"14\" fill=\"#009af9\" fill-rule=\"evenodd\" fill-opacity=\"0.6\" stroke=\"#000000\" stroke-opacity=\"0.6\" stroke-width=\"3.2\"/>\n",
       "<circle clip-path=\"url(#clip5802)\" cx=\"2291.84\" cy=\"585.695\" r=\"14\" fill=\"#009af9\" fill-rule=\"evenodd\" fill-opacity=\"0.6\" stroke=\"#000000\" stroke-opacity=\"0.6\" stroke-width=\"3.2\"/>\n",
       "<circle clip-path=\"url(#clip5802)\" cx=\"2291.84\" cy=\"1246.82\" r=\"14\" fill=\"#009af9\" fill-rule=\"evenodd\" fill-opacity=\"0.6\" stroke=\"#000000\" stroke-opacity=\"0.6\" stroke-width=\"3.2\"/>\n",
       "<circle clip-path=\"url(#clip5802)\" cx=\"2291.84\" cy=\"565.639\" r=\"14\" fill=\"#009af9\" fill-rule=\"evenodd\" fill-opacity=\"0.6\" stroke=\"#000000\" stroke-opacity=\"0.6\" stroke-width=\"3.2\"/>\n",
       "<circle clip-path=\"url(#clip5802)\" cx=\"2291.84\" cy=\"676.46\" r=\"14\" fill=\"#009af9\" fill-rule=\"evenodd\" fill-opacity=\"0.6\" stroke=\"#000000\" stroke-opacity=\"0.6\" stroke-width=\"3.2\"/>\n",
       "<circle clip-path=\"url(#clip5802)\" cx=\"2291.84\" cy=\"676.46\" r=\"14\" fill=\"#009af9\" fill-rule=\"evenodd\" fill-opacity=\"0.6\" stroke=\"#000000\" stroke-opacity=\"0.6\" stroke-width=\"3.2\"/>\n",
       "<circle clip-path=\"url(#clip5802)\" cx=\"2291.84\" cy=\"277.174\" r=\"14\" fill=\"#009af9\" fill-rule=\"evenodd\" fill-opacity=\"0.6\" stroke=\"#000000\" stroke-opacity=\"0.6\" stroke-width=\"3.2\"/>\n",
       "<polyline clip-path=\"url(#clip5802)\" style=\"stroke:#e26f46; stroke-width:8; stroke-opacity:1; fill:none\" stroke-dasharray=\"32, 20\" points=\"\n",
       "  261.4,740.749 261.4,740.749 \n",
       "  551.463,740.749 \n",
       "  841.527,740.749 \n",
       "  1131.59,740.749 \n",
       "  1421.65,740.749 \n",
       "  1711.72,740.749 \n",
       "  2001.78,740.749 \n",
       "  2291.84,740.749 \n",
       "  \n",
       "  \"/>\n",
       "<path clip-path=\"url(#clip5800)\" d=\"\n",
       "M272.487 312.204 L694.315 312.204 L694.315 130.764 L272.487 130.764  Z\n",
       "  \" fill=\"#ffffff\" fill-rule=\"evenodd\" fill-opacity=\"1\"/>\n",
       "<polyline clip-path=\"url(#clip5800)\" style=\"stroke:#000000; stroke-width:4; stroke-opacity:1; fill:none\" points=\"\n",
       "  272.487,312.204 694.315,312.204 694.315,130.764 272.487,130.764 272.487,312.204 \n",
       "  \"/>\n",
       "<circle clip-path=\"url(#clip5800)\" cx=\"380.487\" cy=\"191.244\" r=\"21\" fill=\"#009af9\" fill-rule=\"evenodd\" fill-opacity=\"0.6\" stroke=\"#000000\" stroke-opacity=\"0.6\" stroke-width=\"3.2\"/>\n",
       "<path clip-path=\"url(#clip5800)\" d=\"M 0 0 M464.487 173.964 L486.339 173.964 L486.339 177.899 L469.163 177.899 L469.163 188.131 L485.621 188.131 L485.621 192.066 L469.163 192.066 L469.163 204.589 L486.755 204.589 L486.755 208.524 L464.487 208.524 L464.487 173.964 Z\" fill=\"#000000\" fill-rule=\"evenodd\" fill-opacity=\"1\" /><path clip-path=\"url(#clip5800)\" d=\"M 0 0 M507.751 183.362 L507.751 187.39 Q505.945 186.464 504.001 186.001 Q502.056 185.538 499.973 185.538 Q496.802 185.538 495.204 186.51 Q493.63 187.483 493.63 189.427 Q493.63 190.908 494.765 191.765 Q495.899 192.598 499.325 193.362 L500.783 193.686 Q505.32 194.658 507.218 196.441 Q509.139 198.2 509.139 201.371 Q509.139 204.982 506.269 207.089 Q503.422 209.195 498.422 209.195 Q496.339 209.195 494.07 208.779 Q491.825 208.385 489.325 207.575 L489.325 203.177 Q491.686 204.404 493.977 205.029 Q496.269 205.631 498.514 205.631 Q501.524 205.631 503.144 204.612 Q504.764 203.57 504.764 201.695 Q504.764 199.959 503.584 199.033 Q502.426 198.107 498.468 197.251 L496.987 196.904 Q493.028 196.07 491.269 194.358 Q489.51 192.621 489.51 189.612 Q489.51 185.955 492.102 183.964 Q494.695 181.973 499.464 181.973 Q501.825 181.973 503.908 182.321 Q505.991 182.668 507.751 183.362 Z\" fill=\"#000000\" fill-rule=\"evenodd\" fill-opacity=\"1\" /><path clip-path=\"url(#clip5800)\" d=\"M 0 0 M517.82 175.237 L517.82 182.598 L526.593 182.598 L526.593 185.908 L517.82 185.908 L517.82 199.982 Q517.82 203.154 518.676 204.057 Q519.556 204.959 522.218 204.959 L526.593 204.959 L526.593 208.524 L522.218 208.524 Q517.288 208.524 515.413 206.695 Q513.538 204.844 513.538 199.982 L513.538 185.908 L510.413 185.908 L510.413 182.598 L513.538 182.598 L513.538 175.237 L517.82 175.237 Z\" fill=\"#000000\" fill-rule=\"evenodd\" fill-opacity=\"1\" /><path clip-path=\"url(#clip5800)\" d=\"M 0 0 M531.061 182.598 L535.32 182.598 L535.32 208.524 L531.061 208.524 L531.061 182.598 M531.061 172.506 L535.32 172.506 L535.32 177.899 L531.061 177.899 L531.061 172.506 Z\" fill=\"#000000\" fill-rule=\"evenodd\" fill-opacity=\"1\" /><path clip-path=\"url(#clip5800)\" d=\"M 0 0 M559.972 187.575 Q561.57 184.705 563.792 183.339 Q566.014 181.973 569.023 181.973 Q573.074 181.973 575.273 184.821 Q577.472 187.645 577.472 192.876 L577.472 208.524 L573.19 208.524 L573.19 193.015 Q573.19 189.288 571.871 187.483 Q570.551 185.677 567.843 185.677 Q564.533 185.677 562.611 187.876 Q560.69 190.075 560.69 193.871 L560.69 208.524 L556.408 208.524 L556.408 193.015 Q556.408 189.265 555.088 187.483 Q553.769 185.677 551.014 185.677 Q547.75 185.677 545.829 187.899 Q543.908 190.098 543.908 193.871 L543.908 208.524 L539.625 208.524 L539.625 182.598 L543.908 182.598 L543.908 186.626 Q545.366 184.242 547.403 183.108 Q549.44 181.973 552.241 181.973 Q555.065 181.973 557.033 183.408 Q559.023 184.844 559.972 187.575 Z\" fill=\"#000000\" fill-rule=\"evenodd\" fill-opacity=\"1\" /><path clip-path=\"url(#clip5800)\" d=\"M 0 0 M593.722 195.492 Q588.56 195.492 586.57 196.672 Q584.579 197.853 584.579 200.7 Q584.579 202.969 586.06 204.311 Q587.565 205.631 590.134 205.631 Q593.676 205.631 595.806 203.131 Q597.958 200.607 597.958 196.441 L597.958 195.492 L593.722 195.492 M602.218 193.733 L602.218 208.524 L597.958 208.524 L597.958 204.589 Q596.5 206.95 594.324 208.084 Q592.148 209.195 589 209.195 Q585.019 209.195 582.658 206.973 Q580.32 204.728 580.32 200.978 Q580.32 196.603 583.236 194.381 Q586.176 192.158 591.986 192.158 L597.958 192.158 L597.958 191.742 Q597.958 188.802 596.014 187.205 Q594.093 185.584 590.597 185.584 Q588.375 185.584 586.269 186.117 Q584.162 186.649 582.218 187.714 L582.218 183.779 Q584.556 182.876 586.755 182.436 Q588.954 181.973 591.037 181.973 Q596.662 181.973 599.44 184.89 Q602.218 187.807 602.218 193.733 Z\" fill=\"#000000\" fill-rule=\"evenodd\" fill-opacity=\"1\" /><path clip-path=\"url(#clip5800)\" d=\"M 0 0 M610.898 175.237 L610.898 182.598 L619.671 182.598 L619.671 185.908 L610.898 185.908 L610.898 199.982 Q610.898 203.154 611.755 204.057 Q612.634 204.959 615.296 204.959 L619.671 204.959 L619.671 208.524 L615.296 208.524 Q610.366 208.524 608.491 206.695 Q606.616 204.844 606.616 199.982 L606.616 185.908 L603.491 185.908 L603.491 182.598 L606.616 182.598 L606.616 175.237 L610.898 175.237 Z\" fill=\"#000000\" fill-rule=\"evenodd\" fill-opacity=\"1\" /><path clip-path=\"url(#clip5800)\" d=\"M 0 0 M646.315 194.496 L646.315 196.58 L626.731 196.58 Q627.009 200.978 629.37 203.293 Q631.755 205.584 635.991 205.584 Q638.444 205.584 640.736 204.982 Q643.051 204.381 645.319 203.177 L645.319 207.205 Q643.028 208.177 640.62 208.686 Q638.213 209.195 635.736 209.195 Q629.532 209.195 625.898 205.584 Q622.287 201.973 622.287 195.816 Q622.287 189.45 625.713 185.723 Q629.162 181.973 634.995 181.973 Q640.227 181.973 643.259 185.353 Q646.315 188.709 646.315 194.496 M642.055 193.246 Q642.009 189.751 640.088 187.668 Q638.19 185.584 635.042 185.584 Q631.477 185.584 629.324 187.598 Q627.194 189.612 626.87 193.27 L642.055 193.246 Z\" fill=\"#000000\" fill-rule=\"evenodd\" fill-opacity=\"1\" /><polyline clip-path=\"url(#clip5800)\" style=\"stroke:#e26f46; stroke-width:8; stroke-opacity:1; fill:none\" stroke-dasharray=\"32, 20\" points=\"\n",
       "  296.487,251.724 440.487,251.724 \n",
       "  \"/>\n",
       "<path clip-path=\"url(#clip5800)\" d=\"M 0 0 M468.769 265.115 L468.769 278.865 L464.487 278.865 L464.487 243.078 L468.769 243.078 L468.769 247.013 Q470.112 244.699 472.149 243.588 Q474.209 242.453 477.056 242.453 Q481.778 242.453 484.718 246.203 Q487.681 249.953 487.681 256.064 Q487.681 262.175 484.718 265.925 Q481.778 269.675 477.056 269.675 Q474.209 269.675 472.149 268.564 Q470.112 267.43 468.769 265.115 M483.26 256.064 Q483.26 251.365 481.316 248.703 Q479.394 246.018 476.015 246.018 Q472.635 246.018 470.691 248.703 Q468.769 251.365 468.769 256.064 Q468.769 260.763 470.691 263.449 Q472.635 266.111 476.015 266.111 Q479.394 266.111 481.316 263.449 Q483.26 260.763 483.26 256.064 Z\" fill=\"#000000\" fill-rule=\"evenodd\" fill-opacity=\"1\" /><path clip-path=\"url(#clip5800)\" d=\"M 0 0 M492.149 243.078 L496.408 243.078 L496.408 269.004 L492.149 269.004 L492.149 243.078 M492.149 232.986 L496.408 232.986 L496.408 238.379 L492.149 238.379 L492.149 232.986 Z\" fill=\"#000000\" fill-rule=\"evenodd\" fill-opacity=\"1\" /></svg>\n"
      ]
     },
     "execution_count": 142,
     "metadata": {},
     "output_type": "execute_result"
    }
   ],
   "source": [
    "plot_results(results.threads,\n",
    "    results.estimate,    \n",
    "    \"pi\",\n",
    "    \"Estimate\",\n",
    "    hline = [pi for i in 1:nrow(results)])"
   ]
  },
  {
   "cell_type": "code",
   "execution_count": 143,
   "metadata": {},
   "outputs": [
    {
     "data": {
      "image/svg+xml": [
       "<?xml version=\"1.0\" encoding=\"utf-8\"?>\n",
       "<svg xmlns=\"http://www.w3.org/2000/svg\" xmlns:xlink=\"http://www.w3.org/1999/xlink\" width=\"600\" height=\"400\" viewBox=\"0 0 2400 1600\">\n",
       "<defs>\n",
       "  <clipPath id=\"clip6200\">\n",
       "    <rect x=\"0\" y=\"0\" width=\"2400\" height=\"1600\"/>\n",
       "  </clipPath>\n",
       "</defs>\n",
       "<path clip-path=\"url(#clip6200)\" d=\"\n",
       "M0 1600 L2400 1600 L2400 0 L0 0  Z\n",
       "  \" fill=\"#ffffff\" fill-rule=\"evenodd\" fill-opacity=\"1\"/>\n",
       "<defs>\n",
       "  <clipPath id=\"clip6201\">\n",
       "    <rect x=\"480\" y=\"0\" width=\"1681\" height=\"1600\"/>\n",
       "  </clipPath>\n",
       "</defs>\n",
       "<path clip-path=\"url(#clip6200)\" d=\"\n",
       "M162.455 1486.45 L2352.76 1486.45 L2352.76 47.2441 L162.455 47.2441  Z\n",
       "  \" fill=\"#ffffff\" fill-rule=\"evenodd\" fill-opacity=\"1\"/>\n",
       "<defs>\n",
       "  <clipPath id=\"clip6202\">\n",
       "    <rect x=\"162\" y=\"47\" width=\"2191\" height=\"1440\"/>\n",
       "  </clipPath>\n",
       "</defs>\n",
       "<polyline clip-path=\"url(#clip6202)\" style=\"stroke:#000000; stroke-width:2; stroke-opacity:0.1; fill:none\" points=\"\n",
       "  519.633,1486.45 519.633,47.2441 \n",
       "  \"/>\n",
       "<polyline clip-path=\"url(#clip6202)\" style=\"stroke:#000000; stroke-width:2; stroke-opacity:0.1; fill:none\" points=\"\n",
       "  1110.01,1486.45 1110.01,47.2441 \n",
       "  \"/>\n",
       "<polyline clip-path=\"url(#clip6202)\" style=\"stroke:#000000; stroke-width:2; stroke-opacity:0.1; fill:none\" points=\"\n",
       "  1700.39,1486.45 1700.39,47.2441 \n",
       "  \"/>\n",
       "<polyline clip-path=\"url(#clip6202)\" style=\"stroke:#000000; stroke-width:2; stroke-opacity:0.1; fill:none\" points=\"\n",
       "  2290.77,1486.45 2290.77,47.2441 \n",
       "  \"/>\n",
       "<polyline clip-path=\"url(#clip6202)\" style=\"stroke:#000000; stroke-width:2; stroke-opacity:0.1; fill:none\" points=\"\n",
       "  162.455,1477.78 2352.76,1477.78 \n",
       "  \"/>\n",
       "<polyline clip-path=\"url(#clip6202)\" style=\"stroke:#000000; stroke-width:2; stroke-opacity:0.1; fill:none\" points=\"\n",
       "  162.455,1238.56 2352.76,1238.56 \n",
       "  \"/>\n",
       "<polyline clip-path=\"url(#clip6202)\" style=\"stroke:#000000; stroke-width:2; stroke-opacity:0.1; fill:none\" points=\"\n",
       "  162.455,999.346 2352.76,999.346 \n",
       "  \"/>\n",
       "<polyline clip-path=\"url(#clip6202)\" style=\"stroke:#000000; stroke-width:2; stroke-opacity:0.1; fill:none\" points=\"\n",
       "  162.455,760.127 2352.76,760.127 \n",
       "  \"/>\n",
       "<polyline clip-path=\"url(#clip6202)\" style=\"stroke:#000000; stroke-width:2; stroke-opacity:0.1; fill:none\" points=\"\n",
       "  162.455,520.909 2352.76,520.909 \n",
       "  \"/>\n",
       "<polyline clip-path=\"url(#clip6202)\" style=\"stroke:#000000; stroke-width:2; stroke-opacity:0.1; fill:none\" points=\"\n",
       "  162.455,281.691 2352.76,281.691 \n",
       "  \"/>\n",
       "<polyline clip-path=\"url(#clip6200)\" style=\"stroke:#000000; stroke-width:4; stroke-opacity:1; fill:none\" points=\"\n",
       "  162.455,1486.45 2352.76,1486.45 \n",
       "  \"/>\n",
       "<polyline clip-path=\"url(#clip6200)\" style=\"stroke:#000000; stroke-width:4; stroke-opacity:1; fill:none\" points=\"\n",
       "  162.455,1486.45 162.455,47.2441 \n",
       "  \"/>\n",
       "<polyline clip-path=\"url(#clip6200)\" style=\"stroke:#000000; stroke-width:4; stroke-opacity:1; fill:none\" points=\"\n",
       "  519.633,1486.45 519.633,1469.18 \n",
       "  \"/>\n",
       "<polyline clip-path=\"url(#clip6200)\" style=\"stroke:#000000; stroke-width:4; stroke-opacity:1; fill:none\" points=\"\n",
       "  1110.01,1486.45 1110.01,1469.18 \n",
       "  \"/>\n",
       "<polyline clip-path=\"url(#clip6200)\" style=\"stroke:#000000; stroke-width:4; stroke-opacity:1; fill:none\" points=\"\n",
       "  1700.39,1486.45 1700.39,1469.18 \n",
       "  \"/>\n",
       "<polyline clip-path=\"url(#clip6200)\" style=\"stroke:#000000; stroke-width:4; stroke-opacity:1; fill:none\" points=\"\n",
       "  2290.77,1486.45 2290.77,1469.18 \n",
       "  \"/>\n",
       "<polyline clip-path=\"url(#clip6200)\" style=\"stroke:#000000; stroke-width:4; stroke-opacity:1; fill:none\" points=\"\n",
       "  162.455,1477.78 188.738,1477.78 \n",
       "  \"/>\n",
       "<polyline clip-path=\"url(#clip6200)\" style=\"stroke:#000000; stroke-width:4; stroke-opacity:1; fill:none\" points=\"\n",
       "  162.455,1238.56 188.738,1238.56 \n",
       "  \"/>\n",
       "<polyline clip-path=\"url(#clip6200)\" style=\"stroke:#000000; stroke-width:4; stroke-opacity:1; fill:none\" points=\"\n",
       "  162.455,999.346 188.738,999.346 \n",
       "  \"/>\n",
       "<polyline clip-path=\"url(#clip6200)\" style=\"stroke:#000000; stroke-width:4; stroke-opacity:1; fill:none\" points=\"\n",
       "  162.455,760.127 188.738,760.127 \n",
       "  \"/>\n",
       "<polyline clip-path=\"url(#clip6200)\" style=\"stroke:#000000; stroke-width:4; stroke-opacity:1; fill:none\" points=\"\n",
       "  162.455,520.909 188.738,520.909 \n",
       "  \"/>\n",
       "<polyline clip-path=\"url(#clip6200)\" style=\"stroke:#000000; stroke-width:4; stroke-opacity:1; fill:none\" points=\"\n",
       "  162.455,281.691 188.738,281.691 \n",
       "  \"/>\n",
       "<path clip-path=\"url(#clip6200)\" d=\"M 0 0 M514.286 1535.98 L530.605 1535.98 L530.605 1539.92 L508.661 1539.92 L508.661 1535.98 Q511.323 1533.23 515.906 1528.6 Q520.513 1523.95 521.693 1522.61 Q523.939 1520.08 524.818 1518.35 Q525.721 1516.59 525.721 1514.9 Q525.721 1512.14 523.777 1510.41 Q521.855 1508.67 518.754 1508.67 Q516.554 1508.67 514.101 1509.43 Q511.67 1510.2 508.893 1511.75 L508.893 1507.03 Q511.717 1505.89 514.17 1505.31 Q516.624 1504.73 518.661 1504.73 Q524.031 1504.73 527.226 1507.42 Q530.42 1510.11 530.42 1514.6 Q530.42 1516.73 529.61 1518.65 Q528.823 1520.54 526.716 1523.14 Q526.138 1523.81 523.036 1527.03 Q519.934 1530.22 514.286 1535.98 Z\" fill=\"#000000\" fill-rule=\"evenodd\" fill-opacity=\"1\" /><path clip-path=\"url(#clip6200)\" d=\"M 0 0 M1113.02 1509.43 L1101.21 1527.88 L1113.02 1527.88 L1113.02 1509.43 M1111.79 1505.36 L1117.67 1505.36 L1117.67 1527.88 L1122.6 1527.88 L1122.6 1531.77 L1117.67 1531.77 L1117.67 1539.92 L1113.02 1539.92 L1113.02 1531.77 L1097.42 1531.77 L1097.42 1527.26 L1111.79 1505.36 Z\" fill=\"#000000\" fill-rule=\"evenodd\" fill-opacity=\"1\" /><path clip-path=\"url(#clip6200)\" d=\"M 0 0 M1700.79 1520.78 Q1697.65 1520.78 1695.79 1522.93 Q1693.96 1525.08 1693.96 1528.83 Q1693.96 1532.56 1695.79 1534.73 Q1697.65 1536.89 1700.79 1536.89 Q1703.94 1536.89 1705.77 1534.73 Q1707.62 1532.56 1707.62 1528.83 Q1707.62 1525.08 1705.77 1522.93 Q1703.94 1520.78 1700.79 1520.78 M1710.08 1506.12 L1710.08 1510.38 Q1708.32 1509.55 1706.51 1509.11 Q1704.73 1508.67 1702.97 1508.67 Q1698.34 1508.67 1695.89 1511.8 Q1693.46 1514.92 1693.11 1521.24 Q1694.47 1519.23 1696.53 1518.16 Q1698.59 1517.07 1701.07 1517.07 Q1706.28 1517.07 1709.29 1520.24 Q1712.32 1523.39 1712.32 1528.83 Q1712.32 1534.16 1709.17 1537.37 Q1706.03 1540.59 1700.79 1540.59 Q1694.8 1540.59 1691.63 1536.01 Q1688.46 1531.4 1688.46 1522.67 Q1688.46 1514.48 1692.34 1509.62 Q1696.23 1504.73 1702.78 1504.73 Q1704.54 1504.73 1706.33 1505.08 Q1708.13 1505.43 1710.08 1506.12 Z\" fill=\"#000000\" fill-rule=\"evenodd\" fill-opacity=\"1\" /><path clip-path=\"url(#clip6200)\" d=\"M 0 0 M2290.77 1523.51 Q2287.43 1523.51 2285.51 1525.29 Q2283.61 1527.07 2283.61 1530.2 Q2283.61 1533.32 2285.51 1535.11 Q2287.43 1536.89 2290.77 1536.89 Q2294.1 1536.89 2296.02 1535.11 Q2297.94 1533.3 2297.94 1530.2 Q2297.94 1527.07 2296.02 1525.29 Q2294.12 1523.51 2290.77 1523.51 M2286.09 1521.52 Q2283.08 1520.78 2281.39 1518.72 Q2279.72 1516.66 2279.72 1513.69 Q2279.72 1509.55 2282.66 1507.14 Q2285.63 1504.73 2290.77 1504.73 Q2295.93 1504.73 2298.87 1507.14 Q2301.81 1509.55 2301.81 1513.69 Q2301.81 1516.66 2300.12 1518.72 Q2298.45 1520.78 2295.47 1521.52 Q2298.84 1522.3 2300.72 1524.6 Q2302.62 1526.89 2302.62 1530.2 Q2302.62 1535.22 2299.54 1537.91 Q2296.48 1540.59 2290.77 1540.59 Q2285.05 1540.59 2281.97 1537.91 Q2278.91 1535.22 2278.91 1530.2 Q2278.91 1526.89 2280.81 1524.6 Q2282.71 1522.3 2286.09 1521.52 M2284.38 1514.13 Q2284.38 1516.82 2286.04 1518.32 Q2287.73 1519.83 2290.77 1519.83 Q2293.78 1519.83 2295.47 1518.32 Q2297.18 1516.82 2297.18 1514.13 Q2297.18 1511.45 2295.47 1509.94 Q2293.78 1508.44 2290.77 1508.44 Q2287.73 1508.44 2286.04 1509.94 Q2284.38 1511.45 2284.38 1514.13 Z\" fill=\"#000000\" fill-rule=\"evenodd\" fill-opacity=\"1\" /><path clip-path=\"url(#clip6200)\" d=\"M 0 0 M62.9921 1480.18 L75.4689 1480.18 L75.4689 1483.98 L62.9921 1483.98 L62.9921 1480.18 Z\" fill=\"#000000\" fill-rule=\"evenodd\" fill-opacity=\"1\" /><path clip-path=\"url(#clip6200)\" d=\"M 0 0 M90.5383 1463.58 Q86.9272 1463.58 85.0985 1467.15 Q83.2929 1470.69 83.2929 1477.82 Q83.2929 1484.92 85.0985 1488.49 Q86.9272 1492.03 90.5383 1492.03 Q94.1725 1492.03 95.9781 1488.49 Q97.8068 1484.92 97.8068 1477.82 Q97.8068 1470.69 95.9781 1467.15 Q94.1725 1463.58 90.5383 1463.58 M90.5383 1459.88 Q96.3484 1459.88 99.404 1464.48 Q102.483 1469.07 102.483 1477.82 Q102.483 1486.54 99.404 1491.15 Q96.3484 1495.73 90.5383 1495.73 Q84.7281 1495.73 81.6494 1491.15 Q78.5939 1486.54 78.5939 1477.82 Q78.5939 1469.07 81.6494 1464.48 Q84.7281 1459.88 90.5383 1459.88 Z\" fill=\"#000000\" fill-rule=\"evenodd\" fill-opacity=\"1\" /><path clip-path=\"url(#clip6200)\" d=\"M 0 0 M107.552 1489.18 L112.436 1489.18 L112.436 1495.06 L107.552 1495.06 L107.552 1489.18 Z\" fill=\"#000000\" fill-rule=\"evenodd\" fill-opacity=\"1\" /><path clip-path=\"url(#clip6200)\" d=\"M 0 0 M117.552 1460.5 L135.908 1460.5 L135.908 1464.44 L121.834 1464.44 L121.834 1472.91 Q122.853 1472.56 123.871 1472.4 Q124.89 1472.22 125.908 1472.22 Q131.695 1472.22 135.075 1475.39 Q138.455 1478.56 138.455 1483.98 Q138.455 1489.55 134.982 1492.66 Q131.51 1495.73 125.191 1495.73 Q123.015 1495.73 120.746 1495.36 Q118.501 1494.99 116.094 1494.25 L116.094 1489.55 Q118.177 1490.69 120.399 1491.24 Q122.621 1491.8 125.098 1491.8 Q129.103 1491.8 131.441 1489.69 Q133.779 1487.59 133.779 1483.98 Q133.779 1480.36 131.441 1478.26 Q129.103 1476.15 125.098 1476.15 Q123.223 1476.15 121.348 1476.57 Q119.496 1476.98 117.552 1477.86 L117.552 1460.5 Z\" fill=\"#000000\" fill-rule=\"evenodd\" fill-opacity=\"1\" /><path clip-path=\"url(#clip6200)\" d=\"M 0 0 M89.5429 1224.36 Q85.9318 1224.36 84.1031 1227.93 Q82.2976 1231.47 82.2976 1238.6 Q82.2976 1245.71 84.1031 1249.27 Q85.9318 1252.81 89.5429 1252.81 Q93.1771 1252.81 94.9827 1249.27 Q96.8114 1245.71 96.8114 1238.6 Q96.8114 1231.47 94.9827 1227.93 Q93.1771 1224.36 89.5429 1224.36 M89.5429 1220.66 Q95.3531 1220.66 98.4086 1225.27 Q101.487 1229.85 101.487 1238.6 Q101.487 1247.33 98.4086 1251.93 Q95.3531 1256.52 89.5429 1256.52 Q83.7328 1256.52 80.6541 1251.93 Q77.5985 1247.33 77.5985 1238.6 Q77.5985 1229.85 80.6541 1225.27 Q83.7328 1220.66 89.5429 1220.66 Z\" fill=\"#000000\" fill-rule=\"evenodd\" fill-opacity=\"1\" /><path clip-path=\"url(#clip6200)\" d=\"M 0 0 M106.557 1249.96 L111.441 1249.96 L111.441 1255.84 L106.557 1255.84 L106.557 1249.96 Z\" fill=\"#000000\" fill-rule=\"evenodd\" fill-opacity=\"1\" /><path clip-path=\"url(#clip6200)\" d=\"M 0 0 M126.51 1224.36 Q122.899 1224.36 121.071 1227.93 Q119.265 1231.47 119.265 1238.6 Q119.265 1245.71 121.071 1249.27 Q122.899 1252.81 126.51 1252.81 Q130.145 1252.81 131.95 1249.27 Q133.779 1245.71 133.779 1238.6 Q133.779 1231.47 131.95 1227.93 Q130.145 1224.36 126.51 1224.36 M126.51 1220.66 Q132.32 1220.66 135.376 1225.27 Q138.455 1229.85 138.455 1238.6 Q138.455 1247.33 135.376 1251.93 Q132.32 1256.52 126.51 1256.52 Q120.7 1256.52 117.621 1251.93 Q114.566 1247.33 114.566 1238.6 Q114.566 1229.85 117.621 1225.27 Q120.7 1220.66 126.51 1220.66 Z\" fill=\"#000000\" fill-rule=\"evenodd\" fill-opacity=\"1\" /><path clip-path=\"url(#clip6200)\" d=\"M 0 0 M90.5383 985.145 Q86.9272 985.145 85.0985 988.709 Q83.2929 992.251 83.2929 999.381 Q83.2929 1006.49 85.0985 1010.05 Q86.9272 1013.59 90.5383 1013.59 Q94.1725 1013.59 95.9781 1010.05 Q97.8068 1006.49 97.8068 999.381 Q97.8068 992.251 95.9781 988.709 Q94.1725 985.145 90.5383 985.145 M90.5383 981.441 Q96.3484 981.441 99.404 986.047 Q102.483 990.631 102.483 999.381 Q102.483 1008.11 99.404 1012.71 Q96.3484 1017.3 90.5383 1017.3 Q84.7281 1017.3 81.6494 1012.71 Q78.5939 1008.11 78.5939 999.381 Q78.5939 990.631 81.6494 986.047 Q84.7281 981.441 90.5383 981.441 Z\" fill=\"#000000\" fill-rule=\"evenodd\" fill-opacity=\"1\" /><path clip-path=\"url(#clip6200)\" d=\"M 0 0 M107.552 1010.75 L112.436 1010.75 L112.436 1016.63 L107.552 1016.63 L107.552 1010.75 Z\" fill=\"#000000\" fill-rule=\"evenodd\" fill-opacity=\"1\" /><path clip-path=\"url(#clip6200)\" d=\"M 0 0 M117.552 982.066 L135.908 982.066 L135.908 986.001 L121.834 986.001 L121.834 994.473 Q122.853 994.126 123.871 993.964 Q124.89 993.779 125.908 993.779 Q131.695 993.779 135.075 996.95 Q138.455 1000.12 138.455 1005.54 Q138.455 1011.12 134.982 1014.22 Q131.51 1017.3 125.191 1017.3 Q123.015 1017.3 120.746 1016.93 Q118.501 1016.56 116.094 1015.82 L116.094 1011.12 Q118.177 1012.25 120.399 1012.81 Q122.621 1013.36 125.098 1013.36 Q129.103 1013.36 131.441 1011.26 Q133.779 1009.15 133.779 1005.54 Q133.779 1001.93 131.441 999.821 Q129.103 997.714 125.098 997.714 Q123.223 997.714 121.348 998.131 Q119.496 998.547 117.552 999.427 L117.552 982.066 Z\" fill=\"#000000\" fill-rule=\"evenodd\" fill-opacity=\"1\" /><path clip-path=\"url(#clip6200)\" d=\"M 0 0 M81.58 773.472 L89.2188 773.472 L89.2188 747.107 L80.9087 748.773 L80.9087 744.514 L89.1725 742.847 L93.8484 742.847 L93.8484 773.472 L101.487 773.472 L101.487 777.407 L81.58 777.407 L81.58 773.472 Z\" fill=\"#000000\" fill-rule=\"evenodd\" fill-opacity=\"1\" /><path clip-path=\"url(#clip6200)\" d=\"M 0 0 M106.557 771.528 L111.441 771.528 L111.441 777.407 L106.557 777.407 L106.557 771.528 Z\" fill=\"#000000\" fill-rule=\"evenodd\" fill-opacity=\"1\" /><path clip-path=\"url(#clip6200)\" d=\"M 0 0 M126.51 745.926 Q122.899 745.926 121.071 749.491 Q119.265 753.033 119.265 760.162 Q119.265 767.269 121.071 770.833 Q122.899 774.375 126.51 774.375 Q130.145 774.375 131.95 770.833 Q133.779 767.269 133.779 760.162 Q133.779 753.033 131.95 749.491 Q130.145 745.926 126.51 745.926 M126.51 742.222 Q132.32 742.222 135.376 746.829 Q138.455 751.412 138.455 760.162 Q138.455 768.889 135.376 773.495 Q132.32 778.079 126.51 778.079 Q120.7 778.079 117.621 773.495 Q114.566 768.889 114.566 760.162 Q114.566 751.412 117.621 746.829 Q120.7 742.222 126.51 742.222 Z\" fill=\"#000000\" fill-rule=\"evenodd\" fill-opacity=\"1\" /><path clip-path=\"url(#clip6200)\" d=\"M 0 0 M82.5754 534.254 L90.2142 534.254 L90.2142 507.888 L81.9041 509.555 L81.9041 505.296 L90.1679 503.629 L94.8438 503.629 L94.8438 534.254 L102.483 534.254 L102.483 538.189 L82.5754 538.189 L82.5754 534.254 Z\" fill=\"#000000\" fill-rule=\"evenodd\" fill-opacity=\"1\" /><path clip-path=\"url(#clip6200)\" d=\"M 0 0 M107.552 532.309 L112.436 532.309 L112.436 538.189 L107.552 538.189 L107.552 532.309 Z\" fill=\"#000000\" fill-rule=\"evenodd\" fill-opacity=\"1\" /><path clip-path=\"url(#clip6200)\" d=\"M 0 0 M117.552 503.629 L135.908 503.629 L135.908 507.564 L121.834 507.564 L121.834 516.036 Q122.853 515.689 123.871 515.527 Q124.89 515.342 125.908 515.342 Q131.695 515.342 135.075 518.513 Q138.455 521.684 138.455 527.101 Q138.455 532.68 134.982 535.782 Q131.51 538.86 125.191 538.86 Q123.015 538.86 120.746 538.49 Q118.501 538.12 116.094 537.379 L116.094 532.68 Q118.177 533.814 120.399 534.37 Q122.621 534.925 125.098 534.925 Q129.103 534.925 131.441 532.819 Q133.779 530.712 133.779 527.101 Q133.779 523.49 131.441 521.384 Q129.103 519.277 125.098 519.277 Q123.223 519.277 121.348 519.694 Q119.496 520.11 117.552 520.99 L117.552 503.629 Z\" fill=\"#000000\" fill-rule=\"evenodd\" fill-opacity=\"1\" /><path clip-path=\"url(#clip6200)\" d=\"M 0 0 M85.1679 295.035 L101.487 295.035 L101.487 298.971 L79.543 298.971 L79.543 295.035 Q82.205 292.281 86.7883 287.651 Q91.3948 282.998 92.5753 281.656 Q94.8207 279.133 95.7003 277.397 Q96.6031 275.637 96.6031 273.947 Q96.6031 271.193 94.6586 269.457 Q92.7373 267.721 89.6355 267.721 Q87.4364 267.721 84.9827 268.485 Q82.5522 269.248 79.7744 270.799 L79.7744 266.077 Q82.5985 264.943 85.0522 264.364 Q87.5059 263.786 89.5429 263.786 Q94.9133 263.786 98.1077 266.471 Q101.302 269.156 101.302 273.647 Q101.302 275.776 100.492 277.697 Q99.7049 279.596 97.5984 282.188 Q97.0197 282.859 93.9179 286.077 Q90.8161 289.271 85.1679 295.035 Z\" fill=\"#000000\" fill-rule=\"evenodd\" fill-opacity=\"1\" /><path clip-path=\"url(#clip6200)\" d=\"M 0 0 M106.557 293.091 L111.441 293.091 L111.441 298.971 L106.557 298.971 L106.557 293.091 Z\" fill=\"#000000\" fill-rule=\"evenodd\" fill-opacity=\"1\" /><path clip-path=\"url(#clip6200)\" d=\"M 0 0 M126.51 267.489 Q122.899 267.489 121.071 271.054 Q119.265 274.596 119.265 281.725 Q119.265 288.832 121.071 292.396 Q122.899 295.938 126.51 295.938 Q130.145 295.938 131.95 292.396 Q133.779 288.832 133.779 281.725 Q133.779 274.596 131.95 271.054 Q130.145 267.489 126.51 267.489 M126.51 263.786 Q132.32 263.786 135.376 268.392 Q138.455 272.975 138.455 281.725 Q138.455 290.452 135.376 295.058 Q132.32 299.642 126.51 299.642 Q120.7 299.642 117.621 295.058 Q114.566 290.452 114.566 281.725 Q114.566 272.975 117.621 268.392 Q120.7 263.786 126.51 263.786 Z\" fill=\"#000000\" fill-rule=\"evenodd\" fill-opacity=\"1\" /><circle clip-path=\"url(#clip6202)\" cx=\"224.444\" cy=\"766.846\" r=\"14\" fill=\"#009af9\" fill-rule=\"evenodd\" fill-opacity=\"0.6\" stroke=\"#000000\" stroke-opacity=\"0.6\" stroke-width=\"3.2\"/>\n",
       "<circle clip-path=\"url(#clip6202)\" cx=\"519.633\" cy=\"790.506\" r=\"14\" fill=\"#009af9\" fill-rule=\"evenodd\" fill-opacity=\"0.6\" stroke=\"#000000\" stroke-opacity=\"0.6\" stroke-width=\"3.2\"/>\n",
       "<circle clip-path=\"url(#clip6202)\" cx=\"814.822\" cy=\"851.423\" r=\"14\" fill=\"#009af9\" fill-rule=\"evenodd\" fill-opacity=\"0.6\" stroke=\"#000000\" stroke-opacity=\"0.6\" stroke-width=\"3.2\"/>\n",
       "<circle clip-path=\"url(#clip6202)\" cx=\"1110.01\" cy=\"806.605\" r=\"14\" fill=\"#009af9\" fill-rule=\"evenodd\" fill-opacity=\"0.6\" stroke=\"#000000\" stroke-opacity=\"0.6\" stroke-width=\"3.2\"/>\n",
       "<circle clip-path=\"url(#clip6202)\" cx=\"1405.2\" cy=\"779.803\" r=\"14\" fill=\"#009af9\" fill-rule=\"evenodd\" fill-opacity=\"0.6\" stroke=\"#000000\" stroke-opacity=\"0.6\" stroke-width=\"3.2\"/>\n",
       "<circle clip-path=\"url(#clip6202)\" cx=\"1700.39\" cy=\"870.001\" r=\"14\" fill=\"#009af9\" fill-rule=\"evenodd\" fill-opacity=\"0.6\" stroke=\"#000000\" stroke-opacity=\"0.6\" stroke-width=\"3.2\"/>\n",
       "<circle clip-path=\"url(#clip6202)\" cx=\"1995.58\" cy=\"855.854\" r=\"14\" fill=\"#009af9\" fill-rule=\"evenodd\" fill-opacity=\"0.6\" stroke=\"#000000\" stroke-opacity=\"0.6\" stroke-width=\"3.2\"/>\n",
       "<circle clip-path=\"url(#clip6202)\" cx=\"2290.77\" cy=\"887.757\" r=\"14\" fill=\"#009af9\" fill-rule=\"evenodd\" fill-opacity=\"0.6\" stroke=\"#000000\" stroke-opacity=\"0.6\" stroke-width=\"3.2\"/>\n",
       "<polyline clip-path=\"url(#clip6202)\" style=\"stroke:#009af9; stroke-width:4; stroke-opacity:0.6; fill:none\" points=\"\n",
       "  224.444,1445.72 224.444,87.9763 \n",
       "  \"/>\n",
       "<polyline clip-path=\"url(#clip6202)\" style=\"stroke:#009af9; stroke-width:4; stroke-opacity:0.6; fill:none\" points=\"\n",
       "  519.633,891.075 519.633,689.937 \n",
       "  \"/>\n",
       "<polyline clip-path=\"url(#clip6202)\" style=\"stroke:#009af9; stroke-width:4; stroke-opacity:0.6; fill:none\" points=\"\n",
       "  814.822,1107.69 814.822,595.16 \n",
       "  \"/>\n",
       "<polyline clip-path=\"url(#clip6202)\" style=\"stroke:#009af9; stroke-width:4; stroke-opacity:0.6; fill:none\" points=\"\n",
       "  1110.01,876.323 1110.01,736.886 \n",
       "  \"/>\n",
       "<polyline clip-path=\"url(#clip6202)\" style=\"stroke:#009af9; stroke-width:4; stroke-opacity:0.6; fill:none\" points=\"\n",
       "  1405.2,828.765 1405.2,730.842 \n",
       "  \"/>\n",
       "<polyline clip-path=\"url(#clip6202)\" style=\"stroke:#009af9; stroke-width:4; stroke-opacity:0.6; fill:none\" points=\"\n",
       "  1700.39,955.238 1700.39,784.764 \n",
       "  \"/>\n",
       "<polyline clip-path=\"url(#clip6202)\" style=\"stroke:#009af9; stroke-width:4; stroke-opacity:0.6; fill:none\" points=\"\n",
       "  1995.58,949.068 1995.58,762.64 \n",
       "  \"/>\n",
       "<polyline clip-path=\"url(#clip6202)\" style=\"stroke:#009af9; stroke-width:4; stroke-opacity:0.6; fill:none\" points=\"\n",
       "  2290.77,911.378 2290.77,864.136 \n",
       "  \"/>\n",
       "<line clip-path=\"url(#clip6202)\" x1=\"240.444\" y1=\"1445.72\" x2=\"208.444\" y2=\"1445.72\" style=\"stroke:#009af9; stroke-width:3.2; stroke-opacity:0.6\"/>\n",
       "<line clip-path=\"url(#clip6202)\" x1=\"240.444\" y1=\"87.9763\" x2=\"208.444\" y2=\"87.9763\" style=\"stroke:#009af9; stroke-width:3.2; stroke-opacity:0.6\"/>\n",
       "<line clip-path=\"url(#clip6202)\" x1=\"535.633\" y1=\"891.075\" x2=\"503.633\" y2=\"891.075\" style=\"stroke:#009af9; stroke-width:3.2; stroke-opacity:0.6\"/>\n",
       "<line clip-path=\"url(#clip6202)\" x1=\"535.633\" y1=\"689.937\" x2=\"503.633\" y2=\"689.937\" style=\"stroke:#009af9; stroke-width:3.2; stroke-opacity:0.6\"/>\n",
       "<line clip-path=\"url(#clip6202)\" x1=\"830.822\" y1=\"1107.69\" x2=\"798.822\" y2=\"1107.69\" style=\"stroke:#009af9; stroke-width:3.2; stroke-opacity:0.6\"/>\n",
       "<line clip-path=\"url(#clip6202)\" x1=\"830.822\" y1=\"595.16\" x2=\"798.822\" y2=\"595.16\" style=\"stroke:#009af9; stroke-width:3.2; stroke-opacity:0.6\"/>\n",
       "<line clip-path=\"url(#clip6202)\" x1=\"1126.01\" y1=\"876.323\" x2=\"1094.01\" y2=\"876.323\" style=\"stroke:#009af9; stroke-width:3.2; stroke-opacity:0.6\"/>\n",
       "<line clip-path=\"url(#clip6202)\" x1=\"1126.01\" y1=\"736.886\" x2=\"1094.01\" y2=\"736.886\" style=\"stroke:#009af9; stroke-width:3.2; stroke-opacity:0.6\"/>\n",
       "<line clip-path=\"url(#clip6202)\" x1=\"1421.2\" y1=\"828.765\" x2=\"1389.2\" y2=\"828.765\" style=\"stroke:#009af9; stroke-width:3.2; stroke-opacity:0.6\"/>\n",
       "<line clip-path=\"url(#clip6202)\" x1=\"1421.2\" y1=\"730.842\" x2=\"1389.2\" y2=\"730.842\" style=\"stroke:#009af9; stroke-width:3.2; stroke-opacity:0.6\"/>\n",
       "<line clip-path=\"url(#clip6202)\" x1=\"1716.39\" y1=\"955.238\" x2=\"1684.39\" y2=\"955.238\" style=\"stroke:#009af9; stroke-width:3.2; stroke-opacity:0.6\"/>\n",
       "<line clip-path=\"url(#clip6202)\" x1=\"1716.39\" y1=\"784.764\" x2=\"1684.39\" y2=\"784.764\" style=\"stroke:#009af9; stroke-width:3.2; stroke-opacity:0.6\"/>\n",
       "<line clip-path=\"url(#clip6202)\" x1=\"2011.58\" y1=\"949.068\" x2=\"1979.58\" y2=\"949.068\" style=\"stroke:#009af9; stroke-width:3.2; stroke-opacity:0.6\"/>\n",
       "<line clip-path=\"url(#clip6202)\" x1=\"2011.58\" y1=\"762.64\" x2=\"1979.58\" y2=\"762.64\" style=\"stroke:#009af9; stroke-width:3.2; stroke-opacity:0.6\"/>\n",
       "<line clip-path=\"url(#clip6202)\" x1=\"2306.77\" y1=\"911.378\" x2=\"2274.77\" y2=\"911.378\" style=\"stroke:#009af9; stroke-width:3.2; stroke-opacity:0.6\"/>\n",
       "<line clip-path=\"url(#clip6202)\" x1=\"2306.77\" y1=\"864.136\" x2=\"2274.77\" y2=\"864.136\" style=\"stroke:#009af9; stroke-width:3.2; stroke-opacity:0.6\"/>\n",
       "<path clip-path=\"url(#clip6200)\" d=\"\n",
       "M234.455 251.724 L885.54 251.724 L885.54 130.764 L234.455 130.764  Z\n",
       "  \" fill=\"#ffffff\" fill-rule=\"evenodd\" fill-opacity=\"1\"/>\n",
       "<polyline clip-path=\"url(#clip6200)\" style=\"stroke:#000000; stroke-width:4; stroke-opacity:1; fill:none\" points=\"\n",
       "  234.455,251.724 885.54,251.724 885.54,130.764 234.455,130.764 234.455,251.724 \n",
       "  \"/>\n",
       "<circle clip-path=\"url(#clip6200)\" cx=\"342.455\" cy=\"191.244\" r=\"21\" fill=\"#009af9\" fill-rule=\"evenodd\" fill-opacity=\"0.6\" stroke=\"#000000\" stroke-opacity=\"0.6\" stroke-width=\"3.2\"/>\n",
       "<path clip-path=\"url(#clip6200)\" d=\"M 0 0 M426.455 173.964 L433.422 173.964 L442.242 197.482 L451.107 173.964 L458.075 173.964 L458.075 208.524 L453.515 208.524 L453.515 178.177 L444.603 201.881 L439.904 201.881 L430.992 178.177 L430.992 208.524 L426.455 208.524 L426.455 173.964 Z\" fill=\"#000000\" fill-rule=\"evenodd\" fill-opacity=\"1\" /><path clip-path=\"url(#clip6200)\" d=\"M 0 0 M484.718 194.496 L484.718 196.58 L465.135 196.58 Q465.413 200.978 467.774 203.293 Q470.158 205.584 474.394 205.584 Q476.848 205.584 479.14 204.982 Q481.454 204.381 483.723 203.177 L483.723 207.205 Q481.431 208.177 479.024 208.686 Q476.616 209.195 474.14 209.195 Q467.936 209.195 464.302 205.584 Q460.691 201.973 460.691 195.816 Q460.691 189.45 464.117 185.723 Q467.566 181.973 473.399 181.973 Q478.63 181.973 481.663 185.353 Q484.718 188.709 484.718 194.496 M480.459 193.246 Q480.413 189.751 478.491 187.668 Q476.593 185.584 473.445 185.584 Q469.88 185.584 467.728 187.598 Q465.598 189.612 465.274 193.27 L480.459 193.246 Z\" fill=\"#000000\" fill-rule=\"evenodd\" fill-opacity=\"1\" /><path clip-path=\"url(#clip6200)\" d=\"M 0 0 M500.968 195.492 Q495.806 195.492 493.815 196.672 Q491.825 197.853 491.825 200.7 Q491.825 202.969 493.306 204.311 Q494.811 205.631 497.38 205.631 Q500.922 205.631 503.051 203.131 Q505.204 200.607 505.204 196.441 L505.204 195.492 L500.968 195.492 M509.463 193.733 L509.463 208.524 L505.204 208.524 L505.204 204.589 Q503.746 206.95 501.57 208.084 Q499.394 209.195 496.246 209.195 Q492.265 209.195 489.903 206.973 Q487.565 204.728 487.565 200.978 Q487.565 196.603 490.482 194.381 Q493.422 192.158 499.232 192.158 L505.204 192.158 L505.204 191.742 Q505.204 188.802 503.26 187.205 Q501.339 185.584 497.843 185.584 Q495.621 185.584 493.515 186.117 Q491.408 186.649 489.464 187.714 L489.464 183.779 Q491.802 182.876 494.001 182.436 Q496.2 181.973 498.283 181.973 Q503.908 181.973 506.686 184.89 Q509.463 187.807 509.463 193.733 Z\" fill=\"#000000\" fill-rule=\"evenodd\" fill-opacity=\"1\" /><path clip-path=\"url(#clip6200)\" d=\"M 0 0 M535.482 192.876 L535.482 208.524 L531.223 208.524 L531.223 193.015 Q531.223 189.334 529.787 187.506 Q528.352 185.677 525.482 185.677 Q522.033 185.677 520.042 187.876 Q518.051 190.075 518.051 193.871 L518.051 208.524 L513.769 208.524 L513.769 182.598 L518.051 182.598 L518.051 186.626 Q519.579 184.288 521.639 183.131 Q523.723 181.973 526.431 181.973 Q530.899 181.973 533.19 184.751 Q535.482 187.506 535.482 192.876 Z\" fill=\"#000000\" fill-rule=\"evenodd\" fill-opacity=\"1\" /><path clip-path=\"url(#clip6200)\" d=\"M 0 0 M559.88 177.807 L559.88 204.682 L565.528 204.682 Q572.681 204.682 575.991 201.441 Q579.324 198.2 579.324 191.209 Q579.324 184.265 575.991 181.047 Q572.681 177.807 565.528 177.807 L559.88 177.807 M555.204 173.964 L564.81 173.964 Q574.857 173.964 579.556 178.154 Q584.255 182.321 584.255 191.209 Q584.255 200.145 579.533 204.334 Q574.81 208.524 564.81 208.524 L555.204 208.524 L555.204 173.964 Z\" fill=\"#000000\" fill-rule=\"evenodd\" fill-opacity=\"1\" /><path clip-path=\"url(#clip6200)\" d=\"M 0 0 M588.283 198.293 L588.283 182.598 L592.542 182.598 L592.542 198.131 Q592.542 201.811 593.977 203.663 Q595.412 205.492 598.282 205.492 Q601.732 205.492 603.722 203.293 Q605.736 201.094 605.736 197.297 L605.736 182.598 L609.995 182.598 L609.995 208.524 L605.736 208.524 L605.736 204.543 Q604.185 206.904 602.125 208.061 Q600.088 209.195 597.38 209.195 Q592.912 209.195 590.597 206.418 Q588.283 203.64 588.283 198.293 M599 181.973 L599 181.973 Z\" fill=\"#000000\" fill-rule=\"evenodd\" fill-opacity=\"1\" /><path clip-path=\"url(#clip6200)\" d=\"M 0 0 M629.486 186.58 Q628.768 186.163 627.912 185.978 Q627.079 185.77 626.06 185.77 Q622.449 185.77 620.505 188.131 Q618.583 190.469 618.583 194.867 L618.583 208.524 L614.301 208.524 L614.301 182.598 L618.583 182.598 L618.583 186.626 Q619.926 184.265 622.079 183.131 Q624.231 181.973 627.31 181.973 Q627.75 181.973 628.282 182.043 Q628.815 182.089 629.463 182.205 L629.486 186.58 Z\" fill=\"#000000\" fill-rule=\"evenodd\" fill-opacity=\"1\" /><path clip-path=\"url(#clip6200)\" d=\"M 0 0 M645.736 195.492 Q640.574 195.492 638.583 196.672 Q636.592 197.853 636.592 200.7 Q636.592 202.969 638.074 204.311 Q639.579 205.631 642.148 205.631 Q645.69 205.631 647.819 203.131 Q649.972 200.607 649.972 196.441 L649.972 195.492 L645.736 195.492 M654.231 193.733 L654.231 208.524 L649.972 208.524 L649.972 204.589 Q648.514 206.95 646.338 208.084 Q644.162 209.195 641.014 209.195 Q637.032 209.195 634.671 206.973 Q632.333 204.728 632.333 200.978 Q632.333 196.603 635.25 194.381 Q638.19 192.158 644 192.158 L649.972 192.158 L649.972 191.742 Q649.972 188.802 648.028 187.205 Q646.106 185.584 642.611 185.584 Q640.389 185.584 638.282 186.117 Q636.176 186.649 634.231 187.714 L634.231 183.779 Q636.569 182.876 638.768 182.436 Q640.967 181.973 643.051 181.973 Q648.676 181.973 651.453 184.89 Q654.231 187.807 654.231 193.733 Z\" fill=\"#000000\" fill-rule=\"evenodd\" fill-opacity=\"1\" /><path clip-path=\"url(#clip6200)\" d=\"M 0 0 M662.912 175.237 L662.912 182.598 L671.685 182.598 L671.685 185.908 L662.912 185.908 L662.912 199.982 Q662.912 203.154 663.768 204.057 Q664.648 204.959 667.31 204.959 L671.685 204.959 L671.685 208.524 L667.31 208.524 Q662.379 208.524 660.504 206.695 Q658.629 204.844 658.629 199.982 L658.629 185.908 L655.504 185.908 L655.504 182.598 L658.629 182.598 L658.629 175.237 L662.912 175.237 Z\" fill=\"#000000\" fill-rule=\"evenodd\" fill-opacity=\"1\" /><path clip-path=\"url(#clip6200)\" d=\"M 0 0 M676.152 182.598 L680.412 182.598 L680.412 208.524 L676.152 208.524 L676.152 182.598 M676.152 172.506 L680.412 172.506 L680.412 177.899 L676.152 177.899 L676.152 172.506 Z\" fill=\"#000000\" fill-rule=\"evenodd\" fill-opacity=\"1\" /><path clip-path=\"url(#clip6200)\" d=\"M 0 0 M694.925 185.584 Q691.5 185.584 689.509 188.27 Q687.518 190.932 687.518 195.584 Q687.518 200.237 689.486 202.922 Q691.476 205.584 694.925 205.584 Q698.328 205.584 700.319 202.899 Q702.31 200.214 702.31 195.584 Q702.31 190.978 700.319 188.293 Q698.328 185.584 694.925 185.584 M694.925 181.973 Q700.481 181.973 703.652 185.584 Q706.824 189.195 706.824 195.584 Q706.824 201.95 703.652 205.584 Q700.481 209.195 694.925 209.195 Q689.347 209.195 686.176 205.584 Q683.027 201.95 683.027 195.584 Q683.027 189.195 686.176 185.584 Q689.347 181.973 694.925 181.973 Z\" fill=\"#000000\" fill-rule=\"evenodd\" fill-opacity=\"1\" /><path clip-path=\"url(#clip6200)\" d=\"M 0 0 M732.842 192.876 L732.842 208.524 L728.583 208.524 L728.583 193.015 Q728.583 189.334 727.148 187.506 Q725.712 185.677 722.842 185.677 Q719.393 185.677 717.402 187.876 Q715.411 190.075 715.411 193.871 L715.411 208.524 L711.129 208.524 L711.129 182.598 L715.411 182.598 L715.411 186.626 Q716.939 184.288 718.999 183.131 Q721.083 181.973 723.791 181.973 Q728.259 181.973 730.55 184.751 Q732.842 187.506 732.842 192.876 Z\" fill=\"#000000\" fill-rule=\"evenodd\" fill-opacity=\"1\" /><path clip-path=\"url(#clip6200)\" d=\"M 0 0 M769.717 178.802 L769.717 191.695 L782.61 191.695 L782.61 195.631 L769.717 195.631 L769.717 208.524 L765.828 208.524 L765.828 195.631 L752.934 195.631 L752.934 191.695 L765.828 191.695 L765.828 178.802 L769.717 178.802 Z\" fill=\"#000000\" fill-rule=\"evenodd\" fill-opacity=\"1\" /><path clip-path=\"url(#clip6200)\" d=\"M 0 0 M828.212 176.626 L828.212 181.557 Q825.851 179.358 823.166 178.27 Q820.503 177.182 817.494 177.182 Q811.568 177.182 808.42 180.816 Q805.272 184.427 805.272 191.279 Q805.272 198.107 808.42 201.742 Q811.568 205.353 817.494 205.353 Q820.503 205.353 823.166 204.265 Q825.851 203.177 828.212 200.978 L828.212 205.862 Q825.758 207.529 823.003 208.362 Q820.272 209.195 817.216 209.195 Q809.369 209.195 804.855 204.404 Q800.342 199.589 800.342 191.279 Q800.342 182.946 804.855 178.154 Q809.369 173.339 817.216 173.339 Q820.318 173.339 823.05 174.172 Q825.804 174.983 828.212 176.626 Z\" fill=\"#000000\" fill-rule=\"evenodd\" fill-opacity=\"1\" /><path clip-path=\"url(#clip6200)\" d=\"M 0 0 M832.865 173.964 L837.54 173.964 L837.54 208.524 L832.865 208.524 L832.865 173.964 Z\" fill=\"#000000\" fill-rule=\"evenodd\" fill-opacity=\"1\" /></svg>\n"
      ]
     },
     "execution_count": 143,
     "metadata": {},
     "output_type": "execute_result"
    }
   ],
   "source": [
    "plot_results(parsed_results.threads,\n",
    "    parsed_results.mean_duration,\n",
    "    \"pi\",\n",
    "    \"Mean Duration + CI\",\n",
    "    yerror = parsed_results.ci_duration)"
   ]
  },
  {
   "cell_type": "code",
   "execution_count": 144,
   "metadata": {},
   "outputs": [
    {
     "data": {
      "image/svg+xml": [
       "<?xml version=\"1.0\" encoding=\"utf-8\"?>\n",
       "<svg xmlns=\"http://www.w3.org/2000/svg\" xmlns:xlink=\"http://www.w3.org/1999/xlink\" width=\"600\" height=\"400\" viewBox=\"0 0 2400 1600\">\n",
       "<defs>\n",
       "  <clipPath id=\"clip6600\">\n",
       "    <rect x=\"0\" y=\"0\" width=\"2400\" height=\"1600\"/>\n",
       "  </clipPath>\n",
       "</defs>\n",
       "<path clip-path=\"url(#clip6600)\" d=\"\n",
       "M0 1600 L2400 1600 L2400 0 L0 0  Z\n",
       "  \" fill=\"#ffffff\" fill-rule=\"evenodd\" fill-opacity=\"1\"/>\n",
       "<defs>\n",
       "  <clipPath id=\"clip6601\">\n",
       "    <rect x=\"480\" y=\"0\" width=\"1681\" height=\"1600\"/>\n",
       "  </clipPath>\n",
       "</defs>\n",
       "<path clip-path=\"url(#clip6600)\" d=\"\n",
       "M200.487 1486.45 L2352.76 1486.45 L2352.76 47.2441 L200.487 47.2441  Z\n",
       "  \" fill=\"#ffffff\" fill-rule=\"evenodd\" fill-opacity=\"1\"/>\n",
       "<defs>\n",
       "  <clipPath id=\"clip6602\">\n",
       "    <rect x=\"200\" y=\"47\" width=\"2153\" height=\"1440\"/>\n",
       "  </clipPath>\n",
       "</defs>\n",
       "<polyline clip-path=\"url(#clip6602)\" style=\"stroke:#000000; stroke-width:2; stroke-opacity:0.1; fill:none\" points=\"\n",
       "  551.463,1486.45 551.463,47.2441 \n",
       "  \"/>\n",
       "<polyline clip-path=\"url(#clip6602)\" style=\"stroke:#000000; stroke-width:2; stroke-opacity:0.1; fill:none\" points=\"\n",
       "  1131.59,1486.45 1131.59,47.2441 \n",
       "  \"/>\n",
       "<polyline clip-path=\"url(#clip6602)\" style=\"stroke:#000000; stroke-width:2; stroke-opacity:0.1; fill:none\" points=\"\n",
       "  1711.72,1486.45 1711.72,47.2441 \n",
       "  \"/>\n",
       "<polyline clip-path=\"url(#clip6602)\" style=\"stroke:#000000; stroke-width:2; stroke-opacity:0.1; fill:none\" points=\"\n",
       "  2291.84,1486.45 2291.84,47.2441 \n",
       "  \"/>\n",
       "<polyline clip-path=\"url(#clip6602)\" style=\"stroke:#000000; stroke-width:2; stroke-opacity:0.1; fill:none\" points=\"\n",
       "  200.487,1453.64 2352.76,1453.64 \n",
       "  \"/>\n",
       "<polyline clip-path=\"url(#clip6602)\" style=\"stroke:#000000; stroke-width:2; stroke-opacity:0.1; fill:none\" points=\"\n",
       "  200.487,1210.36 2352.76,1210.36 \n",
       "  \"/>\n",
       "<polyline clip-path=\"url(#clip6602)\" style=\"stroke:#000000; stroke-width:2; stroke-opacity:0.1; fill:none\" points=\"\n",
       "  200.487,967.076 2352.76,967.076 \n",
       "  \"/>\n",
       "<polyline clip-path=\"url(#clip6602)\" style=\"stroke:#000000; stroke-width:2; stroke-opacity:0.1; fill:none\" points=\"\n",
       "  200.487,723.793 2352.76,723.793 \n",
       "  \"/>\n",
       "<polyline clip-path=\"url(#clip6602)\" style=\"stroke:#000000; stroke-width:2; stroke-opacity:0.1; fill:none\" points=\"\n",
       "  200.487,480.51 2352.76,480.51 \n",
       "  \"/>\n",
       "<polyline clip-path=\"url(#clip6602)\" style=\"stroke:#000000; stroke-width:2; stroke-opacity:0.1; fill:none\" points=\"\n",
       "  200.487,237.227 2352.76,237.227 \n",
       "  \"/>\n",
       "<polyline clip-path=\"url(#clip6600)\" style=\"stroke:#000000; stroke-width:4; stroke-opacity:1; fill:none\" points=\"\n",
       "  200.487,1486.45 2352.76,1486.45 \n",
       "  \"/>\n",
       "<polyline clip-path=\"url(#clip6600)\" style=\"stroke:#000000; stroke-width:4; stroke-opacity:1; fill:none\" points=\"\n",
       "  200.487,1486.45 200.487,47.2441 \n",
       "  \"/>\n",
       "<polyline clip-path=\"url(#clip6600)\" style=\"stroke:#000000; stroke-width:4; stroke-opacity:1; fill:none\" points=\"\n",
       "  551.463,1486.45 551.463,1469.18 \n",
       "  \"/>\n",
       "<polyline clip-path=\"url(#clip6600)\" style=\"stroke:#000000; stroke-width:4; stroke-opacity:1; fill:none\" points=\"\n",
       "  1131.59,1486.45 1131.59,1469.18 \n",
       "  \"/>\n",
       "<polyline clip-path=\"url(#clip6600)\" style=\"stroke:#000000; stroke-width:4; stroke-opacity:1; fill:none\" points=\"\n",
       "  1711.72,1486.45 1711.72,1469.18 \n",
       "  \"/>\n",
       "<polyline clip-path=\"url(#clip6600)\" style=\"stroke:#000000; stroke-width:4; stroke-opacity:1; fill:none\" points=\"\n",
       "  2291.84,1486.45 2291.84,1469.18 \n",
       "  \"/>\n",
       "<polyline clip-path=\"url(#clip6600)\" style=\"stroke:#000000; stroke-width:4; stroke-opacity:1; fill:none\" points=\"\n",
       "  200.487,1453.64 226.314,1453.64 \n",
       "  \"/>\n",
       "<polyline clip-path=\"url(#clip6600)\" style=\"stroke:#000000; stroke-width:4; stroke-opacity:1; fill:none\" points=\"\n",
       "  200.487,1210.36 226.314,1210.36 \n",
       "  \"/>\n",
       "<polyline clip-path=\"url(#clip6600)\" style=\"stroke:#000000; stroke-width:4; stroke-opacity:1; fill:none\" points=\"\n",
       "  200.487,967.076 226.314,967.076 \n",
       "  \"/>\n",
       "<polyline clip-path=\"url(#clip6600)\" style=\"stroke:#000000; stroke-width:4; stroke-opacity:1; fill:none\" points=\"\n",
       "  200.487,723.793 226.314,723.793 \n",
       "  \"/>\n",
       "<polyline clip-path=\"url(#clip6600)\" style=\"stroke:#000000; stroke-width:4; stroke-opacity:1; fill:none\" points=\"\n",
       "  200.487,480.51 226.314,480.51 \n",
       "  \"/>\n",
       "<polyline clip-path=\"url(#clip6600)\" style=\"stroke:#000000; stroke-width:4; stroke-opacity:1; fill:none\" points=\"\n",
       "  200.487,237.227 226.314,237.227 \n",
       "  \"/>\n",
       "<path clip-path=\"url(#clip6600)\" d=\"M 0 0 M546.116 1535.98 L562.436 1535.98 L562.436 1539.92 L540.491 1539.92 L540.491 1535.98 Q543.153 1533.23 547.737 1528.6 Q552.343 1523.95 553.524 1522.61 Q555.769 1520.08 556.649 1518.35 Q557.551 1516.59 557.551 1514.9 Q557.551 1512.14 555.607 1510.41 Q553.686 1508.67 550.584 1508.67 Q548.385 1508.67 545.931 1509.43 Q543.5 1510.2 540.723 1511.75 L540.723 1507.03 Q543.547 1505.89 546 1505.31 Q548.454 1504.73 550.491 1504.73 Q555.861 1504.73 559.056 1507.42 Q562.25 1510.11 562.25 1514.6 Q562.25 1516.73 561.44 1518.65 Q560.653 1520.54 558.547 1523.14 Q557.968 1523.81 554.866 1527.03 Q551.764 1530.22 546.116 1535.98 Z\" fill=\"#000000\" fill-rule=\"evenodd\" fill-opacity=\"1\" /><path clip-path=\"url(#clip6600)\" d=\"M 0 0 M1134.6 1509.43 L1122.79 1527.88 L1134.6 1527.88 L1134.6 1509.43 M1133.37 1505.36 L1139.25 1505.36 L1139.25 1527.88 L1144.18 1527.88 L1144.18 1531.77 L1139.25 1531.77 L1139.25 1539.92 L1134.6 1539.92 L1134.6 1531.77 L1119 1531.77 L1119 1527.26 L1133.37 1505.36 Z\" fill=\"#000000\" fill-rule=\"evenodd\" fill-opacity=\"1\" /><path clip-path=\"url(#clip6600)\" d=\"M 0 0 M1712.12 1520.78 Q1708.97 1520.78 1707.12 1522.93 Q1705.29 1525.08 1705.29 1528.83 Q1705.29 1532.56 1707.12 1534.73 Q1708.97 1536.89 1712.12 1536.89 Q1715.27 1536.89 1717.1 1534.73 Q1718.95 1532.56 1718.95 1528.83 Q1718.95 1525.08 1717.1 1522.93 Q1715.27 1520.78 1712.12 1520.78 M1721.4 1506.12 L1721.4 1510.38 Q1719.64 1509.55 1717.84 1509.11 Q1716.06 1508.67 1714.3 1508.67 Q1709.67 1508.67 1707.21 1511.8 Q1704.78 1514.92 1704.44 1521.24 Q1705.8 1519.23 1707.86 1518.16 Q1709.92 1517.07 1712.4 1517.07 Q1717.61 1517.07 1720.62 1520.24 Q1723.65 1523.39 1723.65 1528.83 Q1723.65 1534.16 1720.5 1537.37 Q1717.35 1540.59 1712.12 1540.59 Q1706.13 1540.59 1702.95 1536.01 Q1699.78 1531.4 1699.78 1522.67 Q1699.78 1514.48 1703.67 1509.62 Q1707.56 1504.73 1714.11 1504.73 Q1715.87 1504.73 1717.65 1505.08 Q1719.46 1505.43 1721.4 1506.12 Z\" fill=\"#000000\" fill-rule=\"evenodd\" fill-opacity=\"1\" /><path clip-path=\"url(#clip6600)\" d=\"M 0 0 M2291.84 1523.51 Q2288.51 1523.51 2286.59 1525.29 Q2284.69 1527.07 2284.69 1530.2 Q2284.69 1533.32 2286.59 1535.11 Q2288.51 1536.89 2291.84 1536.89 Q2295.18 1536.89 2297.1 1535.11 Q2299.02 1533.3 2299.02 1530.2 Q2299.02 1527.07 2297.1 1525.29 Q2295.2 1523.51 2291.84 1523.51 M2287.17 1521.52 Q2284.16 1520.78 2282.47 1518.72 Q2280.8 1516.66 2280.8 1513.69 Q2280.8 1509.55 2283.74 1507.14 Q2286.7 1504.73 2291.84 1504.73 Q2297 1504.73 2299.94 1507.14 Q2302.88 1509.55 2302.88 1513.69 Q2302.88 1516.66 2301.19 1518.72 Q2299.53 1520.78 2296.54 1521.52 Q2299.92 1522.3 2301.8 1524.6 Q2303.69 1526.89 2303.69 1530.2 Q2303.69 1535.22 2300.62 1537.91 Q2297.56 1540.59 2291.84 1540.59 Q2286.13 1540.59 2283.05 1537.91 Q2279.99 1535.22 2279.99 1530.2 Q2279.99 1526.89 2281.89 1524.6 Q2283.79 1522.3 2287.17 1521.52 M2285.45 1514.13 Q2285.45 1516.82 2287.12 1518.32 Q2288.81 1519.83 2291.84 1519.83 Q2294.85 1519.83 2296.54 1518.32 Q2298.25 1516.82 2298.25 1514.13 Q2298.25 1511.45 2296.54 1509.94 Q2294.85 1508.44 2291.84 1508.44 Q2288.81 1508.44 2287.12 1509.94 Q2285.45 1511.45 2285.45 1514.13 Z\" fill=\"#000000\" fill-rule=\"evenodd\" fill-opacity=\"1\" /><path clip-path=\"url(#clip6600)\" d=\"M 0 0 M80.4226 1452.29 Q83.7791 1453.01 85.654 1455.27 Q87.5522 1457.54 87.5522 1460.88 Q87.5522 1465.99 84.0337 1468.79 Q80.5152 1471.59 74.0337 1471.59 Q71.8578 1471.59 69.543 1471.15 Q67.2514 1470.74 64.7977 1469.88 L64.7977 1465.37 Q66.7421 1466.5 69.0569 1467.08 Q71.3717 1467.66 73.8948 1467.66 Q78.293 1467.66 80.5846 1465.92 Q82.8994 1464.19 82.8994 1460.88 Q82.8994 1457.82 80.7467 1456.11 Q78.617 1454.37 74.7976 1454.37 L70.7699 1454.37 L70.7699 1450.53 L74.9828 1450.53 Q78.4319 1450.53 80.2606 1449.16 Q82.0892 1447.77 82.0892 1445.18 Q82.0892 1442.52 80.1911 1441.11 Q78.3161 1439.67 74.7976 1439.67 Q72.8763 1439.67 70.6773 1440.09 Q68.4782 1440.51 65.8393 1441.38 L65.8393 1437.22 Q68.5014 1436.48 70.8162 1436.11 Q73.1541 1435.74 75.2143 1435.74 Q80.5383 1435.74 83.6402 1438.17 Q86.742 1440.57 86.742 1444.69 Q86.742 1447.57 85.0985 1449.56 Q83.455 1451.52 80.4226 1452.29 Z\" fill=\"#000000\" fill-rule=\"evenodd\" fill-opacity=\"1\" /><path clip-path=\"url(#clip6600)\" d=\"M 0 0 M92.6216 1465.04 L97.5058 1465.04 L97.5058 1470.92 L92.6216 1470.92 L92.6216 1465.04 Z\" fill=\"#000000\" fill-rule=\"evenodd\" fill-opacity=\"1\" /><path clip-path=\"url(#clip6600)\" d=\"M 0 0 M103.385 1466.99 L111.024 1466.99 L111.024 1440.62 L102.714 1442.29 L102.714 1438.03 L110.978 1436.36 L115.654 1436.36 L115.654 1466.99 L123.293 1466.99 L123.293 1470.92 L103.385 1470.92 L103.385 1466.99 Z\" fill=\"#000000\" fill-rule=\"evenodd\" fill-opacity=\"1\" /><path clip-path=\"url(#clip6600)\" d=\"M 0 0 M142.529 1452.29 Q145.885 1453.01 147.76 1455.27 Q149.658 1457.54 149.658 1460.88 Q149.658 1465.99 146.14 1468.79 Q142.621 1471.59 136.14 1471.59 Q133.964 1471.59 131.649 1471.15 Q129.358 1470.74 126.904 1469.88 L126.904 1465.37 Q128.848 1466.5 131.163 1467.08 Q133.478 1467.66 136.001 1467.66 Q140.399 1467.66 142.691 1465.92 Q145.006 1464.19 145.006 1460.88 Q145.006 1457.82 142.853 1456.11 Q140.723 1454.37 136.904 1454.37 L132.876 1454.37 L132.876 1450.53 L137.089 1450.53 Q140.538 1450.53 142.367 1449.16 Q144.195 1447.77 144.195 1445.18 Q144.195 1442.52 142.297 1441.11 Q140.422 1439.67 136.904 1439.67 Q134.982 1439.67 132.783 1440.09 Q130.584 1440.51 127.945 1441.38 L127.945 1437.22 Q130.608 1436.48 132.922 1436.11 Q135.26 1435.74 137.32 1435.74 Q142.644 1435.74 145.746 1438.17 Q148.848 1440.57 148.848 1444.69 Q148.848 1447.57 147.205 1449.56 Q145.561 1451.52 142.529 1452.29 Z\" fill=\"#000000\" fill-rule=\"evenodd\" fill-opacity=\"1\" /><path clip-path=\"url(#clip6600)\" d=\"M 0 0 M154.867 1470.2 L154.867 1465.94 Q156.626 1466.78 158.431 1467.22 Q160.237 1467.66 161.973 1467.66 Q166.603 1467.66 169.033 1464.56 Q171.487 1461.43 171.834 1455.09 Q170.492 1457.08 168.431 1458.14 Q166.371 1459.21 163.871 1459.21 Q158.686 1459.21 155.654 1456.08 Q152.644 1452.94 152.644 1447.5 Q152.644 1442.17 155.793 1438.95 Q158.941 1435.74 164.172 1435.74 Q170.167 1435.74 173.316 1440.34 Q176.487 1444.93 176.487 1453.68 Q176.487 1461.85 172.598 1466.73 Q168.732 1471.59 162.181 1471.59 Q160.422 1471.59 158.617 1471.25 Q156.811 1470.9 154.867 1470.2 M164.172 1455.55 Q167.32 1455.55 169.149 1453.4 Q171.001 1451.25 171.001 1447.5 Q171.001 1443.77 169.149 1441.62 Q167.32 1439.44 164.172 1439.44 Q161.024 1439.44 159.172 1441.62 Q157.343 1443.77 157.343 1447.5 Q157.343 1451.25 159.172 1453.4 Q161.024 1455.55 164.172 1455.55 Z\" fill=\"#000000\" fill-rule=\"evenodd\" fill-opacity=\"1\" /><path clip-path=\"url(#clip6600)\" d=\"M 0 0 M79.1032 1209 Q82.4596 1209.72 84.3346 1211.99 Q86.2327 1214.26 86.2327 1217.59 Q86.2327 1222.71 82.7142 1225.51 Q79.1957 1228.31 72.7143 1228.31 Q70.5384 1228.31 68.2236 1227.87 Q65.9319 1227.45 63.4782 1226.6 L63.4782 1222.08 Q65.4227 1223.22 67.7375 1223.8 Q70.0523 1224.37 72.5754 1224.37 Q76.9735 1224.37 79.2652 1222.64 Q81.58 1220.9 81.58 1217.59 Q81.58 1214.54 79.4272 1212.82 Q77.2976 1211.09 73.4782 1211.09 L69.4504 1211.09 L69.4504 1207.25 L73.6634 1207.25 Q77.1124 1207.25 78.9411 1205.88 Q80.7698 1204.49 80.7698 1201.9 Q80.7698 1199.24 78.8717 1197.82 Q76.9967 1196.39 73.4782 1196.39 Q71.5569 1196.39 69.3578 1196.81 Q67.1588 1197.22 64.5199 1198.1 L64.5199 1193.94 Q67.1819 1193.19 69.4967 1192.82 Q71.8347 1192.45 73.8948 1192.45 Q79.2189 1192.45 82.3207 1194.88 Q85.4226 1197.29 85.4226 1201.41 Q85.4226 1204.28 83.7791 1206.27 Q82.1355 1208.24 79.1032 1209 Z\" fill=\"#000000\" fill-rule=\"evenodd\" fill-opacity=\"1\" /><path clip-path=\"url(#clip6600)\" d=\"M 0 0 M91.3022 1221.76 L96.1864 1221.76 L96.1864 1227.64 L91.3022 1227.64 L91.3022 1221.76 Z\" fill=\"#000000\" fill-rule=\"evenodd\" fill-opacity=\"1\" /><path clip-path=\"url(#clip6600)\" d=\"M 0 0 M102.066 1223.7 L109.705 1223.7 L109.705 1197.34 L101.395 1199 L101.395 1194.75 L109.659 1193.08 L114.334 1193.08 L114.334 1223.7 L121.973 1223.7 L121.973 1227.64 L102.066 1227.64 L102.066 1223.7 Z\" fill=\"#000000\" fill-rule=\"evenodd\" fill-opacity=\"1\" /><path clip-path=\"url(#clip6600)\" d=\"M 0 0 M139.89 1197.15 L128.084 1215.6 L139.89 1215.6 L139.89 1197.15 M138.663 1193.08 L144.543 1193.08 L144.543 1215.6 L149.473 1215.6 L149.473 1219.49 L144.543 1219.49 L144.543 1227.64 L139.89 1227.64 L139.89 1219.49 L124.288 1219.49 L124.288 1214.98 L138.663 1193.08 Z\" fill=\"#000000\" fill-rule=\"evenodd\" fill-opacity=\"1\" /><path clip-path=\"url(#clip6600)\" d=\"M 0 0 M164.543 1196.16 Q160.931 1196.16 159.103 1199.72 Q157.297 1203.26 157.297 1210.39 Q157.297 1217.5 159.103 1221.06 Q160.931 1224.61 164.543 1224.61 Q168.177 1224.61 169.982 1221.06 Q171.811 1217.5 171.811 1210.39 Q171.811 1203.26 169.982 1199.72 Q168.177 1196.16 164.543 1196.16 M164.543 1192.45 Q170.353 1192.45 173.408 1197.06 Q176.487 1201.64 176.487 1210.39 Q176.487 1219.12 173.408 1223.73 Q170.353 1228.31 164.543 1228.31 Q158.732 1228.31 155.654 1223.73 Q152.598 1219.12 152.598 1210.39 Q152.598 1201.64 155.654 1197.06 Q158.732 1192.45 164.543 1192.45 Z\" fill=\"#000000\" fill-rule=\"evenodd\" fill-opacity=\"1\" /><path clip-path=\"url(#clip6600)\" d=\"M 0 0 M80.33 965.722 Q83.6865 966.439 85.5614 968.708 Q87.4596 970.976 87.4596 974.31 Q87.4596 979.425 83.9411 982.226 Q80.4226 985.027 73.9411 985.027 Q71.7652 985.027 69.4504 984.587 Q67.1588 984.171 64.7051 983.314 L64.7051 978.8 Q66.6495 979.935 68.9643 980.513 Q71.2791 981.092 73.8023 981.092 Q78.2004 981.092 80.492 979.356 Q82.8068 977.62 82.8068 974.31 Q82.8068 971.254 80.6541 969.541 Q78.5245 967.805 74.705 967.805 L70.6773 967.805 L70.6773 963.962 L74.8902 963.962 Q78.3393 963.962 80.168 962.597 Q81.9967 961.208 81.9967 958.615 Q81.9967 955.953 80.0985 954.541 Q78.2235 953.106 74.705 953.106 Q72.7837 953.106 70.5847 953.523 Q68.3856 953.939 65.7467 954.819 L65.7467 950.652 Q68.4088 949.912 70.7236 949.541 Q73.0615 949.171 75.1217 949.171 Q80.4457 949.171 83.5476 951.601 Q86.6494 954.009 86.6494 958.129 Q86.6494 960.999 85.0059 962.99 Q83.3624 964.958 80.33 965.722 Z\" fill=\"#000000\" fill-rule=\"evenodd\" fill-opacity=\"1\" /><path clip-path=\"url(#clip6600)\" d=\"M 0 0 M92.529 978.476 L97.4132 978.476 L97.4132 984.356 L92.529 984.356 L92.529 978.476 Z\" fill=\"#000000\" fill-rule=\"evenodd\" fill-opacity=\"1\" /><path clip-path=\"url(#clip6600)\" d=\"M 0 0 M103.293 980.421 L110.932 980.421 L110.932 954.055 L102.622 955.722 L102.622 951.462 L110.885 949.796 L115.561 949.796 L115.561 980.421 L123.2 980.421 L123.2 984.356 L103.293 984.356 L103.293 980.421 Z\" fill=\"#000000\" fill-rule=\"evenodd\" fill-opacity=\"1\" /><path clip-path=\"url(#clip6600)\" d=\"M 0 0 M141.117 953.87 L129.311 972.319 L141.117 972.319 L141.117 953.87 M139.89 949.796 L145.769 949.796 L145.769 972.319 L150.7 972.319 L150.7 976.208 L145.769 976.208 L145.769 984.356 L141.117 984.356 L141.117 976.208 L125.515 976.208 L125.515 971.694 L139.89 949.796 Z\" fill=\"#000000\" fill-rule=\"evenodd\" fill-opacity=\"1\" /><path clip-path=\"url(#clip6600)\" d=\"M 0 0 M156.58 980.421 L164.218 980.421 L164.218 954.055 L155.908 955.722 L155.908 951.462 L164.172 949.796 L168.848 949.796 L168.848 980.421 L176.487 980.421 L176.487 984.356 L156.58 984.356 L156.58 980.421 Z\" fill=\"#000000\" fill-rule=\"evenodd\" fill-opacity=\"1\" /><path clip-path=\"url(#clip6600)\" d=\"M 0 0 M80.7004 722.439 Q84.0568 723.156 85.9318 725.425 Q87.83 727.693 87.83 731.027 Q87.83 736.142 84.3115 738.943 Q80.793 741.744 74.3115 741.744 Q72.1356 741.744 69.8208 741.304 Q67.5291 740.888 65.0754 740.031 L65.0754 735.517 Q67.0199 736.652 69.3347 737.23 Q71.6495 737.809 74.1726 737.809 Q78.5707 737.809 80.8624 736.073 Q83.1772 734.337 83.1772 731.027 Q83.1772 727.971 81.0244 726.258 Q78.8948 724.522 75.0754 724.522 L71.0476 724.522 L71.0476 720.679 L75.2606 720.679 Q78.7096 720.679 80.5383 719.314 Q82.367 717.925 82.367 715.332 Q82.367 712.67 80.4689 711.258 Q78.5939 709.823 75.0754 709.823 Q73.1541 709.823 70.955 710.24 Q68.756 710.656 66.1171 711.536 L66.1171 707.369 Q68.7791 706.629 71.0939 706.258 Q73.4319 705.888 75.4921 705.888 Q80.8161 705.888 83.9179 708.318 Q87.0198 710.726 87.0198 714.846 Q87.0198 717.716 85.3763 719.707 Q83.7328 721.675 80.7004 722.439 Z\" fill=\"#000000\" fill-rule=\"evenodd\" fill-opacity=\"1\" /><path clip-path=\"url(#clip6600)\" d=\"M 0 0 M92.8994 735.193 L97.7836 735.193 L97.7836 741.073 L92.8994 741.073 L92.8994 735.193 Z\" fill=\"#000000\" fill-rule=\"evenodd\" fill-opacity=\"1\" /><path clip-path=\"url(#clip6600)\" d=\"M 0 0 M103.663 737.138 L111.302 737.138 L111.302 710.772 L102.992 712.439 L102.992 708.179 L111.256 706.513 L115.932 706.513 L115.932 737.138 L123.571 737.138 L123.571 741.073 L103.663 741.073 L103.663 737.138 Z\" fill=\"#000000\" fill-rule=\"evenodd\" fill-opacity=\"1\" /><path clip-path=\"url(#clip6600)\" d=\"M 0 0 M141.487 710.587 L129.682 729.036 L141.487 729.036 L141.487 710.587 M140.26 706.513 L146.14 706.513 L146.14 729.036 L151.07 729.036 L151.07 732.925 L146.14 732.925 L146.14 741.073 L141.487 741.073 L141.487 732.925 L125.885 732.925 L125.885 728.411 L140.26 706.513 Z\" fill=\"#000000\" fill-rule=\"evenodd\" fill-opacity=\"1\" /><path clip-path=\"url(#clip6600)\" d=\"M 0 0 M160.168 737.138 L176.487 737.138 L176.487 741.073 L154.543 741.073 L154.543 737.138 Q157.205 734.383 161.788 729.753 Q166.394 725.101 167.575 723.758 Q169.82 721.235 170.7 719.499 Q171.603 717.74 171.603 716.05 Q171.603 713.295 169.658 711.559 Q167.737 709.823 164.635 709.823 Q162.436 709.823 159.982 710.587 Q157.552 711.351 154.774 712.902 L154.774 708.179 Q157.598 707.045 160.052 706.467 Q162.505 705.888 164.543 705.888 Q169.913 705.888 173.107 708.573 Q176.302 711.258 176.302 715.749 Q176.302 717.879 175.492 719.8 Q174.704 721.698 172.598 724.291 Q172.019 724.962 168.917 728.179 Q165.816 731.374 160.168 737.138 Z\" fill=\"#000000\" fill-rule=\"evenodd\" fill-opacity=\"1\" /><path clip-path=\"url(#clip6600)\" d=\"M 0 0 M79.7513 479.156 Q83.1078 479.873 84.9827 482.142 Q86.8809 484.41 86.8809 487.744 Q86.8809 492.859 83.3624 495.66 Q79.8439 498.461 73.3624 498.461 Q71.1865 498.461 68.8717 498.021 Q66.5801 497.605 64.1264 496.748 L64.1264 492.234 Q66.0708 493.369 68.3856 493.947 Q70.7004 494.526 73.2236 494.526 Q77.6217 494.526 79.9133 492.79 Q82.2281 491.054 82.2281 487.744 Q82.2281 484.688 80.0754 482.975 Q77.9457 481.239 74.1263 481.239 L70.0986 481.239 L70.0986 477.396 L74.3115 477.396 Q77.7606 477.396 79.5893 476.031 Q81.418 474.642 81.418 472.049 Q81.418 469.387 79.5198 467.975 Q77.6448 466.54 74.1263 466.54 Q72.205 466.54 70.006 466.957 Q67.8069 467.373 65.168 468.253 L65.168 464.086 Q67.8301 463.346 70.1449 462.975 Q72.4828 462.605 74.543 462.605 Q79.867 462.605 82.9689 465.035 Q86.0707 467.443 86.0707 471.563 Q86.0707 474.434 84.4272 476.424 Q82.7837 478.392 79.7513 479.156 Z\" fill=\"#000000\" fill-rule=\"evenodd\" fill-opacity=\"1\" /><path clip-path=\"url(#clip6600)\" d=\"M 0 0 M91.9503 491.91 L96.8345 491.91 L96.8345 497.79 L91.9503 497.79 L91.9503 491.91 Z\" fill=\"#000000\" fill-rule=\"evenodd\" fill-opacity=\"1\" /><path clip-path=\"url(#clip6600)\" d=\"M 0 0 M102.714 493.855 L110.353 493.855 L110.353 467.489 L102.043 469.156 L102.043 464.897 L110.307 463.23 L114.983 463.23 L114.983 493.855 L122.621 493.855 L122.621 497.79 L102.714 497.79 L102.714 493.855 Z\" fill=\"#000000\" fill-rule=\"evenodd\" fill-opacity=\"1\" /><path clip-path=\"url(#clip6600)\" d=\"M 0 0 M140.538 467.304 L128.733 485.753 L140.538 485.753 L140.538 467.304 M139.311 463.23 L145.191 463.23 L145.191 485.753 L150.121 485.753 L150.121 489.642 L145.191 489.642 L145.191 497.79 L140.538 497.79 L140.538 489.642 L124.936 489.642 L124.936 485.128 L139.311 463.23 Z\" fill=\"#000000\" fill-rule=\"evenodd\" fill-opacity=\"1\" /><path clip-path=\"url(#clip6600)\" d=\"M 0 0 M169.357 479.156 Q172.714 479.873 174.589 482.142 Q176.487 484.41 176.487 487.744 Q176.487 492.859 172.968 495.66 Q169.45 498.461 162.968 498.461 Q160.793 498.461 158.478 498.021 Q156.186 497.605 153.732 496.748 L153.732 492.234 Q155.677 493.369 157.992 493.947 Q160.306 494.526 162.83 494.526 Q167.228 494.526 169.519 492.79 Q171.834 491.054 171.834 487.744 Q171.834 484.688 169.681 482.975 Q167.552 481.239 163.732 481.239 L159.705 481.239 L159.705 477.396 L163.918 477.396 Q167.367 477.396 169.195 476.031 Q171.024 474.642 171.024 472.049 Q171.024 469.387 169.126 467.975 Q167.251 466.54 163.732 466.54 Q161.811 466.54 159.612 466.957 Q157.413 467.373 154.774 468.253 L154.774 464.086 Q157.436 463.346 159.751 462.975 Q162.089 462.605 164.149 462.605 Q169.473 462.605 172.575 465.035 Q175.677 467.443 175.677 471.563 Q175.677 474.434 174.033 476.424 Q172.39 478.392 169.357 479.156 Z\" fill=\"#000000\" fill-rule=\"evenodd\" fill-opacity=\"1\" /><path clip-path=\"url(#clip6600)\" d=\"M 0 0 M78.617 235.873 Q81.9735 236.59 83.8485 238.859 Q85.7466 241.127 85.7466 244.461 Q85.7466 249.576 82.2281 252.377 Q78.7096 255.178 72.2282 255.178 Q70.0523 255.178 67.7375 254.738 Q65.4458 254.322 62.9921 253.465 L62.9921 248.951 Q64.9366 250.086 67.2514 250.664 Q69.5662 251.243 72.0893 251.243 Q76.4874 251.243 78.7791 249.507 Q81.0939 247.771 81.0939 244.461 Q81.0939 241.405 78.9411 239.692 Q76.8115 237.956 72.9921 237.956 L68.9643 237.956 L68.9643 234.114 L73.1773 234.114 Q76.6263 234.114 78.455 232.748 Q80.2837 231.359 80.2837 228.766 Q80.2837 226.104 78.3856 224.692 Q76.5106 223.257 72.9921 223.257 Q71.0708 223.257 68.8717 223.674 Q66.6727 224.09 64.0338 224.97 L64.0338 220.803 Q66.6958 220.063 69.0106 219.692 Q71.3486 219.322 73.4087 219.322 Q78.7328 219.322 81.8346 221.752 Q84.9365 224.16 84.9365 228.28 Q84.9365 231.151 83.2929 233.141 Q81.6494 235.109 78.617 235.873 Z\" fill=\"#000000\" fill-rule=\"evenodd\" fill-opacity=\"1\" /><path clip-path=\"url(#clip6600)\" d=\"M 0 0 M90.8161 248.627 L95.7003 248.627 L95.7003 254.507 L90.8161 254.507 L90.8161 248.627 Z\" fill=\"#000000\" fill-rule=\"evenodd\" fill-opacity=\"1\" /><path clip-path=\"url(#clip6600)\" d=\"M 0 0 M101.58 250.572 L109.219 250.572 L109.219 224.206 L100.909 225.873 L100.909 221.614 L109.172 219.947 L113.848 219.947 L113.848 250.572 L121.487 250.572 L121.487 254.507 L101.58 254.507 L101.58 250.572 Z\" fill=\"#000000\" fill-rule=\"evenodd\" fill-opacity=\"1\" /><path clip-path=\"url(#clip6600)\" d=\"M 0 0 M139.404 224.021 L127.598 242.47 L139.404 242.47 L139.404 224.021 M138.177 219.947 L144.057 219.947 L144.057 242.47 L148.987 242.47 L148.987 246.359 L144.057 246.359 L144.057 254.507 L139.404 254.507 L139.404 246.359 L123.802 246.359 L123.802 241.845 L138.177 219.947 Z\" fill=\"#000000\" fill-rule=\"evenodd\" fill-opacity=\"1\" /><path clip-path=\"url(#clip6600)\" d=\"M 0 0 M166.904 224.021 L155.098 242.47 L166.904 242.47 L166.904 224.021 M165.677 219.947 L171.556 219.947 L171.556 242.47 L176.487 242.47 L176.487 246.359 L171.556 246.359 L171.556 254.507 L166.904 254.507 L166.904 246.359 L151.302 246.359 L151.302 241.845 L165.677 219.947 Z\" fill=\"#000000\" fill-rule=\"evenodd\" fill-opacity=\"1\" /><circle clip-path=\"url(#clip6602)\" cx=\"551.463\" cy=\"758.316\" r=\"14\" fill=\"#009af9\" fill-rule=\"evenodd\" fill-opacity=\"0.6\" stroke=\"#000000\" stroke-opacity=\"0.6\" stroke-width=\"3.2\"/>\n",
       "<circle clip-path=\"url(#clip6602)\" cx=\"1131.59\" cy=\"829.334\" r=\"14\" fill=\"#009af9\" fill-rule=\"evenodd\" fill-opacity=\"0.6\" stroke=\"#000000\" stroke-opacity=\"0.6\" stroke-width=\"3.2\"/>\n",
       "<circle clip-path=\"url(#clip6602)\" cx=\"1421.65\" cy=\"766.846\" r=\"14\" fill=\"#009af9\" fill-rule=\"evenodd\" fill-opacity=\"0.6\" stroke=\"#000000\" stroke-opacity=\"0.6\" stroke-width=\"3.2\"/>\n",
       "<circle clip-path=\"url(#clip6602)\" cx=\"1711.72\" cy=\"822.552\" r=\"14\" fill=\"#009af9\" fill-rule=\"evenodd\" fill-opacity=\"0.6\" stroke=\"#000000\" stroke-opacity=\"0.6\" stroke-width=\"3.2\"/>\n",
       "<polyline clip-path=\"url(#clip6602)\" style=\"stroke:#009af9; stroke-width:4; stroke-opacity:0.6; fill:none\" points=\"\n",
       "  551.463,1353.53 551.463,163.099 \n",
       "  \"/>\n",
       "<polyline clip-path=\"url(#clip6602)\" style=\"stroke:#009af9; stroke-width:4; stroke-opacity:0.6; fill:none\" points=\"\n",
       "  1131.59,1244.03 1131.59,414.634 \n",
       "  \"/>\n",
       "<polyline clip-path=\"url(#clip6602)\" style=\"stroke:#009af9; stroke-width:4; stroke-opacity:0.6; fill:none\" points=\"\n",
       "  1421.65,1445.72 1421.65,87.9763 \n",
       "  \"/>\n",
       "<polyline clip-path=\"url(#clip6602)\" style=\"stroke:#009af9; stroke-width:4; stroke-opacity:0.6; fill:none\" points=\"\n",
       "  1711.72,1401.81 1711.72,243.296 \n",
       "  \"/>\n",
       "<line clip-path=\"url(#clip6602)\" x1=\"567.463\" y1=\"1353.53\" x2=\"535.463\" y2=\"1353.53\" style=\"stroke:#009af9; stroke-width:3.2; stroke-opacity:0.6\"/>\n",
       "<line clip-path=\"url(#clip6602)\" x1=\"567.463\" y1=\"163.099\" x2=\"535.463\" y2=\"163.099\" style=\"stroke:#009af9; stroke-width:3.2; stroke-opacity:0.6\"/>\n",
       "<line clip-path=\"url(#clip6602)\" x1=\"1147.59\" y1=\"1244.03\" x2=\"1115.59\" y2=\"1244.03\" style=\"stroke:#009af9; stroke-width:3.2; stroke-opacity:0.6\"/>\n",
       "<line clip-path=\"url(#clip6602)\" x1=\"1147.59\" y1=\"414.634\" x2=\"1115.59\" y2=\"414.634\" style=\"stroke:#009af9; stroke-width:3.2; stroke-opacity:0.6\"/>\n",
       "<line clip-path=\"url(#clip6602)\" x1=\"1437.65\" y1=\"1445.72\" x2=\"1405.65\" y2=\"1445.72\" style=\"stroke:#009af9; stroke-width:3.2; stroke-opacity:0.6\"/>\n",
       "<line clip-path=\"url(#clip6602)\" x1=\"1437.65\" y1=\"87.9763\" x2=\"1405.65\" y2=\"87.9763\" style=\"stroke:#009af9; stroke-width:3.2; stroke-opacity:0.6\"/>\n",
       "<line clip-path=\"url(#clip6602)\" x1=\"1727.72\" y1=\"1401.81\" x2=\"1695.72\" y2=\"1401.81\" style=\"stroke:#009af9; stroke-width:3.2; stroke-opacity:0.6\"/>\n",
       "<line clip-path=\"url(#clip6602)\" x1=\"1727.72\" y1=\"243.296\" x2=\"1695.72\" y2=\"243.296\" style=\"stroke:#009af9; stroke-width:3.2; stroke-opacity:0.6\"/>\n",
       "<polyline clip-path=\"url(#clip6602)\" style=\"stroke:#e26f46; stroke-width:8; stroke-opacity:1; fill:none\" stroke-dasharray=\"32, 20\" points=\"\n",
       "  261.4,822.893 551.463,822.893 841.527,822.893 1131.59,822.893 1421.65,822.893 1711.72,822.893 2001.78,822.893 2291.84,822.893 \n",
       "  \"/>\n",
       "<path clip-path=\"url(#clip6600)\" d=\"\n",
       "M272.487 312.204 L927.762 312.204 L927.762 130.764 L272.487 130.764  Z\n",
       "  \" fill=\"#ffffff\" fill-rule=\"evenodd\" fill-opacity=\"1\"/>\n",
       "<polyline clip-path=\"url(#clip6600)\" style=\"stroke:#000000; stroke-width:4; stroke-opacity:1; fill:none\" points=\"\n",
       "  272.487,312.204 927.762,312.204 927.762,130.764 272.487,130.764 272.487,312.204 \n",
       "  \"/>\n",
       "<circle clip-path=\"url(#clip6600)\" cx=\"380.487\" cy=\"191.244\" r=\"21\" fill=\"#009af9\" fill-rule=\"evenodd\" fill-opacity=\"0.6\" stroke=\"#000000\" stroke-opacity=\"0.6\" stroke-width=\"3.2\"/>\n",
       "<path clip-path=\"url(#clip6600)\" d=\"M 0 0 M464.487 173.964 L471.454 173.964 L480.274 197.482 L489.14 173.964 L496.107 173.964 L496.107 208.524 L491.547 208.524 L491.547 178.177 L482.635 201.881 L477.936 201.881 L469.024 178.177 L469.024 208.524 L464.487 208.524 L464.487 173.964 Z\" fill=\"#000000\" fill-rule=\"evenodd\" fill-opacity=\"1\" /><path clip-path=\"url(#clip6600)\" d=\"M 0 0 M522.75 194.496 L522.75 196.58 L503.167 196.58 Q503.445 200.978 505.806 203.293 Q508.19 205.584 512.426 205.584 Q514.88 205.584 517.172 204.982 Q519.487 204.381 521.755 203.177 L521.755 207.205 Q519.463 208.177 517.056 208.686 Q514.649 209.195 512.172 209.195 Q505.968 209.195 502.334 205.584 Q498.723 201.973 498.723 195.816 Q498.723 189.45 502.149 185.723 Q505.598 181.973 511.431 181.973 Q516.663 181.973 519.695 185.353 Q522.75 188.709 522.75 194.496 M518.491 193.246 Q518.445 189.751 516.524 187.668 Q514.626 185.584 511.477 185.584 Q507.913 185.584 505.76 187.598 Q503.63 189.612 503.306 193.27 L518.491 193.246 Z\" fill=\"#000000\" fill-rule=\"evenodd\" fill-opacity=\"1\" /><path clip-path=\"url(#clip6600)\" d=\"M 0 0 M539 195.492 Q533.838 195.492 531.848 196.672 Q529.857 197.853 529.857 200.7 Q529.857 202.969 531.338 204.311 Q532.843 205.631 535.412 205.631 Q538.954 205.631 541.084 203.131 Q543.236 200.607 543.236 196.441 L543.236 195.492 L539 195.492 M547.496 193.733 L547.496 208.524 L543.236 208.524 L543.236 204.589 Q541.778 206.95 539.602 208.084 Q537.426 209.195 534.278 209.195 Q530.297 209.195 527.936 206.973 Q525.598 204.728 525.598 200.978 Q525.598 196.603 528.514 194.381 Q531.454 192.158 537.264 192.158 L543.236 192.158 L543.236 191.742 Q543.236 188.802 541.292 187.205 Q539.371 185.584 535.875 185.584 Q533.653 185.584 531.547 186.117 Q529.44 186.649 527.496 187.714 L527.496 183.779 Q529.834 182.876 532.033 182.436 Q534.232 181.973 536.315 181.973 Q541.94 181.973 544.718 184.89 Q547.496 187.807 547.496 193.733 Z\" fill=\"#000000\" fill-rule=\"evenodd\" fill-opacity=\"1\" /><path clip-path=\"url(#clip6600)\" d=\"M 0 0 M573.514 192.876 L573.514 208.524 L569.255 208.524 L569.255 193.015 Q569.255 189.334 567.82 187.506 Q566.384 185.677 563.514 185.677 Q560.065 185.677 558.074 187.876 Q556.084 190.075 556.084 193.871 L556.084 208.524 L551.801 208.524 L551.801 182.598 L556.084 182.598 L556.084 186.626 Q557.611 184.288 559.672 183.131 Q561.755 181.973 564.463 181.973 Q568.931 181.973 571.222 184.751 Q573.514 187.506 573.514 192.876 Z\" fill=\"#000000\" fill-rule=\"evenodd\" fill-opacity=\"1\" /><path clip-path=\"url(#clip6600)\" d=\"M 0 0 M593.236 173.964 L615.088 173.964 L615.088 177.899 L597.912 177.899 L597.912 188.131 L614.37 188.131 L614.37 192.066 L597.912 192.066 L597.912 204.589 L615.505 204.589 L615.505 208.524 L593.236 208.524 L593.236 173.964 Z\" fill=\"#000000\" fill-rule=\"evenodd\" fill-opacity=\"1\" /><path clip-path=\"url(#clip6600)\" d=\"M 0 0 M636.5 183.362 L636.5 187.39 Q634.694 186.464 632.75 186.001 Q630.805 185.538 628.722 185.538 Q625.551 185.538 623.954 186.51 Q622.38 187.483 622.38 189.427 Q622.38 190.908 623.514 191.765 Q624.648 192.598 628.074 193.362 L629.532 193.686 Q634.069 194.658 635.967 196.441 Q637.889 198.2 637.889 201.371 Q637.889 204.982 635.018 207.089 Q632.171 209.195 627.171 209.195 Q625.088 209.195 622.819 208.779 Q620.574 208.385 618.074 207.575 L618.074 203.177 Q620.435 204.404 622.727 205.029 Q625.018 205.631 627.264 205.631 Q630.273 205.631 631.893 204.612 Q633.514 203.57 633.514 201.695 Q633.514 199.959 632.333 199.033 Q631.176 198.107 627.217 197.251 L625.736 196.904 Q621.778 196.07 620.018 194.358 Q618.259 192.621 618.259 189.612 Q618.259 185.955 620.852 183.964 Q623.444 181.973 628.213 181.973 Q630.574 181.973 632.657 182.321 Q634.741 182.668 636.5 183.362 Z\" fill=\"#000000\" fill-rule=\"evenodd\" fill-opacity=\"1\" /><path clip-path=\"url(#clip6600)\" d=\"M 0 0 M646.569 175.237 L646.569 182.598 L655.342 182.598 L655.342 185.908 L646.569 185.908 L646.569 199.982 Q646.569 203.154 647.426 204.057 Q648.305 204.959 650.967 204.959 L655.342 204.959 L655.342 208.524 L650.967 208.524 Q646.037 208.524 644.162 206.695 Q642.287 204.844 642.287 199.982 L642.287 185.908 L639.162 185.908 L639.162 182.598 L642.287 182.598 L642.287 175.237 L646.569 175.237 Z\" fill=\"#000000\" fill-rule=\"evenodd\" fill-opacity=\"1\" /><path clip-path=\"url(#clip6600)\" d=\"M 0 0 M659.81 182.598 L664.069 182.598 L664.069 208.524 L659.81 208.524 L659.81 182.598 M659.81 172.506 L664.069 172.506 L664.069 177.899 L659.81 177.899 L659.81 172.506 Z\" fill=\"#000000\" fill-rule=\"evenodd\" fill-opacity=\"1\" /><path clip-path=\"url(#clip6600)\" d=\"M 0 0 M688.722 187.575 Q690.319 184.705 692.541 183.339 Q694.763 181.973 697.773 181.973 Q701.824 181.973 704.023 184.821 Q706.222 187.645 706.222 192.876 L706.222 208.524 L701.939 208.524 L701.939 193.015 Q701.939 189.288 700.62 187.483 Q699.3 185.677 696.592 185.677 Q693.282 185.677 691.361 187.876 Q689.439 190.075 689.439 193.871 L689.439 208.524 L685.157 208.524 L685.157 193.015 Q685.157 189.265 683.838 187.483 Q682.518 185.677 679.764 185.677 Q676.5 185.677 674.578 187.899 Q672.657 190.098 672.657 193.871 L672.657 208.524 L668.375 208.524 L668.375 182.598 L672.657 182.598 L672.657 186.626 Q674.115 184.242 676.152 183.108 Q678.189 181.973 680.99 181.973 Q683.814 181.973 685.782 183.408 Q687.773 184.844 688.722 187.575 Z\" fill=\"#000000\" fill-rule=\"evenodd\" fill-opacity=\"1\" /><path clip-path=\"url(#clip6600)\" d=\"M 0 0 M722.472 195.492 Q717.31 195.492 715.319 196.672 Q713.328 197.853 713.328 200.7 Q713.328 202.969 714.81 204.311 Q716.314 205.631 718.884 205.631 Q722.425 205.631 724.555 203.131 Q726.708 200.607 726.708 196.441 L726.708 195.492 L722.472 195.492 M730.967 193.733 L730.967 208.524 L726.708 208.524 L726.708 204.589 Q725.249 206.95 723.073 208.084 Q720.898 209.195 717.749 209.195 Q713.768 209.195 711.407 206.973 Q709.069 204.728 709.069 200.978 Q709.069 196.603 711.986 194.381 Q714.925 192.158 720.736 192.158 L726.708 192.158 L726.708 191.742 Q726.708 188.802 724.763 187.205 Q722.842 185.584 719.347 185.584 Q717.124 185.584 715.018 186.117 Q712.911 186.649 710.967 187.714 L710.967 183.779 Q713.305 182.876 715.504 182.436 Q717.703 181.973 719.786 181.973 Q725.411 181.973 728.189 184.89 Q730.967 187.807 730.967 193.733 Z\" fill=\"#000000\" fill-rule=\"evenodd\" fill-opacity=\"1\" /><path clip-path=\"url(#clip6600)\" d=\"M 0 0 M739.647 175.237 L739.647 182.598 L748.421 182.598 L748.421 185.908 L739.647 185.908 L739.647 199.982 Q739.647 203.154 740.504 204.057 Q741.384 204.959 744.046 204.959 L748.421 204.959 L748.421 208.524 L744.046 208.524 Q739.115 208.524 737.24 206.695 Q735.365 204.844 735.365 199.982 L735.365 185.908 L732.24 185.908 L732.24 182.598 L735.365 182.598 L735.365 175.237 L739.647 175.237 Z\" fill=\"#000000\" fill-rule=\"evenodd\" fill-opacity=\"1\" /><path clip-path=\"url(#clip6600)\" d=\"M 0 0 M775.064 194.496 L775.064 196.58 L755.481 196.58 Q755.758 200.978 758.12 203.293 Q760.504 205.584 764.74 205.584 Q767.194 205.584 769.485 204.982 Q771.8 204.381 774.069 203.177 L774.069 207.205 Q771.777 208.177 769.37 208.686 Q766.962 209.195 764.485 209.195 Q758.282 209.195 754.647 205.584 Q751.036 201.973 751.036 195.816 Q751.036 189.45 754.462 185.723 Q757.911 181.973 763.745 181.973 Q768.976 181.973 772.008 185.353 Q775.064 188.709 775.064 194.496 M770.805 193.246 Q770.758 189.751 768.837 187.668 Q766.939 185.584 763.791 185.584 Q760.226 185.584 758.073 187.598 Q755.944 189.612 755.62 193.27 L770.805 193.246 Z\" fill=\"#000000\" fill-rule=\"evenodd\" fill-opacity=\"1\" /><path clip-path=\"url(#clip6600)\" d=\"M 0 0 M811.939 178.802 L811.939 191.695 L824.832 191.695 L824.832 195.631 L811.939 195.631 L811.939 208.524 L808.05 208.524 L808.05 195.631 L795.156 195.631 L795.156 191.695 L808.05 191.695 L808.05 178.802 L811.939 178.802 Z\" fill=\"#000000\" fill-rule=\"evenodd\" fill-opacity=\"1\" /><path clip-path=\"url(#clip6600)\" d=\"M 0 0 M870.434 176.626 L870.434 181.557 Q868.073 179.358 865.388 178.27 Q862.725 177.182 859.716 177.182 Q853.79 177.182 850.642 180.816 Q847.494 184.427 847.494 191.279 Q847.494 198.107 850.642 201.742 Q853.79 205.353 859.716 205.353 Q862.725 205.353 865.388 204.265 Q868.073 203.177 870.434 200.978 L870.434 205.862 Q867.98 207.529 865.225 208.362 Q862.494 209.195 859.438 209.195 Q851.591 209.195 847.077 204.404 Q842.564 199.589 842.564 191.279 Q842.564 182.946 847.077 178.154 Q851.591 173.339 859.438 173.339 Q862.54 173.339 865.272 174.172 Q868.026 174.983 870.434 176.626 Z\" fill=\"#000000\" fill-rule=\"evenodd\" fill-opacity=\"1\" /><path clip-path=\"url(#clip6600)\" d=\"M 0 0 M875.087 173.964 L879.762 173.964 L879.762 208.524 L875.087 208.524 L875.087 173.964 Z\" fill=\"#000000\" fill-rule=\"evenodd\" fill-opacity=\"1\" /><polyline clip-path=\"url(#clip6600)\" style=\"stroke:#e26f46; stroke-width:8; stroke-opacity:1; fill:none\" stroke-dasharray=\"32, 20\" points=\"\n",
       "  296.487,251.724 440.487,251.724 \n",
       "  \"/>\n",
       "<path clip-path=\"url(#clip6600)\" d=\"M 0 0 M468.769 265.115 L468.769 278.865 L464.487 278.865 L464.487 243.078 L468.769 243.078 L468.769 247.013 Q470.112 244.699 472.149 243.588 Q474.209 242.453 477.056 242.453 Q481.778 242.453 484.718 246.203 Q487.681 249.953 487.681 256.064 Q487.681 262.175 484.718 265.925 Q481.778 269.675 477.056 269.675 Q474.209 269.675 472.149 268.564 Q470.112 267.43 468.769 265.115 M483.26 256.064 Q483.26 251.365 481.316 248.703 Q479.394 246.018 476.015 246.018 Q472.635 246.018 470.691 248.703 Q468.769 251.365 468.769 256.064 Q468.769 260.763 470.691 263.449 Q472.635 266.111 476.015 266.111 Q479.394 266.111 481.316 263.449 Q483.26 260.763 483.26 256.064 Z\" fill=\"#000000\" fill-rule=\"evenodd\" fill-opacity=\"1\" /><path clip-path=\"url(#clip6600)\" d=\"M 0 0 M492.149 243.078 L496.408 243.078 L496.408 269.004 L492.149 269.004 L492.149 243.078 M492.149 232.986 L496.408 232.986 L496.408 238.379 L492.149 238.379 L492.149 232.986 Z\" fill=\"#000000\" fill-rule=\"evenodd\" fill-opacity=\"1\" /></svg>\n"
      ]
     },
     "execution_count": 144,
     "metadata": {},
     "output_type": "execute_result"
    }
   ],
   "source": [
    "plot_results(parsed_results.threads,\n",
    "    parsed_results.mean_estimate,\n",
    "    \"pi\",\n",
    "    \"Mean Estimate + CI\",\n",
    "    hline = [pi for i in 1:nrow(parsed_results)],\n",
    "    yerror = parsed_results.ci_estimate)"
   ]
  }
 ],
 "metadata": {
  "kernelspec": {
   "display_name": "Julia 1.3.0",
   "language": "julia",
   "name": "julia-1.3"
  },
  "language_info": {
   "file_extension": ".jl",
   "mimetype": "application/julia",
   "name": "julia",
   "version": "1.3.0"
  }
 },
 "nbformat": 4,
 "nbformat_minor": 2
}
