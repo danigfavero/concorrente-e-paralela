{
 "cells": [
  {
   "cell_type": "markdown",
   "metadata": {},
   "source": [
    "# EP2 - Cálculo do Conjunto de Mandelbrot em Paralelo com CUDA e OpenMPI\n",
    "\n",
    "30 de Junho de 2020\n",
    "\n",
    "## Membros do grupo\n",
    "\n",
    "| Nome | NUSP |\n",
    "|------|------|\n",
    "| Carolina Marques | 10737101 |\n",
    "| Daniela Favero | 10277443 |\n",
    "| Miguel Ostrowski | 10723610 |\n",
    "| Raphael Ribeiro | 10281601 |\n",
    "\n",
    "## Pacotes Julia\n",
    "\n",
    "Instalando os pacotes necessários que estão listados no arquivo `Project.toml`:"
   ]
  },
  {
   "cell_type": "code",
   "execution_count": 29,
   "metadata": {},
   "outputs": [
    {
     "name": "stdout",
     "output_type": "stream",
     "text": [
      "\u001b[2K\u001b[?25h[1mFetching:\u001b[22m\u001b[39m [========================================>]  100.0 %.0 %"
     ]
    },
    {
     "name": "stderr",
     "output_type": "stream",
     "text": [
      "\u001b[32m\u001b[1m   Updating\u001b[22m\u001b[39m registry at `~/.julia/registries/General`\n",
      "\u001b[32m\u001b[1m   Updating\u001b[22m\u001b[39m git-repo `https://github.com/JuliaRegistries/General.git`\n",
      "\u001b[32m\u001b[1m   Updating\u001b[22m\u001b[39m `~/Documentos/USP/concorrente-e-paralela/EP2/Project.toml`\n",
      "\u001b[90m [no changes]\u001b[39m\n",
      "\u001b[32m\u001b[1m   Updating\u001b[22m\u001b[39m `~/Documentos/USP/concorrente-e-paralela/EP2/Manifest.toml`\n",
      "\u001b[90m [no changes]\u001b[39m\n"
     ]
    }
   ],
   "source": [
    "] up"
   ]
  },
  {
   "cell_type": "markdown",
   "metadata": {},
   "source": [
    "Verificando o status dos pacotes:"
   ]
  },
  {
   "cell_type": "code",
   "execution_count": 30,
   "metadata": {},
   "outputs": [
    {
     "name": "stdout",
     "output_type": "stream",
     "text": [
      "\u001b[32m\u001b[1mStatus\u001b[22m\u001b[39m `~/Documentos/USP/concorrente-e-paralela/EP2/Project.toml`\n",
      " \u001b[90m [336ed68f]\u001b[39m\u001b[37m CSV v0.6.2\u001b[39m\n",
      " \u001b[90m [a93c6f00]\u001b[39m\u001b[37m DataFrames v0.21.2\u001b[39m\n",
      " \u001b[90m [31c24e10]\u001b[39m\u001b[37m Distributions v0.23.4\u001b[39m\n",
      " \u001b[90m [7073ff75]\u001b[39m\u001b[37m IJulia v1.21.2\u001b[39m\n",
      " \u001b[90m [8314cec4]\u001b[39m\u001b[37m PGFPlotsX v1.2.7\u001b[39m\n",
      " \u001b[90m [1a8c2f83]\u001b[39m\u001b[37m Query v0.12.2\u001b[39m\n",
      " \u001b[90m [f3b207a7]\u001b[39m\u001b[37m StatsPlots v0.14.6\u001b[39m\n"
     ]
    }
   ],
   "source": [
    "] st"
   ]
  },
  {
   "cell_type": "markdown",
   "metadata": {},
   "source": [
    "## Compilando\n",
    "\n",
    "Compilando e executando os códigos C pelo *modo shell*: \n"
   ]
  },
  {
   "cell_type": "code",
   "execution_count": 3,
   "metadata": {},
   "outputs": [
    {
     "name": "stdout",
     "output_type": "stream",
     "text": [
      "make: Nothing to be done for 'all'.\n"
     ]
    }
   ],
   "source": [
    "; make all"
   ]
  },
  {
   "cell_type": "code",
   "execution_count": 4,
   "metadata": {},
   "outputs": [
    {
     "name": "stdout",
     "output_type": "stream",
     "text": [
      "31.371680\n"
     ]
    }
   ],
   "source": [
    "; ./Cuda/mandelbrot_cuda -0.188 -0.012 0.554 0.754 4096 4 256"
   ]
  },
  {
   "cell_type": "markdown",
   "metadata": {},
   "source": [
    "Além de imprimir o tempo levado, o programa em C gera a seguinte imagem (gerada no formato ppm, tomamos liberdade para convertê-la para png e exibir aqui):\n",
    "\n",
    "<img src=\"output_cuda.png\" alt=\"mandelbrot_cuda\" width=\"400\"/>"
   ]
  },
  {
   "cell_type": "code",
   "execution_count": 5,
   "metadata": {},
   "outputs": [
    {
     "name": "stdout",
     "output_type": "stream",
     "text": [
      "7.629372\n"
     ]
    }
   ],
   "source": [
    "; mpirun --host localhost:4 ./MPI/mandelbrot_openmpi -0.188 -0.012 0.554 0.754 4096"
   ]
  },
  {
   "cell_type": "markdown",
   "metadata": {},
   "source": [
    "Imagem gerada, novamente a Triple Spiral Valley, dessa vez usando 4 processos com auxílio de OpenMPI:\n",
    "\n",
    "<img src=\"output_openmpi.png\" alt=\"mandelbrot_openmpi\" width=\"400\"/>"
   ]
  },
  {
   "cell_type": "markdown",
   "metadata": {},
   "source": [
    "## Experimentos\n",
    "\n",
    "### Funções úteis\n",
    "\n",
    "A função abaixo recebe parâmetros `size`, com tamanho da imagem, `file`, com o nome do programa a ser executado e `threads`, com o número de threads do programa paralelo. A função executa o programa `file` com os parâmetros dados e devolve um `DataFrame` com os resultados."
   ]
  },
  {
   "cell_type": "code",
   "execution_count": 38,
   "metadata": {},
   "outputs": [
    {
     "data": {
      "text/plain": [
       "measure_mandelbrot (generic function with 1 method)"
      ]
     },
     "execution_count": 38,
     "metadata": {},
     "output_type": "execute_result"
    }
   ],
   "source": [
    "using DataFrames, Query, StatsPlots, Statistics\n",
    "\n",
    "function measure_mandelbrot(size, file; processes=1, threads=1, blocks=1)\n",
    "    if file == \"MPI/mandelbrot_openmpi\"\n",
    "        results = parse.(Float64,\n",
    "            split(chomp(read(`mpirun --host localhost:$processes $file -2.5 1.5 -2.0 2.0 $size`, String)), \", \"))\n",
    "        return DataFrame(size = size,\n",
    "            file = file,\n",
    "            processes = processes, \n",
    "            duration = results[1])\n",
    "    elseif file == \"Cuda/mandelbrot_cuda\"\n",
    "        results = parse.(Float64,\n",
    "            split(chomp(read(`./$file -2.5 1.5 -2.0 2.0 $size $blocks $threads`, String)), \", \"))\n",
    "        return DataFrame(size = size,\n",
    "            file = file,\n",
    "            threads = threads,\n",
    "            blocks = blocks,\n",
    "            duration = results[1])\n",
    "    elseif file == \"MPI+CUDA/mandelbrot_openmpi+cuda\"\n",
    "        results = parse.(Float64,\n",
    "            split(chomp(read(`mpirun --host localhost:$processes $file -2.5 1.5 -2.0 2.0 $size $blocks $threads`, String)), \", \"))\n",
    "        return DataFrame(size = size,\n",
    "            file = file,\n",
    "            processes = processes, \n",
    "            threads = threads,\n",
    "            blocks = blocks,\n",
    "            duration = results[1])\n",
    "    elseif file == \"MPI+OMP/mandelbrot_openmpi+omp\"\n",
    "        results = parse.(Float64,\n",
    "            split(chomp(read(`mpirun --host localhost:$processes $file -2.5 1.5 -2.0 2.0 $size $threads`, String)), \", \"))\n",
    "        return DataFrame(size = size,\n",
    "            file = file,\n",
    "            processes = processes, \n",
    "            threads = threads,\n",
    "            duration = results[1])\n",
    "    else\n",
    "        results = parse.(Float64,\n",
    "            split(chomp(read(`./$file -2.5 1.5 -2.0 2.0 $size $threads`, String)), \", \"))\n",
    "        return DataFrame(size = size,\n",
    "            file = file,\n",
    "            threads=threads,\n",
    "            duration = results[1])\n",
    "    end\n",
    "end"
   ]
  },
  {
   "cell_type": "markdown",
   "metadata": {},
   "source": [
    "##TODO: Explicar melhor"
   ]
  },
  {
   "cell_type": "markdown",
   "metadata": {},
   "source": [
    "A função `run_experiments` recebe os mesmos parâmetros `size`, `file`, e `threads`, e um parâmetro adicional `repetitions`, com o número de repetições de cada experimento com um dado número de `threads`. A função devolve um `DataFrame` com todos os experimentos."
   ]
  },
  {
   "cell_type": "markdown",
   "metadata": {},
   "source": [
    "Função adaptada para cuda"
   ]
  },
  {
   "cell_type": "code",
   "execution_count": 39,
   "metadata": {},
   "outputs": [
    {
     "data": {
      "text/plain": [
       "run_experiments (generic function with 1 method)"
      ]
     },
     "execution_count": 39,
     "metadata": {},
     "output_type": "execute_result"
    }
   ],
   "source": [
    "using DataFrames\n",
    "function run_experiments(size, file, threads, repetitions)\n",
    "    run(`make all`)\n",
    "    \n",
    "    results = DataFrame(size = Int[],\n",
    "        file = String[],\n",
    "        threads = Int[],\n",
    "        duration = Float64[])  \n",
    "    \n",
    "    for t in threads\n",
    "        for r in 1:repetitions\n",
    "            append!(results,\n",
    "                measure_mandelbrot(size, file, threads=t))    \n",
    "        end\n",
    "    end\n",
    "    return results\n",
    "end"
   ]
  },
  {
   "cell_type": "code",
   "execution_count": 40,
   "metadata": {},
   "outputs": [
    {
     "data": {
      "text/plain": [
       "run_experiments_cuda (generic function with 1 method)"
      ]
     },
     "execution_count": 40,
     "metadata": {},
     "output_type": "execute_result"
    }
   ],
   "source": [
    "function run_experiments_cuda(size, file, threads, blocks, repetitions)\n",
    "    run(`make all`)\n",
    "    \n",
    "    results = DataFrame(size = Int[],\n",
    "        file = String[],\n",
    "        threads = Int[],\n",
    "        blocks = Int[],\n",
    "        duration = Float64[])  \n",
    "    \n",
    "    for t in threads\n",
    "        for b in blocks\n",
    "            for r in 1:repetitions\n",
    "                append!(results,\n",
    "                    measure_mandelbrot(size, file, threads=t, blocks=b)) \n",
    "            end\n",
    "        end\n",
    "    end\n",
    "    return results\n",
    "end"
   ]
  },
  {
   "cell_type": "code",
   "execution_count": 41,
   "metadata": {},
   "outputs": [
    {
     "data": {
      "text/plain": [
       "run_experiments_mpi (generic function with 1 method)"
      ]
     },
     "execution_count": 41,
     "metadata": {},
     "output_type": "execute_result"
    }
   ],
   "source": [
    "function run_experiments_mpi(size, file, processes)\n",
    "    run(`make all`)\n",
    "    \n",
    "    results = DataFrame(size = Int[],\n",
    "        file = String[],\n",
    "        processes = Int[],\n",
    "        duration = Float64[])  \n",
    "    \n",
    "    for p in processes\n",
    "        for r in 1:repetitions\n",
    "            append!(results,\n",
    "                measure_mandelbrot(size, file, processes=p)) \n",
    "        end\n",
    "    end\n",
    "    return results\n",
    "end"
   ]
  },
  {
   "cell_type": "code",
   "execution_count": 42,
   "metadata": {},
   "outputs": [
    {
     "data": {
      "text/plain": [
       "run_experiments_mpicuda (generic function with 1 method)"
      ]
     },
     "execution_count": 42,
     "metadata": {},
     "output_type": "execute_result"
    }
   ],
   "source": [
    "function run_experiments_mpicuda(size, file, processes, threads, blocks)\n",
    "    run(`make all`)\n",
    "    \n",
    "    results = DataFrame(size = Int[],\n",
    "        file = String[],\n",
    "        processes = Int[],\n",
    "        threads = Int[],\n",
    "        blocks = Int[],\n",
    "        duration = Float64[])  \n",
    "    \n",
    "    for p in processes\n",
    "        for t in threads\n",
    "            for b in blocks\n",
    "                for r in 1:repetitions\n",
    "                    append!(results,\n",
    "                        measure_mandelbrot(size, file, processes=p, threads=t, blocks=b)) \n",
    "                end\n",
    "            end\n",
    "        end\n",
    "    end\n",
    "    return results\n",
    "end"
   ]
  },
  {
   "cell_type": "code",
   "execution_count": 43,
   "metadata": {},
   "outputs": [
    {
     "data": {
      "text/plain": [
       "run_experiments_mpiomp (generic function with 1 method)"
      ]
     },
     "execution_count": 43,
     "metadata": {},
     "output_type": "execute_result"
    }
   ],
   "source": [
    "function run_experiments_mpiomp(size, file, processes, threads)\n",
    "    run(`make all`)\n",
    "    \n",
    "    results = DataFrame(size = Int[],\n",
    "        file = String[],\n",
    "        processes = Int[],\n",
    "        threads = Int[],\n",
    "        duration = Float64[])  \n",
    "    \n",
    "    for p in processes\n",
    "        for t in threads\n",
    "            for r in 1:repetitions\n",
    "                append!(results,\n",
    "                    measure_mandelbrot(size, file, processes=p, threads=t)) \n",
    "            end\n",
    "        end\n",
    "    end\n",
    "    return results\n",
    "end"
   ]
  },
  {
   "cell_type": "markdown",
   "metadata": {},
   "source": [
    "A função `parse_results` recebe um `DataFrame` de resultados, e produzido pela função `run_experiments`. A função devolve um `DataFrame` com a média e o intervalo de confiança da média a 95% dos tempos de execução, agrupados por número de threads."
   ]
  },
  {
   "cell_type": "code",
   "execution_count": 44,
   "metadata": {},
   "outputs": [
    {
     "data": {
      "text/plain": [
       "parse_results_threads (generic function with 1 method)"
      ]
     },
     "execution_count": 44,
     "metadata": {},
     "output_type": "execute_result"
    }
   ],
   "source": [
    "function parse_results_threads(results)\n",
    "    parsed_results = results |>\n",
    "                    @groupby(_.threads) |>\n",
    "                    @map({threads = key(_),\n",
    "                          mean_duration = mean(_.duration),\n",
    "                          ci_duration = 1.96 * std(_.duration)}) |>\n",
    "                    DataFrame\n",
    "    \n",
    "    return parsed_results\n",
    "end"
   ]
  },
  {
   "cell_type": "code",
   "execution_count": 45,
   "metadata": {},
   "outputs": [
    {
     "data": {
      "text/plain": [
       "parse_results_processes (generic function with 1 method)"
      ]
     },
     "execution_count": 45,
     "metadata": {},
     "output_type": "execute_result"
    }
   ],
   "source": [
    "function parse_results_processes(results)\n",
    "    parsed_results = results |>\n",
    "                    @groupby(_.processes) |>\n",
    "                    @map({processes = key(_),\n",
    "                          mean_duration = mean(_.duration),\n",
    "                          ci_duration = 1.96 * std(_.duration)}) |>\n",
    "                    DataFrame\n",
    "    \n",
    "    return parsed_results\n",
    "end"
   ]
  },
  {
   "cell_type": "code",
   "execution_count": 46,
   "metadata": {},
   "outputs": [
    {
     "data": {
      "text/plain": [
       "parse_results_blocks (generic function with 1 method)"
      ]
     },
     "execution_count": 46,
     "metadata": {},
     "output_type": "execute_result"
    }
   ],
   "source": [
    "function parse_results_blocks(results)\n",
    "    parsed_results = results |>\n",
    "                    @groupby(_.blocks) |>\n",
    "                    @map({blocks = key(_),\n",
    "                          mean_duration = mean(_.duration),\n",
    "                          ci_duration = 1.96 * std(_.duration)}) |>\n",
    "                    DataFrame\n",
    "    \n",
    "    return parsed_results\n",
    "end"
   ]
  },
  {
   "cell_type": "markdown",
   "metadata": {},
   "source": [
    "A função `save_csv_results`recebe um `DataFrame` e um nome de arquivo, e escreve o `DataFrame` em disco, no formato `.csv`, com o nome passado no argumento. A função `read_csv_results` recebe um nome de arquivo e lê o arquivo correspondente, devolvendo um `DataFrame`."
   ]
  },
  {
   "cell_type": "code",
   "execution_count": 47,
   "metadata": {},
   "outputs": [
    {
     "data": {
      "text/plain": [
       "save_csv_results (generic function with 1 method)"
      ]
     },
     "execution_count": 47,
     "metadata": {},
     "output_type": "execute_result"
    }
   ],
   "source": [
    "using CSV\n",
    "\n",
    "function save_csv_results(data_frame, file)\n",
    "    CSV.write(file, data_frame)\n",
    "end"
   ]
  },
  {
   "cell_type": "code",
   "execution_count": 48,
   "metadata": {},
   "outputs": [
    {
     "data": {
      "text/plain": [
       "read_csv_results (generic function with 1 method)"
      ]
     },
     "execution_count": 48,
     "metadata": {},
     "output_type": "execute_result"
    }
   ],
   "source": [
    "using CSV\n",
    "\n",
    "function read_csv_results(file)\n",
    "    return CSV.read(file)\n",
    "end"
   ]
  },
  {
   "cell_type": "markdown",
   "metadata": {},
   "source": [
    "A função `plot_results` faz dois tipos de gráfico: ela pode mostrar todos os resultados de um experimento, marcando pontos no plano cartesiano; e também pode mostrar o resultado dado pela média e traçar uma linha vertical delimitando o intervalo de confiança do conjunto de amostras recebido."
   ]
  },
  {
   "cell_type": "code",
   "execution_count": 49,
   "metadata": {},
   "outputs": [
    {
     "data": {
      "text/plain": [
       "plot_results (generic function with 1 method)"
      ]
     },
     "execution_count": 49,
     "metadata": {},
     "output_type": "execute_result"
    }
   ],
   "source": [
    "pgfplotsx()\n",
    "\n",
    "function plot_results(x, y, xlabel, ylabel; yerror=[], max_block_power=7)\n",
    "    if yerror != []\n",
    "        p = scatter(x,\n",
    "            y,\n",
    "            xaxis = :log2,\n",
    "            xlabel = xlabel,\n",
    "            xticks = [2 ^ x for x in 0:max_block_power],\n",
    "            yerror = yerror,\n",
    "            alpha = 0.6,\n",
    "            labels = ylabel,\n",
    "            legend = :topright)\n",
    "    else\n",
    "        p = scatter(x,\n",
    "            y,\n",
    "            xaxis = :log2,\n",
    "            xlabel = xlabel,\n",
    "            xticks = [2 ^ x for x in 0:max_block_power],\n",
    "            alpha = 0.6,\n",
    "            labels = ylabel,\n",
    "            legend = :topright)\n",
    "    end\n",
    "    return p\n",
    "end"
   ]
  },
  {
   "cell_type": "markdown",
   "metadata": {},
   "source": [
    "### Sequencial\n",
    "\n",
    "Realizando os experimentos rodando a célula abaixo."
   ]
  },
  {
   "cell_type": "code",
   "execution_count": 50,
   "metadata": {},
   "outputs": [
    {
     "name": "stdout",
     "output_type": "stream",
     "text": [
      "make: Nothing to be done for 'all'.\n"
     ]
    },
    {
     "data": {
      "text/plain": [
       "\"results_seq.csv\""
      ]
     },
     "execution_count": 50,
     "metadata": {},
     "output_type": "execute_result"
    }
   ],
   "source": [
    "threads = 1\n",
    "file = \"Sequential/mandelbrot_seq\"\n",
    "size = 4096\n",
    "repetitions = 15\n",
    "\n",
    "results = run_experiments(size, file, threads, repetitions)\n",
    "\n",
    "save_csv_results(results, \"results_seq.csv\")"
   ]
  },
  {
   "cell_type": "code",
   "execution_count": 51,
   "metadata": {},
   "outputs": [
    {
     "data": {
      "text/html": [
       "<table class=\"data-frame\"><thead><tr><th></th><th>size</th><th>file</th><th>threads</th><th>duration</th></tr><tr><th></th><th>Int64</th><th>String</th><th>Int64</th><th>Float64</th></tr></thead><tbody><p>15 rows × 4 columns</p><tr><th>1</th><td>4096</td><td>Sequential/mandelbrot_seq</td><td>1</td><td>2.33688</td></tr><tr><th>2</th><td>4096</td><td>Sequential/mandelbrot_seq</td><td>1</td><td>2.32141</td></tr><tr><th>3</th><td>4096</td><td>Sequential/mandelbrot_seq</td><td>1</td><td>2.34468</td></tr><tr><th>4</th><td>4096</td><td>Sequential/mandelbrot_seq</td><td>1</td><td>2.35436</td></tr><tr><th>5</th><td>4096</td><td>Sequential/mandelbrot_seq</td><td>1</td><td>2.34227</td></tr><tr><th>6</th><td>4096</td><td>Sequential/mandelbrot_seq</td><td>1</td><td>2.36013</td></tr><tr><th>7</th><td>4096</td><td>Sequential/mandelbrot_seq</td><td>1</td><td>2.35207</td></tr><tr><th>8</th><td>4096</td><td>Sequential/mandelbrot_seq</td><td>1</td><td>2.3578</td></tr><tr><th>9</th><td>4096</td><td>Sequential/mandelbrot_seq</td><td>1</td><td>2.35791</td></tr><tr><th>10</th><td>4096</td><td>Sequential/mandelbrot_seq</td><td>1</td><td>2.35993</td></tr><tr><th>11</th><td>4096</td><td>Sequential/mandelbrot_seq</td><td>1</td><td>2.36038</td></tr><tr><th>12</th><td>4096</td><td>Sequential/mandelbrot_seq</td><td>1</td><td>2.3585</td></tr><tr><th>13</th><td>4096</td><td>Sequential/mandelbrot_seq</td><td>1</td><td>2.35632</td></tr><tr><th>14</th><td>4096</td><td>Sequential/mandelbrot_seq</td><td>1</td><td>2.35649</td></tr><tr><th>15</th><td>4096</td><td>Sequential/mandelbrot_seq</td><td>1</td><td>2.35329</td></tr></tbody></table>"
      ],
      "text/latex": [
       "\\begin{tabular}{r|cccc}\n",
       "\t& size & file & threads & duration\\\\\n",
       "\t\\hline\n",
       "\t& Int64 & String & Int64 & Float64\\\\\n",
       "\t\\hline\n",
       "\t1 & 4096 & Sequential/mandelbrot\\_seq & 1 & 2.33688 \\\\\n",
       "\t2 & 4096 & Sequential/mandelbrot\\_seq & 1 & 2.32141 \\\\\n",
       "\t3 & 4096 & Sequential/mandelbrot\\_seq & 1 & 2.34468 \\\\\n",
       "\t4 & 4096 & Sequential/mandelbrot\\_seq & 1 & 2.35436 \\\\\n",
       "\t5 & 4096 & Sequential/mandelbrot\\_seq & 1 & 2.34227 \\\\\n",
       "\t6 & 4096 & Sequential/mandelbrot\\_seq & 1 & 2.36013 \\\\\n",
       "\t7 & 4096 & Sequential/mandelbrot\\_seq & 1 & 2.35207 \\\\\n",
       "\t8 & 4096 & Sequential/mandelbrot\\_seq & 1 & 2.3578 \\\\\n",
       "\t9 & 4096 & Sequential/mandelbrot\\_seq & 1 & 2.35791 \\\\\n",
       "\t10 & 4096 & Sequential/mandelbrot\\_seq & 1 & 2.35993 \\\\\n",
       "\t11 & 4096 & Sequential/mandelbrot\\_seq & 1 & 2.36038 \\\\\n",
       "\t12 & 4096 & Sequential/mandelbrot\\_seq & 1 & 2.3585 \\\\\n",
       "\t13 & 4096 & Sequential/mandelbrot\\_seq & 1 & 2.35632 \\\\\n",
       "\t14 & 4096 & Sequential/mandelbrot\\_seq & 1 & 2.35649 \\\\\n",
       "\t15 & 4096 & Sequential/mandelbrot\\_seq & 1 & 2.35329 \\\\\n",
       "\\end{tabular}\n"
      ],
      "text/plain": [
       "15×4 DataFrame\n",
       "│ Row │ size  │ file                      │ threads │ duration │\n",
       "│     │ \u001b[90mInt64\u001b[39m │ \u001b[90mString\u001b[39m                    │ \u001b[90mInt64\u001b[39m   │ \u001b[90mFloat64\u001b[39m  │\n",
       "├─────┼───────┼───────────────────────────┼─────────┼──────────┤\n",
       "│ 1   │ 4096  │ Sequential/mandelbrot_seq │ 1       │ 2.33688  │\n",
       "│ 2   │ 4096  │ Sequential/mandelbrot_seq │ 1       │ 2.32141  │\n",
       "│ 3   │ 4096  │ Sequential/mandelbrot_seq │ 1       │ 2.34468  │\n",
       "│ 4   │ 4096  │ Sequential/mandelbrot_seq │ 1       │ 2.35436  │\n",
       "│ 5   │ 4096  │ Sequential/mandelbrot_seq │ 1       │ 2.34227  │\n",
       "│ 6   │ 4096  │ Sequential/mandelbrot_seq │ 1       │ 2.36013  │\n",
       "│ 7   │ 4096  │ Sequential/mandelbrot_seq │ 1       │ 2.35207  │\n",
       "│ 8   │ 4096  │ Sequential/mandelbrot_seq │ 1       │ 2.3578   │\n",
       "│ 9   │ 4096  │ Sequential/mandelbrot_seq │ 1       │ 2.35791  │\n",
       "│ 10  │ 4096  │ Sequential/mandelbrot_seq │ 1       │ 2.35993  │\n",
       "│ 11  │ 4096  │ Sequential/mandelbrot_seq │ 1       │ 2.36038  │\n",
       "│ 12  │ 4096  │ Sequential/mandelbrot_seq │ 1       │ 2.3585   │\n",
       "│ 13  │ 4096  │ Sequential/mandelbrot_seq │ 1       │ 2.35632  │\n",
       "│ 14  │ 4096  │ Sequential/mandelbrot_seq │ 1       │ 2.35649  │\n",
       "│ 15  │ 4096  │ Sequential/mandelbrot_seq │ 1       │ 2.35329  │"
      ]
     },
     "execution_count": 51,
     "metadata": {},
     "output_type": "execute_result"
    }
   ],
   "source": [
    "results_seq = read_csv_results(\"results_seq.csv\")"
   ]
  },
  {
   "cell_type": "markdown",
   "metadata": {},
   "source": [
    "Veja no gráfico:"
   ]
  },
  {
   "cell_type": "markdown",
   "metadata": {},
   "source": [
    "### PThreads\n",
    "Realizando os experimentos rodando a célula abaixo, variando em número de threads."
   ]
  },
  {
   "cell_type": "code",
   "execution_count": 52,
   "metadata": {},
   "outputs": [
    {
     "name": "stdout",
     "output_type": "stream",
     "text": [
      "make: Nothing to be done for 'all'.\n"
     ]
    },
    {
     "data": {
      "text/plain": [
       "\"CSV/parsed_results_pth_t.csv\""
      ]
     },
     "execution_count": 52,
     "metadata": {},
     "output_type": "execute_result"
    }
   ],
   "source": [
    "size = 4096\n",
    "file = \"Pthreads/mandelbrot_pth\"\n",
    "threads = [2 ^ x for x in 0:7]\n",
    "repetitions = 15\n",
    "\n",
    "results = run_experiments(size, file, threads, repetitions)\n",
    "parsed_results = parse_results_threads(results)\n",
    "\n",
    "save_csv_results(results, \"CSV/results_pth_t.csv\")\n",
    "save_csv_results(parsed_results, \"CSV/parsed_results_pth_t.csv\")"
   ]
  },
  {
   "cell_type": "code",
   "execution_count": 53,
   "metadata": {},
   "outputs": [
    {
     "data": {
      "text/html": [
       "<table class=\"data-frame\"><thead><tr><th></th><th>threads</th><th>mean_duration</th><th>ci_duration</th></tr><tr><th></th><th>Int64</th><th>Float64</th><th>Float64</th></tr></thead><tbody><p>8 rows × 3 columns</p><tr><th>1</th><td>1</td><td>2.34531</td><td>0.0254834</td></tr><tr><th>2</th><td>2</td><td>1.1846</td><td>0.00571533</td></tr><tr><th>3</th><td>4</td><td>1.11951</td><td>0.014977</td></tr><tr><th>4</th><td>8</td><td>0.913057</td><td>0.0343542</td></tr><tr><th>5</th><td>16</td><td>0.638148</td><td>0.0605451</td></tr><tr><th>6</th><td>32</td><td>0.534529</td><td>0.0420827</td></tr><tr><th>7</th><td>64</td><td>0.498689</td><td>0.0302804</td></tr><tr><th>8</th><td>128</td><td>0.49348</td><td>0.0336628</td></tr></tbody></table>"
      ],
      "text/latex": [
       "\\begin{tabular}{r|ccc}\n",
       "\t& threads & mean\\_duration & ci\\_duration\\\\\n",
       "\t\\hline\n",
       "\t& Int64 & Float64 & Float64\\\\\n",
       "\t\\hline\n",
       "\t1 & 1 & 2.34531 & 0.0254834 \\\\\n",
       "\t2 & 2 & 1.1846 & 0.00571533 \\\\\n",
       "\t3 & 4 & 1.11951 & 0.014977 \\\\\n",
       "\t4 & 8 & 0.913057 & 0.0343542 \\\\\n",
       "\t5 & 16 & 0.638148 & 0.0605451 \\\\\n",
       "\t6 & 32 & 0.534529 & 0.0420827 \\\\\n",
       "\t7 & 64 & 0.498689 & 0.0302804 \\\\\n",
       "\t8 & 128 & 0.49348 & 0.0336628 \\\\\n",
       "\\end{tabular}\n"
      ],
      "text/plain": [
       "8×3 DataFrame\n",
       "│ Row │ threads │ mean_duration │ ci_duration │\n",
       "│     │ \u001b[90mInt64\u001b[39m   │ \u001b[90mFloat64\u001b[39m       │ \u001b[90mFloat64\u001b[39m     │\n",
       "├─────┼─────────┼───────────────┼─────────────┤\n",
       "│ 1   │ 1       │ 2.34531       │ 0.0254834   │\n",
       "│ 2   │ 2       │ 1.1846        │ 0.00571533  │\n",
       "│ 3   │ 4       │ 1.11951       │ 0.014977    │\n",
       "│ 4   │ 8       │ 0.913057      │ 0.0343542   │\n",
       "│ 5   │ 16      │ 0.638148      │ 0.0605451   │\n",
       "│ 6   │ 32      │ 0.534529      │ 0.0420827   │\n",
       "│ 7   │ 64      │ 0.498689      │ 0.0302804   │\n",
       "│ 8   │ 128     │ 0.49348       │ 0.0336628   │"
      ]
     },
     "execution_count": 53,
     "metadata": {},
     "output_type": "execute_result"
    }
   ],
   "source": [
    "results_pth_t = read_csv_results(\"CSV/results_pth_t.csv\")\n",
    "parsed_results_pth_t = read_csv_results(\"CSV/parsed_results_pth_t.csv\")"
   ]
  },
  {
   "cell_type": "code",
   "execution_count": 54,
   "metadata": {},
   "outputs": [
    {
     "data": {
      "text/html": [
       "<table class=\"data-frame\"><thead><tr><th></th><th>size</th><th>file</th><th>threads</th><th>duration</th></tr><tr><th></th><th>Int64</th><th>String</th><th>Int64</th><th>Float64</th></tr></thead><tbody><p>120 rows × 4 columns</p><tr><th>1</th><td>4096</td><td>Pthreads/mandelbrot_pth</td><td>1</td><td>2.33911</td></tr><tr><th>2</th><td>4096</td><td>Pthreads/mandelbrot_pth</td><td>1</td><td>2.33898</td></tr><tr><th>3</th><td>4096</td><td>Pthreads/mandelbrot_pth</td><td>1</td><td>2.32467</td></tr><tr><th>4</th><td>4096</td><td>Pthreads/mandelbrot_pth</td><td>1</td><td>2.35651</td></tr><tr><th>5</th><td>4096</td><td>Pthreads/mandelbrot_pth</td><td>1</td><td>2.35674</td></tr><tr><th>6</th><td>4096</td><td>Pthreads/mandelbrot_pth</td><td>1</td><td>2.3386</td></tr><tr><th>7</th><td>4096</td><td>Pthreads/mandelbrot_pth</td><td>1</td><td>2.33687</td></tr><tr><th>8</th><td>4096</td><td>Pthreads/mandelbrot_pth</td><td>1</td><td>2.34902</td></tr><tr><th>9</th><td>4096</td><td>Pthreads/mandelbrot_pth</td><td>1</td><td>2.36344</td></tr><tr><th>10</th><td>4096</td><td>Pthreads/mandelbrot_pth</td><td>1</td><td>2.36032</td></tr><tr><th>11</th><td>4096</td><td>Pthreads/mandelbrot_pth</td><td>1</td><td>2.34258</td></tr><tr><th>12</th><td>4096</td><td>Pthreads/mandelbrot_pth</td><td>1</td><td>2.32831</td></tr><tr><th>13</th><td>4096</td><td>Pthreads/mandelbrot_pth</td><td>1</td><td>2.35042</td></tr><tr><th>14</th><td>4096</td><td>Pthreads/mandelbrot_pth</td><td>1</td><td>2.32983</td></tr><tr><th>15</th><td>4096</td><td>Pthreads/mandelbrot_pth</td><td>1</td><td>2.36427</td></tr><tr><th>16</th><td>4096</td><td>Pthreads/mandelbrot_pth</td><td>2</td><td>1.18269</td></tr><tr><th>17</th><td>4096</td><td>Pthreads/mandelbrot_pth</td><td>2</td><td>1.18704</td></tr><tr><th>18</th><td>4096</td><td>Pthreads/mandelbrot_pth</td><td>2</td><td>1.18307</td></tr><tr><th>19</th><td>4096</td><td>Pthreads/mandelbrot_pth</td><td>2</td><td>1.18814</td></tr><tr><th>20</th><td>4096</td><td>Pthreads/mandelbrot_pth</td><td>2</td><td>1.18446</td></tr><tr><th>21</th><td>4096</td><td>Pthreads/mandelbrot_pth</td><td>2</td><td>1.19115</td></tr><tr><th>22</th><td>4096</td><td>Pthreads/mandelbrot_pth</td><td>2</td><td>1.18359</td></tr><tr><th>23</th><td>4096</td><td>Pthreads/mandelbrot_pth</td><td>2</td><td>1.18512</td></tr><tr><th>24</th><td>4096</td><td>Pthreads/mandelbrot_pth</td><td>2</td><td>1.18316</td></tr><tr><th>25</th><td>4096</td><td>Pthreads/mandelbrot_pth</td><td>2</td><td>1.18373</td></tr><tr><th>26</th><td>4096</td><td>Pthreads/mandelbrot_pth</td><td>2</td><td>1.18894</td></tr><tr><th>27</th><td>4096</td><td>Pthreads/mandelbrot_pth</td><td>2</td><td>1.18166</td></tr><tr><th>28</th><td>4096</td><td>Pthreads/mandelbrot_pth</td><td>2</td><td>1.18176</td></tr><tr><th>29</th><td>4096</td><td>Pthreads/mandelbrot_pth</td><td>2</td><td>1.18274</td></tr><tr><th>30</th><td>4096</td><td>Pthreads/mandelbrot_pth</td><td>2</td><td>1.18169</td></tr><tr><th>&vellip;</th><td>&vellip;</td><td>&vellip;</td><td>&vellip;</td><td>&vellip;</td></tr></tbody></table>"
      ],
      "text/latex": [
       "\\begin{tabular}{r|cccc}\n",
       "\t& size & file & threads & duration\\\\\n",
       "\t\\hline\n",
       "\t& Int64 & String & Int64 & Float64\\\\\n",
       "\t\\hline\n",
       "\t1 & 4096 & Pthreads/mandelbrot\\_pth & 1 & 2.33911 \\\\\n",
       "\t2 & 4096 & Pthreads/mandelbrot\\_pth & 1 & 2.33898 \\\\\n",
       "\t3 & 4096 & Pthreads/mandelbrot\\_pth & 1 & 2.32467 \\\\\n",
       "\t4 & 4096 & Pthreads/mandelbrot\\_pth & 1 & 2.35651 \\\\\n",
       "\t5 & 4096 & Pthreads/mandelbrot\\_pth & 1 & 2.35674 \\\\\n",
       "\t6 & 4096 & Pthreads/mandelbrot\\_pth & 1 & 2.3386 \\\\\n",
       "\t7 & 4096 & Pthreads/mandelbrot\\_pth & 1 & 2.33687 \\\\\n",
       "\t8 & 4096 & Pthreads/mandelbrot\\_pth & 1 & 2.34902 \\\\\n",
       "\t9 & 4096 & Pthreads/mandelbrot\\_pth & 1 & 2.36344 \\\\\n",
       "\t10 & 4096 & Pthreads/mandelbrot\\_pth & 1 & 2.36032 \\\\\n",
       "\t11 & 4096 & Pthreads/mandelbrot\\_pth & 1 & 2.34258 \\\\\n",
       "\t12 & 4096 & Pthreads/mandelbrot\\_pth & 1 & 2.32831 \\\\\n",
       "\t13 & 4096 & Pthreads/mandelbrot\\_pth & 1 & 2.35042 \\\\\n",
       "\t14 & 4096 & Pthreads/mandelbrot\\_pth & 1 & 2.32983 \\\\\n",
       "\t15 & 4096 & Pthreads/mandelbrot\\_pth & 1 & 2.36427 \\\\\n",
       "\t16 & 4096 & Pthreads/mandelbrot\\_pth & 2 & 1.18269 \\\\\n",
       "\t17 & 4096 & Pthreads/mandelbrot\\_pth & 2 & 1.18704 \\\\\n",
       "\t18 & 4096 & Pthreads/mandelbrot\\_pth & 2 & 1.18307 \\\\\n",
       "\t19 & 4096 & Pthreads/mandelbrot\\_pth & 2 & 1.18814 \\\\\n",
       "\t20 & 4096 & Pthreads/mandelbrot\\_pth & 2 & 1.18446 \\\\\n",
       "\t21 & 4096 & Pthreads/mandelbrot\\_pth & 2 & 1.19115 \\\\\n",
       "\t22 & 4096 & Pthreads/mandelbrot\\_pth & 2 & 1.18359 \\\\\n",
       "\t23 & 4096 & Pthreads/mandelbrot\\_pth & 2 & 1.18512 \\\\\n",
       "\t24 & 4096 & Pthreads/mandelbrot\\_pth & 2 & 1.18316 \\\\\n",
       "\t25 & 4096 & Pthreads/mandelbrot\\_pth & 2 & 1.18373 \\\\\n",
       "\t26 & 4096 & Pthreads/mandelbrot\\_pth & 2 & 1.18894 \\\\\n",
       "\t27 & 4096 & Pthreads/mandelbrot\\_pth & 2 & 1.18166 \\\\\n",
       "\t28 & 4096 & Pthreads/mandelbrot\\_pth & 2 & 1.18176 \\\\\n",
       "\t29 & 4096 & Pthreads/mandelbrot\\_pth & 2 & 1.18274 \\\\\n",
       "\t30 & 4096 & Pthreads/mandelbrot\\_pth & 2 & 1.18169 \\\\\n",
       "\t$\\dots$ & $\\dots$ & $\\dots$ & $\\dots$ & $\\dots$ \\\\\n",
       "\\end{tabular}\n"
      ],
      "text/plain": [
       "120×4 DataFrame\n",
       "│ Row │ size  │ file                    │ threads │ duration │\n",
       "│     │ \u001b[90mInt64\u001b[39m │ \u001b[90mString\u001b[39m                  │ \u001b[90mInt64\u001b[39m   │ \u001b[90mFloat64\u001b[39m  │\n",
       "├─────┼───────┼─────────────────────────┼─────────┼──────────┤\n",
       "│ 1   │ 4096  │ Pthreads/mandelbrot_pth │ 1       │ 2.33911  │\n",
       "│ 2   │ 4096  │ Pthreads/mandelbrot_pth │ 1       │ 2.33898  │\n",
       "│ 3   │ 4096  │ Pthreads/mandelbrot_pth │ 1       │ 2.32467  │\n",
       "│ 4   │ 4096  │ Pthreads/mandelbrot_pth │ 1       │ 2.35651  │\n",
       "│ 5   │ 4096  │ Pthreads/mandelbrot_pth │ 1       │ 2.35674  │\n",
       "│ 6   │ 4096  │ Pthreads/mandelbrot_pth │ 1       │ 2.3386   │\n",
       "│ 7   │ 4096  │ Pthreads/mandelbrot_pth │ 1       │ 2.33687  │\n",
       "│ 8   │ 4096  │ Pthreads/mandelbrot_pth │ 1       │ 2.34902  │\n",
       "│ 9   │ 4096  │ Pthreads/mandelbrot_pth │ 1       │ 2.36344  │\n",
       "│ 10  │ 4096  │ Pthreads/mandelbrot_pth │ 1       │ 2.36032  │\n",
       "⋮\n",
       "│ 110 │ 4096  │ Pthreads/mandelbrot_pth │ 128     │ 0.484321 │\n",
       "│ 111 │ 4096  │ Pthreads/mandelbrot_pth │ 128     │ 0.503777 │\n",
       "│ 112 │ 4096  │ Pthreads/mandelbrot_pth │ 128     │ 0.502831 │\n",
       "│ 113 │ 4096  │ Pthreads/mandelbrot_pth │ 128     │ 0.471634 │\n",
       "│ 114 │ 4096  │ Pthreads/mandelbrot_pth │ 128     │ 0.492402 │\n",
       "│ 115 │ 4096  │ Pthreads/mandelbrot_pth │ 128     │ 0.481432 │\n",
       "│ 116 │ 4096  │ Pthreads/mandelbrot_pth │ 128     │ 0.484781 │\n",
       "│ 117 │ 4096  │ Pthreads/mandelbrot_pth │ 128     │ 0.472151 │\n",
       "│ 118 │ 4096  │ Pthreads/mandelbrot_pth │ 128     │ 0.487618 │\n",
       "│ 119 │ 4096  │ Pthreads/mandelbrot_pth │ 128     │ 0.525471 │\n",
       "│ 120 │ 4096  │ Pthreads/mandelbrot_pth │ 128     │ 0.492892 │"
      ]
     },
     "execution_count": 54,
     "metadata": {},
     "output_type": "execute_result"
    }
   ],
   "source": [
    "results_pth_t"
   ]
  },
  {
   "cell_type": "markdown",
   "metadata": {},
   "source": [
    "Veja no gráfico:"
   ]
  },
  {
   "cell_type": "code",
   "execution_count": 57,
   "metadata": {},
   "outputs": [
    {
     "ename": "MethodError",
     "evalue": "MethodError: Cannot `convert` an object of type Pair{String,RGBA{Float64}} to an object of type OrderedCollections.OrderedDict{Any,Any}\nClosest candidates are:\n  convert(::Type{OrderedCollections.OrderedDict{K,V}}, !Matched::OrderedCollections.OrderedDict{K,V}) where {K, V} at /home/locus/.julia/packages/OrderedCollections/P6ntV/src/ordered_dict.jl:113\n  convert(::Type{OrderedCollections.OrderedDict{K,V}}, !Matched::AbstractDict) where {K, V} at /home/locus/.julia/packages/OrderedCollections/P6ntV/src/ordered_dict.jl:99\n  convert(::Type{T}, !Matched::T) where T<:AbstractDict at abstractdict.jl:486\n  ...",
     "output_type": "error",
     "traceback": [
      "MethodError: Cannot `convert` an object of type Pair{String,RGBA{Float64}} to an object of type OrderedCollections.OrderedDict{Any,Any}\nClosest candidates are:\n  convert(::Type{OrderedCollections.OrderedDict{K,V}}, !Matched::OrderedCollections.OrderedDict{K,V}) where {K, V} at /home/locus/.julia/packages/OrderedCollections/P6ntV/src/ordered_dict.jl:113\n  convert(::Type{OrderedCollections.OrderedDict{K,V}}, !Matched::AbstractDict) where {K, V} at /home/locus/.julia/packages/OrderedCollections/P6ntV/src/ordered_dict.jl:99\n  convert(::Type{T}, !Matched::T) where T<:AbstractDict at abstractdict.jl:486\n  ...",
      "",
      "Stacktrace:",
      " [1] PGFPlotsX.Options(::Pair{String,RGBA{Float64}}, ::Pair{String,Float64}) at /home/locus/.julia/packages/PGFPlotsX/gbWW3/src/options.jl:2",
      " [2] (::Plots.PGFPlotsXPlot)(::Plots.Plot{Plots.PGFPlotsXBackend}) at /home/locus/.julia/packages/Plots/c4EAv/src/backends/pgfplotsx.jl:104",
      " [3] _update_plot_object(::Plots.Plot{Plots.PGFPlotsXBackend}) at /home/locus/.julia/packages/Plots/c4EAv/src/backends/pgfplotsx.jl:1265",
      " [4] prepare_output(::Plots.Plot{Plots.PGFPlotsXBackend}) at /home/locus/.julia/packages/Plots/c4EAv/src/plot.jl:196",
      " [5] show(::Base.GenericIOBuffer{Array{UInt8,1}}, ::MIME{Symbol(\"image/svg+xml\")}, ::Plots.Plot{Plots.PGFPlotsXBackend}) at /home/locus/.julia/packages/Plots/c4EAv/src/output.jl:214",
      " [6] sprint(::Function, ::MIME{Symbol(\"image/svg+xml\")}, ::Vararg{Any,N} where N; context::Nothing, sizehint::Int64) at ./strings/io.jl:105",
      " [7] sprint at ./strings/io.jl:101 [inlined]",
      " [8] _ijulia_display_dict(::Plots.Plot{Plots.PGFPlotsXBackend}) at /home/locus/.julia/packages/Plots/c4EAv/src/ijulia.jl:53",
      " [9] display_dict(::Plots.Plot{Plots.PGFPlotsXBackend}) at /home/locus/.julia/packages/Plots/c4EAv/src/init.jl:73",
      " [10] #invokelatest#1 at ./essentials.jl:712 [inlined]",
      " [11] invokelatest at ./essentials.jl:711 [inlined]",
      " [12] execute_request(::ZMQ.Socket, ::IJulia.Msg) at /home/locus/.julia/packages/IJulia/DrVMH/src/execute_request.jl:112",
      " [13] #invokelatest#1 at ./essentials.jl:712 [inlined]",
      " [14] invokelatest at ./essentials.jl:711 [inlined]",
      " [15] eventloop(::ZMQ.Socket) at /home/locus/.julia/packages/IJulia/DrVMH/src/eventloop.jl:8",
      " [16] (::IJulia.var\"#15#18\")() at ./task.jl:358"
     ]
    }
   ],
   "source": [
    "plot_results(results_pth_t.threads,\n",
    "    results_pth_t.duration,\n",
    "    \"Threads\",\n",
    "    \"Duration\",\n",
    "    max_block_power = 7)"
   ]
  },
  {
   "cell_type": "code",
   "execution_count": null,
   "metadata": {},
   "outputs": [],
   "source": [
    "plot_results_thread(parsed_results.threads,\n",
    "    parsed_results.mean_duration,\n",
    "    \"Threads\",\n",
    "    \"Mean Duration + CI\",\n",
    "    yerror = parsed_results.ci_duration,\n",
    "    max_thread_power = 7)"
   ]
  },
  {
   "cell_type": "markdown",
   "metadata": {},
   "source": [
    "### OpenMP\n",
    "Realizando os experimentos rodando a célula abaixo, variando em número de threads."
   ]
  },
  {
   "cell_type": "code",
   "execution_count": 37,
   "metadata": {},
   "outputs": [
    {
     "name": "stdout",
     "output_type": "stream",
     "text": [
      "make: Nothing to be done for 'all'.\n"
     ]
    },
    {
     "ename": "UndefVarError",
     "evalue": "UndefVarError: Dataframe not defined",
     "output_type": "error",
     "traceback": [
      "UndefVarError: Dataframe not defined",
      "",
      "Stacktrace:",
      " [1] measure_mandelbrot(::Int64, ::String; processes::Int64, threads::Int64, blocks::Int64) at ./In[35]:39",
      " [2] run_experiments(::Int64, ::String, ::Array{Int64,1}, ::Int64) at ./In[36]:12",
      " [3] top-level scope at In[37]:5"
     ]
    }
   ],
   "source": [
    "size = 4096\n",
    "file = \"OMP/mandelbrot_omp\"\n",
    "threads = [2 ^ x for x in 0:7]\n",
    "repetitions = 1\n",
    "\n",
    "results = run_experiments(size, file, threads, repetitions)\n",
    "parsed_results = parse_results_threads(results)\n",
    "\n",
    "save_csv_results(results, \"CSV/results_omp_t.csv\")\n",
    "save_csv_results(parsed_results, \"CSV/parsed_results_omp_t.csv\")"
   ]
  },
  {
   "cell_type": "code",
   "execution_count": null,
   "metadata": {},
   "outputs": [],
   "source": []
  },
  {
   "cell_type": "markdown",
   "metadata": {},
   "source": [
    "Veja no gráfico:"
   ]
  },
  {
   "cell_type": "code",
   "execution_count": null,
   "metadata": {},
   "outputs": [],
   "source": [
    "plot_results(results.threads,\n",
    "    results.duration,\n",
    "    \"Threads\",\n",
    "    \"Duration\",\n",
    "    max_thread_power = 7)"
   ]
  },
  {
   "cell_type": "code",
   "execution_count": null,
   "metadata": {},
   "outputs": [],
   "source": [
    "plot_results(parsed_results.threads,\n",
    "    parsed_results.mean_duration,\n",
    "    \"Threads\",\n",
    "    \"Mean Duration + CI\",\n",
    "    yerror = parsed_results.ci_duration,\n",
    "    max_thread_power = 7)"
   ]
  },
  {
   "cell_type": "markdown",
   "metadata": {},
   "source": [
    "### CUDA\n",
    "Realizando os experimentos rodando a célula abaixo, variando em número de blocos e mantendo numero de threads por bloco em 256"
   ]
  },
  {
   "cell_type": "code",
   "execution_count": null,
   "metadata": {},
   "outputs": [],
   "source": [
    "size = 4096\n",
    "file = \"Cuda/mandelbrot_cuda\"\n",
    "blocks = [2 ^ x for x in 0:6]\n",
    "threads = 256\n",
    "repetitions = 3\n",
    "\n",
    "results = run_experiments_cuda(size, file, threads, repetitions,blocks)\n",
    "parsed_results = parse_results_threads(results)\n",
    "\n",
    "save_csv_results(results, \"CSV/results_cuda_blocks.csv\")"
   ]
  },
  {
   "cell_type": "code",
   "execution_count": null,
   "metadata": {},
   "outputs": [],
   "source": []
  },
  {
   "cell_type": "code",
   "execution_count": null,
   "metadata": {},
   "outputs": [],
   "source": [
    "plot_results(results.threads,\n",
    "    results.duration,\n",
    "    \"Threads\",\n",
    "    \"Duration\",\n",
    "    max_thread_power = 7)"
   ]
  },
  {
   "cell_type": "code",
   "execution_count": null,
   "metadata": {},
   "outputs": [],
   "source": [
    "plot_results_thread(parsed_results.threads,\n",
    "    parsed_results.mean_duration,\n",
    "    \"Threads\",\n",
    "    \"Mean Duration + CI\",\n",
    "    yerror = parsed_results.ci_duration,\n",
    "    max_thread_power = 7)"
   ]
  },
  {
   "cell_type": "markdown",
   "metadata": {},
   "source": [
    "Agora mantemos fixo numero de blocos igual a 4 e variamos o numero de threads por bloco"
   ]
  },
  {
   "cell_type": "code",
   "execution_count": null,
   "metadata": {},
   "outputs": [],
   "source": [
    "size = 4096\n",
    "file = \"CUDA/mandelbrot_cuda\"\n",
    "blocks = 4\n",
    "threads = [2 ^ x for x in 0:6]\n",
    "repetitions = 15\n",
    "\n",
    "results = run_experiments(size, file, processes, blocks, threads, repetitions)\n",
    "parsed_results = parse_results_threads(results)\n",
    "\n",
    "save_csv_results(results, \"CSV/results_cuda_threads.csv\")"
   ]
  },
  {
   "cell_type": "code",
   "execution_count": null,
   "metadata": {},
   "outputs": [],
   "source": []
  },
  {
   "cell_type": "code",
   "execution_count": null,
   "metadata": {},
   "outputs": [],
   "source": [
    "plot_results(results.threads,\n",
    "    results.duration,\n",
    "    \"Threads\",\n",
    "    \"Duration\",\n",
    "    max_thread_power = 7)"
   ]
  },
  {
   "cell_type": "code",
   "execution_count": null,
   "metadata": {},
   "outputs": [],
   "source": [
    "plot_results_thread(parsed_results.threads,\n",
    "    parsed_results.mean_duration,\n",
    "    \"Threads\",\n",
    "    \"Mean Duration + CI\",\n",
    "    yerror = parsed_results.ci_duration,\n",
    "    max_thread_power = 7)"
   ]
  },
  {
   "cell_type": "markdown",
   "metadata": {},
   "source": [
    "### OpenMPI\n",
    "Realizando os experimentos rodando a célula abaixo, variando em número de processos."
   ]
  },
  {
   "cell_type": "code",
   "execution_count": null,
   "metadata": {},
   "outputs": [],
   "source": [
    "size = 4096\n",
    "file = \"mandelbrot_openmpi\"\n",
    "processes = [2 ^ x for x in 0:6]\n",
    "repetitions = 15\n",
    "\n",
    "results = run_experiments(size, file, processes=processes, repetitions=repetitions)\n",
    "parsed_results = parse_results_processes(results)\n",
    "\n",
    "save_csv_results(results, \"CSV/results_openmpi_t.csv\")\n",
    "results_omp_t = read_csv_results(\"CSV/results_openmpi_t.csv\")"
   ]
  },
  {
   "cell_type": "markdown",
   "metadata": {},
   "source": [
    "Veja no gráfico:"
   ]
  },
  {
   "cell_type": "code",
   "execution_count": null,
   "metadata": {},
   "outputs": [],
   "source": [
    "plot_results(results.processes,\n",
    "    results.duration,\n",
    "    \"Processes\",\n",
    "    \"Duration\",\n",
    "    max_thread_power = 6)"
   ]
  },
  {
   "cell_type": "code",
   "execution_count": null,
   "metadata": {},
   "outputs": [],
   "source": [
    "plot_results_thread(parsed_results.processes,\n",
    "    parsed_results.mean_duration,\n",
    "    \"Processes\",\n",
    "    \"Mean Duration + CI\",\n",
    "    yerror = parsed_results.ci_duration,\n",
    "    max_thread_power = 6)"
   ]
  },
  {
   "cell_type": "markdown",
   "metadata": {},
   "source": [
    "### OpenMPI + OMP\n",
    "Realizando os experimentos rodando a célula abaixo, variando em número de procesos, mantendo fixo numero de threads em 4"
   ]
  },
  {
   "cell_type": "code",
   "execution_count": null,
   "metadata": {},
   "outputs": [],
   "source": [
    "size = 4096\n",
    "file = \"MPI+OMP/mandelbrot_openmpi+omp\"\n",
    "processes = [2 ^ x for x in 0:6]\n",
    "threads = 4\n",
    "repetitions = 15\n",
    "\n",
    "results = run_experiments(size, file, processes=processes, threads=threads, repetitions=repetitions)\n",
    "parsed_results = parse_results_processes(results)\n",
    "\n",
    "save_csv_results(results, \"CSV/results_mpi+omp_processes.csv\")\n",
    "results_omp_t = read_csv_results(\"CSV/results_mpi+omp_processes.csv\")"
   ]
  },
  {
   "cell_type": "code",
   "execution_count": null,
   "metadata": {},
   "outputs": [],
   "source": [
    "plot_results(results.processes,\n",
    "    results.duration,\n",
    "    \"Processes\",\n",
    "    \"Duration\",\n",
    "    max_thread_power = 6)"
   ]
  },
  {
   "cell_type": "code",
   "execution_count": null,
   "metadata": {},
   "outputs": [],
   "source": [
    "plot_results_thread(parsed_results.processes,\n",
    "    parsed_results.mean_duration,\n",
    "    \"Processes\",\n",
    "    \"Mean Duration + CI\",\n",
    "    yerror = parsed_results.ci_duration,\n",
    "    max_thread_power = 6)"
   ]
  },
  {
   "cell_type": "markdown",
   "metadata": {},
   "source": [
    "Agora mantemos fixo o número de processes em 2 e variamos o número de threads"
   ]
  },
  {
   "cell_type": "code",
   "execution_count": null,
   "metadata": {},
   "outputs": [],
   "source": [
    "size = 4096\n",
    "file = \"MPI+OMP/mandelbrot_openmpi+omp\"\n",
    "processes = [2 ^ x for x in 0:6]\n",
    "threads = [2 ^ x for x in 0:7]\n",
    "repetitions = 15\n",
    "\n",
    "results = run_experiments(size, file, processes=processes, threads=threads, repetitions=repetitions)\n",
    "parsed_results = parse_results_threads(results)\n",
    "\n",
    "save_csv_results(results, \"CSV/results_mpi+omp_threads.csv\")\n",
    "results_omp_t = read_csv_results(\"CSV/results_mpi+omp_threads.csv\")"
   ]
  },
  {
   "cell_type": "code",
   "execution_count": null,
   "metadata": {},
   "outputs": [],
   "source": [
    "plot_results(results.threads,\n",
    "    results.duration,\n",
    "    \"Threads\",\n",
    "    \"Duration\",\n",
    "    max_thread_power = 7)"
   ]
  },
  {
   "cell_type": "code",
   "execution_count": null,
   "metadata": {},
   "outputs": [],
   "source": [
    "plot_results_thread(parsed_results.threads,\n",
    "    parsed_results.mean_duration,\n",
    "    \"Threads\",\n",
    "    \"Mean Duration + CI\",\n",
    "    yerror = parsed_results.ci_duration,\n",
    "    max_thread_power = 7)"
   ]
  },
  {
   "cell_type": "markdown",
   "metadata": {},
   "source": [
    "### OpenMPI + CUDA\n",
    "Realizando os experimentos rodando a célula abaixo, variando em número de processos, mantendo fixo numero de blocos igual a 4 e numero de threads por bloco em 512."
   ]
  },
  {
   "cell_type": "code",
   "execution_count": null,
   "metadata": {},
   "outputs": [],
   "source": [
    "size = 4096\n",
    "file = \"MPI+Cuda/mandelbrot_openmpi+cuda\"\n",
    "processes = [2 ^ x for x in 0:6]\n",
    "blocos = 4\n",
    "threads = 512\n",
    "repetitions = 15\n",
    "\n",
    "results = run_experiments(size, file, processes=processes, threads=threads, repetitions=repetitions)\n",
    "parsed_results = parse_results_processes(results)\n",
    "\n",
    "save_csv_results(results, \"CSV/results_mpi+cuda_processes.csv\")\n",
    "results_omp_t = read_csv_results(\"CSV/results_mpi+cuda_processes.csv\")"
   ]
  },
  {
   "cell_type": "code",
   "execution_count": null,
   "metadata": {},
   "outputs": [],
   "source": [
    "plot_results(results.processes,\n",
    "    results.duration,\n",
    "    \"Processes\",\n",
    "    \"Duration\",\n",
    "    max_thread_power = 6)"
   ]
  },
  {
   "cell_type": "code",
   "execution_count": null,
   "metadata": {},
   "outputs": [],
   "source": [
    "plot_results_thread(parsed_results.threads,\n",
    "    parsed_results.mean_duration,\n",
    "    \"Threads\",\n",
    "    \"Mean Duration + CI\",\n",
    "    yerror = parsed_results.ci_duration,\n",
    "    max_thread_power = 7)"
   ]
  },
  {
   "cell_type": "markdown",
   "metadata": {},
   "source": [
    "Agora mantemos fixo o numero de processos em 2, numero de threads por bloco em 512, e variamos o numero de blocos"
   ]
  },
  {
   "cell_type": "code",
   "execution_count": null,
   "metadata": {},
   "outputs": [],
   "source": [
    "size = 4096\n",
    "file = \"MPI+Cuda/mandelbrot_openmpi+cuda\"\n",
    "processes = 2\n",
    "blocos = [2 ^ x for x in 0:6]\n",
    "threads = 512\n",
    "repetitions = 15\n",
    "\n",
    "results = run_experiments(size, file, processes=processes, threads=threads, repetitions=repetitions)\n",
    "parsed_results = parse_results_blocks(results)\n",
    "\n",
    "save_csv_results(results, \"CSV/results_mpi+cuda_blocos.csv\")"
   ]
  },
  {
   "cell_type": "code",
   "execution_count": null,
   "metadata": {},
   "outputs": [],
   "source": [
    "results_mpicuda_b = read_csv_results(\"CSV/results_mpi+cuda_blocos.csv\")"
   ]
  },
  {
   "cell_type": "code",
   "execution_count": null,
   "metadata": {},
   "outputs": [],
   "source": [
    "plot_results(results_mpicuda_b.blocks,\n",
    "    results_mpicuda_b.duration,\n",
    "    \"Blocks\",\n",
    "    \"Duration\",\n",
    "    max_thread_power = 6)"
   ]
  },
  {
   "cell_type": "code",
   "execution_count": null,
   "metadata": {},
   "outputs": [],
   "source": [
    "plot_results_thread(parsed_results.threads,\n",
    "    parsed_results.mean_duration,\n",
    "    \"Threads\",\n",
    "    \"Mean Duration + CI\",\n",
    "    yerror = parsed_results.ci_duration,\n",
    "    max_thread_power = 7)"
   ]
  },
  {
   "cell_type": "markdown",
   "metadata": {},
   "source": [
    "Agora mantemos fixo o numero de processos em 2, numero de blocos em 4, e variamos o numero de threads por bloco."
   ]
  },
  {
   "cell_type": "code",
   "execution_count": null,
   "metadata": {},
   "outputs": [],
   "source": [
    "size = 4096\n",
    "file = \"MPI+Cuda/mandelbrot_openmpi+cuda\"\n",
    "processes = 2\n",
    "blocos = 4\n",
    "threads = [2 ^ x for x in 0:11]\n",
    "repetitions = 15\n",
    "\n",
    "results = run_experiments(size, file, processes=processes, threads=threads, repetitions=repetitions)\n",
    "parsed_results_mpicuda_t = parse_results_threads(results)\n",
    "save_csv_results(parsed_results_mpicuda_t, \"CSV/parsed_results_mpicuda_t.csv\")\n",
    "save_csv_results(results, \"CSV/results_mpi+cuda_threads.csv\")"
   ]
  },
  {
   "cell_type": "code",
   "execution_count": null,
   "metadata": {},
   "outputs": [],
   "source": [
    "results_mpicuda_t = read_csv_results(\"CSV/results_mpi+cuda_threads.csv\")\n",
    "parsed_results_mpicuda_t = read_csv_results(\"CSV/parsed_results_mpicuda_t.csv\")"
   ]
  },
  {
   "cell_type": "code",
   "execution_count": null,
   "metadata": {},
   "outputs": [],
   "source": [
    "plot_results(results_mpicuda_t.threads,\n",
    "    results_mpicuda_t.duration,\n",
    "    \"Threads\",\n",
    "    \"Duration\",\n",
    "    max_thread_power = 11)"
   ]
  },
  {
   "cell_type": "code",
   "execution_count": null,
   "metadata": {},
   "outputs": [],
   "source": [
    "plot_results_thread(parsed_results_mpicuda_t.threads,\n",
    "    parsed_results_mpicuda_t.mean_duration,\n",
    "    \"Threads\",\n",
    "    \"Mean Duration + CI\",\n",
    "    yerror = parsed_results_mpicuda_t.ci_duration,\n",
    "    max_thread_power = 11)"
   ]
  },
  {
   "cell_type": "markdown",
   "metadata": {},
   "source": [
    "## Discussão\n",
    "\n",
    "### Comportamento conforme as variações\n",
    "\n",
    "**O tamanho da entrada**  \n",
    "O tempo de execução do programa cresce de forma quadrática quando se aumenta o tamanho da entrada, pois é necessario rodar o método NxN vezes, sendo N o tamanho da entrada. E isso acontece nos 3 casos (sequencial, Pthreads, OpenMP) já que isso depende do método de Mandelbrot.\n",
    "\n",
    "**O número de threads**  \n",
    "Tanto utilizando Pthreads quanto OpenMP, é possível observar que com o aumento do número de threads existe uma diminuição do tempo de execução do programa. No entanto, a partir de certo ponto o overhead operacional supera o ganho da paralelização.\n",
    "\n",
    "### Operações I/O e alocação de memória\n",
    "O impacto das operações de I/O e alocação de memória no tempo de execução deveria se mostrar mais significativo no OpenMP porque elas são feitas de forma implícita, de modo que a medição de tempo não pode desconsiderá-las. Surpreendentemente, o tempo do programa se mantém mais ou menos parecido (utilizando o mesmo número de threads) no Pthreads e no OpenMP. Supomos que isso ocorre porque o OpenMP deve conter uma série de otimizações que permite compensar o overhead.\n",
    "\n",
    "### Perguntas interessantes\n",
    "**Por que o tempo continua diminuindo mesmo após superar o número de núcleos do computador (com Pthreads)?**  \n",
    "Isso se dá devido ao modo como o sistema operacional gerencia o tempo de execução de cada processo. O paralelismo simulado com concorrência, permite que, mesmo com o número de threads superando o número de núcleos, a eficiência do programa continue aumentando."
   ]
  }
 ],
 "metadata": {
  "kernelspec": {
   "display_name": "Julia 1.4.2",
   "language": "julia",
   "name": "julia-1.4"
  },
  "language_info": {
   "file_extension": ".jl",
   "mimetype": "application/julia",
   "name": "julia",
   "version": "1.4.2"
  }
 },
 "nbformat": 4,
 "nbformat_minor": 4
}
